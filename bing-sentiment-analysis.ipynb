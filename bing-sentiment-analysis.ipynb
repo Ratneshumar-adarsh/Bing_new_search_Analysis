{
 "cells": [
  {
   "cell_type": "code",
   "execution_count": 0,
   "metadata": {
    "application/vnd.databricks.v1+cell": {
     "cellMetadata": {
      "byteLimit": 2048000,
      "rowLimit": 10000
     },
     "inputWidgets": {},
     "nuid": "c100aee5-a41c-455a-b376-3d99da0ab05d",
     "showTitle": false,
     "title": ""
    }
   },
   "outputs": [
    {
     "output_type": "stream",
     "name": "stdout",
     "output_type": "stream",
     "text": [
      "\u001B[43mNote: you may need to restart the kernel using dbutils.library.restartPython() to use updated packages.\u001B[0m\nRequirement already satisfied: nltk in /local_disk0/.ephemeral_nfs/envs/pythonEnv-dc18f8cd-2101-435a-8694-57cd2519693c/lib/python3.10/site-packages (3.9.1)\nRequirement already satisfied: click in /databricks/python3/lib/python3.10/site-packages (from nltk) (8.0.4)\nRequirement already satisfied: joblib in /databricks/python3/lib/python3.10/site-packages (from nltk) (1.2.0)\nRequirement already satisfied: tqdm in /local_disk0/.ephemeral_nfs/envs/pythonEnv-dc18f8cd-2101-435a-8694-57cd2519693c/lib/python3.10/site-packages (from nltk) (4.66.5)\nRequirement already satisfied: regex>=2021.8.3 in /local_disk0/.ephemeral_nfs/envs/pythonEnv-dc18f8cd-2101-435a-8694-57cd2519693c/lib/python3.10/site-packages (from nltk) (2024.7.24)\n\u001B[43mNote: you may need to restart the kernel using dbutils.library.restartPython() to use updated packages.\u001B[0m\n"
     ]
    }
   ],
   "source": [
    "%pip install nltk"
   ]
  },
  {
   "cell_type": "code",
   "execution_count": 0,
   "metadata": {
    "application/vnd.databricks.v1+cell": {
     "cellMetadata": {
      "byteLimit": 2048000,
      "rowLimit": 10000
     },
     "inputWidgets": {},
     "nuid": "169c7203-df77-4111-8dcf-1b77737f61aa",
     "showTitle": false,
     "title": ""
    }
   },
   "outputs": [],
   "source": [
    "configs = {\"fs.azure.account.auth.type\": \"OAuth\",\n",
    "\"fs.azure.account.oauth.provider.type\": \"org.apache.hadoop.fs.azurebfs.oauth2.ClientCredsTokenProvider\",\n",
    "\"fs.azure.account.oauth2.client.id\": \"client_id\",\n",
    "\"fs.azure.account.oauth2.client.secret\": 'secret_id',\n",
    "\"fs.azure.account.oauth2.client.endpoint\": \"https://login.microsoftonline.com/token_id/oauth2/token\"}"
   ]
  },
  {
   "cell_type": "code",
   "execution_count": 0,
   "metadata": {
    "application/vnd.databricks.v1+cell": {
     "cellMetadata": {
      "byteLimit": 2048000,
      "rowLimit": 10000
     },
     "inputWidgets": {},
     "nuid": "f968f12e-a75b-4550-81e4-51808734a87a",
     "showTitle": false,
     "title": ""
    }
   },
   "outputs": [],
   "source": [
    "# dbutils.fs.mount(\n",
    "#     source=\"abfss://bing-data@bingdatastorage.dfs.core.windows.net\", #container@storage_account_name\n",
    "#     mount_point='/mnt/bing',\n",
    "#     extra_configs =configs\n",
    "# )"
   ]
  },
  {
   "cell_type": "code",
   "execution_count": 0,
   "metadata": {
    "application/vnd.databricks.v1+cell": {
     "cellMetadata": {
      "byteLimit": 2048000,
      "rowLimit": 10000
     },
     "inputWidgets": {},
     "nuid": "b0017a1e-8b1a-41b1-ac05-c2163289d8ff",
     "showTitle": false,
     "title": ""
    },
    "microsoft": {
     "language": "python"
    }
   },
   "outputs": [
    {
     "output_type": "display_data",
     "data": {
      "text/html": [
       "<style scoped>\n",
       "  .table-result-container {\n",
       "    max-height: 300px;\n",
       "    overflow: auto;\n",
       "  }\n",
       "  table, th, td {\n",
       "    border: 1px solid black;\n",
       "    border-collapse: collapse;\n",
       "  }\n",
       "  th, td {\n",
       "    padding: 5px;\n",
       "  }\n",
       "  th {\n",
       "    text-align: left;\n",
       "  }\n",
       "</style><div class='table-result-container'><table class='table-result'><thead style='background-color: white'><tr><th>title</th><th>description</th><th>category</th><th>url</th><th>image</th><th>provider</th><th>datePublished</th></tr></thead><tbody><tr><td>Georgia school shooting latest: 14-year-old suspect set to appear in court</td><td>The 14-year-old boy accused of fatally shooting four people at a Georgia high school was expected to make his first court appearance Friday.</td><td>null</td><td>https://6abc.com/post/georgia-high-school-shooting-colt-gray-teen-suspect-accused-apalachee-hs-due-court/15273486/</td><td>null</td><td>6abc News</td><td>06-09-2024</td></tr><tr><td>Georgia school shooting latest: 14-year-old suspect charged with murder, father also charged</td><td>The 14-year-old suspect behind Wednesday's deadly school shooting in Georgia has been charged with four counts of felony murder.</td><td>null</td><td>https://abc13.com/post/georgia-high-school-shooting-questions-surround-weapon-motive-deadly-incident-apalachee/15270304/</td><td>null</td><td>abc13</td><td>06-09-2024</td></tr><tr><td>The latest in the 2024 presidential race</td><td>With just days until the debate, Donald Trump is traveling to battleground North Carolina this afternoon while Vice President Kamala Harris is expected to continue to prepare for the event in Pennsylvania.</td><td>Politics</td><td>https://edition.cnn.com/politics/live-news/trump-harris-election-09-06-24/index.html</td><td>https://www.bing.com/th?id=OVFT.CZzav2isTPHdHcJhBXw-zi&pid=News</td><td>CNN</td><td>06-09-2024</td></tr><tr><td>September 6 Georgia school shooting news</td><td>The teen suspected in the deadly mass shooting at a Georgia high school and his father had initial hearings in court Friday morning. Follow for live news updates.</td><td>null</td><td>https://edition.cnn.com/us/live-news/georgia-shooting-apalachee-high-school-09-06-24</td><td>https://www.bing.com/th?id=OVFT.MjvEGDEO5zR9VQAQCFeqCS&pid=News</td><td>CNN</td><td>06-09-2024</td></tr><tr><td>Opinion: Canada must model Norway's balanced energy sector</td><td>Canada needs to recognize itself as the energy giant that it is, and more importantly, realize how much greater of a giant it can be, while also being a leader in the energy transition. Unfortunately, we lack a cohesive, pragmatic culture and a fact-based narrative around energy, especially around fossil fuels, to take us to the next level.</td><td>Business</td><td>https://nationalpost.com/opinion/opinion-canada-must-model-norways-balanced-energy-sector</td><td>https://www.bing.com/th?id=OVFT.y1p7S37SRz3PBssKqc8xqi&pid=News</td><td>National Post</td><td>06-09-2024</td></tr><tr><td>Stunning News of Trump Sentencing Delay Sends Message: MAGA Rage Works</td><td>The politics of this may play out fine for Kamala Harris. But once again, the legal system was cowed by Trump’s bullying and lawlessness.</td><td>Politics</td><td>https://newrepublic.com/article/185707/trump-sentencing-delay-maga-rage-works</td><td>https://www.bing.com/th?id=OVFT.E3WY-EDc1BphX5PFX_uIWS&pid=News</td><td>New Republic</td><td>07-09-2024</td></tr><tr><td>Afghanistan vs New Zealand One-Off Test: Date, Time, Venue, Live streaming, Tickets & More Details</td><td>Afghanistan are set to host New Zealand for a one-off Test match in India. Here's all the crucial details about the one-off Test.</td><td>Sports</td><td>https://news.abplive.com/sports/cricket/afghanistan-vs-new-zealand-test-greater-noida-date-time-venue-live-streaming-how-to-buy-tickets-1715603</td><td>https://www.bing.com/th?id=OVFT.oxtPfWa6dhthZliiqfsSSi&pid=News</td><td>abp LIVE</td><td>07-09-2024</td></tr><tr><td>'Life here is much more easy': Migrants tell Sky News why PM's pledge to 'smash the gangs' won't work</td><td>Migrants say they don't believe government efforts to tackle smuggling gangs will stop illegal migration, with \"thousands\" of people willing to take the money of those determined to get to the UK.</td><td>LifeStyle</td><td>https://news.sky.com/story/starmers-pledge-to-smash-the-gangs-wont-stop-small-boat-crossings-migrants-explain-why-13210689</td><td>https://www.bing.com/th?id=OVFT.stynnzLBt8KhhA6iVz1ATC&pid=News</td><td>Sky</td><td>06-09-2024</td></tr><tr><td>Three out of four parents of children with special educational needs and disabilities forced to give up work or cut hours, Sky News learns</td><td>In a survey commissioned by Sky News, parents of children with special educational needs and disabilities (SEND) said maintaining a job is difficult due to a lack of local authority help, while others blamed not enough school support and lack of employer flexibility.</td><td>LifeStyle</td><td>https://news.sky.com/story/three-out-of-four-parents-of-children-with-special-educational-needs-and-disabilities-forced-to-give-up-work-or-cut-hours-sky-news-learns-13210125</td><td>https://www.bing.com/th?id=OVFT.HZFLV2EfJyTHB2ZwXuxNli&pid=News</td><td>Sky</td><td>06-09-2024</td></tr><tr><td>Kate Middleton fans celebrate Princess of Wales’ ‘lovely’ new X post amid cancer battle</td><td>The Princess of Wales, 42, delighted fans on Friday with a sweet note on X congratulating TV presenter Dwayne Fields on becoming UK’s new Chief Scout.</td><td>Entertainment</td><td>https://pagesix.com/2024/09/06/royal-family/kate-middleton-fans-celebrate-princess-of-wales-new-x-post-amid-cancer-battle/</td><td>null</td><td>Page Six</td><td>06-09-2024</td></tr><tr><td>Sabrina Carpenter Put Kevin Bacon in Her New Song. His Reaction on FaceTime with His Daughter Is Perfect</td><td>Kevin Bacon shared a recent Instagram clip of the hilarious moment in which his daughter Sosie Bacon told him that Sabrina Carpenter's song 'Taste' seemingly references 'Six Degrees of Kevin Bacon.'</td><td>Entertainment</td><td>https://people.com/sabrina-carpenter-put-kevin-bacon-in-her-new-song-his-reaction-on-facetime-with-his-daughter-is-perfect-8707891</td><td>null</td><td>People</td><td>06-09-2024</td></tr><tr><td>Saskatchewan Election 2024 | Sask. Election News and Polls | CTV News Saskatchewan</td><td>Speaker cuts ties with Sask. Party, alleges he faced threats, harassment from gov't MLAs. The Speaker of the Saskatchewan Legislature Randy Weekes has severed ties with the Sask.</td><td>null</td><td>https://regina.ctvnews.ca/saskatchewan-election-2024</td><td>null</td><td>CTV News</td><td>06-09-2024</td></tr><tr><td>Breaking News Today Live Updates: Brij Bhushan Singh alleges Congress conspiracy after wrestlers join party ahead of Haryana polls</td><td>India news live updates: Brij Bhushan Singh alleges Congress conspiracy after wrestlers join party ahead of Haryana polls</td><td>LifeStyle</td><td>https://timesofindia.indiatimes.com/india/latest-india-world-news-live-updates-today-breaking-news-7th-september-2024/liveblog/113140773.cms</td><td>https://www.bing.com/th?id=OVFT.WZ-iCZZ5YwrvGNBhiecnfi&pid=News</td><td>Indiatimes</td><td>07-09-2024</td></tr><tr><td>Grains Turn Mixed Despite Strong New Crop Exports: Are the Markets Running Out of Gas?</td><td>He says the recent rally in the grains follows the seasonal patterns and while demand news and weather have been helpful, most of the push has been fund short covering. Crude oil tries to recover after one of the worst week's in a year, but what does that mean for the ag sector?</td><td>Business</td><td>https://www.agweb.com/markets/market-analysis/grains-turn-mixed-despite-strong-new-crop-exports-are-markets-running-out</td><td>null</td><td>AgWeb</td><td>06-09-2024</td></tr><tr><td>How Linkin Park found its way back with new singer Emily Armstrong</td><td>Linkin Park is back. Seven years after the death of frontman Chester Bennington, the band is back together with two new additions.</td><td>Entertainment</td><td>https://www.aol.com/entertainment/linkin-park-found-way-back-005301825.html</td><td>https://www.bing.com/th?id=OVFT.mJFEoC5kw43LgbfXjsANgy&pid=News</td><td>AOL</td><td>07-09-2024</td></tr><tr><td>Starmer Dublin visit 'marks new era' of friendship</td><td>Sir Keir Starmer will become the first British prime minister to visit the Republic of Ireland in five years on Saturday. Downing Street says it marks a \"new era of co-operation and friendship\" between Britain and Ireland.</td><td>Politics</td><td>https://www.bbc.co.uk/news/articles/cg58l93gz64o</td><td>https://www.bing.com/th?id=OVFT.DYeMXZArrUdQh6Wov34GDS&pid=News</td><td>BBC</td><td>07-09-2024</td></tr><tr><td>Plans for new sports pitches and pavilion approved</td><td>Plans for a new sports pavilion along with artificial and grass football pitches have been given the green light. The proposals, for land opposite Blackbird Close in Newdale, Telford, also include access improvements for vehicle and cycle parking, landscaping and other associated works.</td><td>null</td><td>https://www.bbc.co.uk/news/articles/cm23g014807o</td><td>https://www.bing.com/th?id=OVFT.hbGw5xXqNn-Q8txb07xPzy&pid=News</td><td>BBC</td><td>07-09-2024</td></tr><tr><td>Pope Francis urges stewardship of Papua New Guinea’s resources, peace among tribes</td><td>In his address to officials in Port Moresby, Pope Francis called for responsible use of natural resources, an end to tribal conflict, and celebrated Papua New Guinea's cultural diversity.</td><td>World</td><td>https://www.catholicnewsagency.com/news/259165/pope-francis-to-png-protect-nature-end-tribal-violence-embrace-diversity</td><td>null</td><td>Catholic News Agency</td><td>07-09-2024</td></tr><tr><td>How to watch every New England Patriots game in the 2024-2025 NFL season</td><td>The New England Patriots will play one Thursday Night Football game, 11 1 p.m. games and one NFL Network-exclusive game from London. You can watch the Patriots this season on CBS, NFL Network, Fox, and Prime Video. All times Eastern.</td><td>Sports</td><td>https://www.cbsnews.com/essentials/how-to-watch-every-new-england-patriots-game-in-the-2024-2025-nfl-season/</td><td>https://www.bing.com/th?id=OVFT.gKbs_SVVSJ8CCnhPsNq_My&pid=News</td><td>CBS News</td><td>06-09-2024</td></tr><tr><td>Judge delays sentencing in Trump's New York criminal case, pushing decision past election</td><td>Trump was convicted in May on 34 felony counts of falsifying business records in relation to a \"hush money\" payment to an adult film star before the 2016 election.</td><td>null</td><td>https://www.cbsnews.com/news/trump-sentencing-delay-hush-money-case-new-york/</td><td>https://www.bing.com/th?id=OVFT.ztoKdKkhPoQudrkhSrPzNC&pid=News</td><td>CBS News</td><td>06-09-2024</td></tr><tr><td>Newcastle United transfer news LIVE - Gordon's summer verdict, injury boost</td><td>All the latest Newcastle United news with the Magpies stars representing their countries on international duty</td><td>Sports</td><td>https://www.chroniclelive.co.uk/sport/football/football-news/newcastle-united-transfer-news-live-29881426</td><td>null</td><td>Evening Chronicle</td><td>06-09-2024</td></tr><tr><td>Mixed news on US jobs: Unemployment rate falls but hiring is slowing</td><td>The US economy is expected to have added 160,000 jobs last month and the unemployment rate likely dropped to 4.2% from 4.3%.</td><td>Business</td><td>https://www.cnn.com/business/live-news/us-jobs-report-august-2024/index.html</td><td>https://www.bing.com/th?id=OVFT._oHNZeSF4zvYz1s9JsMo8y&pid=News</td><td>CNN</td><td>06-09-2024</td></tr><tr><td>The latest on the Georgia high school shooting</td><td>The teen suspected in Wednesday’s deadly mass shooting at a Georgia high school will have an initial hearing in court Friday morning, the Georgia Department of Juvenile Justice tells CNN.</td><td>null</td><td>https://www.cnn.com/us/live-news/georgia-shooting-apalachee-high-school-09-06-24/index.html</td><td>https://www.bing.com/th?id=OVFT.MjvEGDEO5zR9VQAQCFeqCS&pid=News</td><td>CNN</td><td>06-09-2024</td></tr><tr><td>Erling Haaland 'closes on lucrative new Man City contract' - but Real Madrid hopes of signing superstar 'boosted by release clause'</td><td>Erling Haaland is reportedly close to committing his future to Manchester City by signing a lucrative contract extension - but the deal is expected to contain a release clause.</td><td>Sports</td><td>https://www.dailymail.co.uk/sport/football/article-13823961/Erling-Haaland-Man-City-contract-Real-Madrid-release-clause.html</td><td>null</td><td>Daily Mail</td><td>07-09-2024</td></tr><tr><td>iPhone 16 Release Date Latest: What To Expect When And Where</td><td>The countdown is on and the next iPhones are almost here. Here’s the latest on what’s happening when, including what the pricing is set to be, so nothing surprises you.</td><td>ScienceAndTechnology</td><td>https://www.forbes.com/sites/davidphelan/2024/09/06/iphone-16-release-date-latest-what-to-expect-when-and-where/</td><td>https://www.bing.com/th?id=OVFT.Mi8TQXahHPIzBa8JfJP_xi&pid=News</td><td>Forbes</td><td>06-09-2024</td></tr><tr><td>Very Bad News For ‘Rings Of Power’ Season 3, As Season 2 Viewership Plummets</td><td>ForbesThere’s Only One Good Thing About ‘The Rings Of Power’ Season 2 So FarBy Erik Kain According to Samba TV data, 1.8 million U.S. households watched the first episode of Season 1 within three days of it landing on Prime Video.</td><td>Entertainment</td><td>https://www.forbes.com/sites/erikkain/2024/09/05/very-bad-news-for-rings-of-power-season-3-as-season-2-viewership-plummets/</td><td>https://www.bing.com/th?id=OVFT.cteNcMfbsFStWkkS5HnJ5S&pid=News</td><td>Forbes</td><td>07-09-2024</td></tr><tr><td>Reese Witherspoon seen with new mystery man: what to know about wealthy NHL investor</td><td>Reese Witherspoon and financier Oliver Haarmann have been photographed together over the past few months. The pair have reportedly moved their relationship to the next level.</td><td>Entertainment</td><td>https://www.foxnews.com/entertainment/reese-witherspoon-seen-new-mystery-man-what-know-about-wealthy-nhl-investor</td><td>null</td><td>Fox News</td><td>07-09-2024</td></tr><tr><td>Conservative economists pour cold water on Harris' new small-business tax proposal</td><td>Conservative economists are pouring cold water on Vice President Kamala Harris' new tax proposal aimed at reducing startup costs for new small businesses as part of her \"Opportunity Economy\" platform.</td><td>Business</td><td>https://www.foxnews.com/politics/conservative-economists-pour-cold-water-harris-new-small-business-tax-proposal</td><td>https://www.bing.com/th?id=OVFT.4fKpvrT0j94QYJmX6N8mBi&pid=News</td><td>Fox News</td><td>07-09-2024</td></tr><tr><td>Live AFL finals scores 2024, Sydney Swans vs GWS Giants, First Qualifying Final: Updates, stats, blog, start time, teams, latest news</td><td>In contrast the Giants (4th, 15-8, 109.1%) won seven straight games to secure a top-four finish, before a Round 24 hiccup. They have won all three previous finals against Sydney, always winning as the lower-ranked side (like they are today).</td><td>Sports</td><td>https://www.foxsports.com.au/afl/live-afl-finals-scores-2024-sydney-swans-vs-gws-giants-first-qualifying-final-updates-stats-blog-start-time-teams-latest-news/news-story/f4b7fc01c4d81ec9656ed5c8a8140ce6</td><td>https://www.bing.com/th?id=OVFT.iuevagAJ_L_im4VNPR3RSy&pid=News</td><td>Fox Sports</td><td>06-09-2024</td></tr><tr><td>Mumbai News Live Updates Today</td><td>Stay tuned for Mumbai real-time updates, top news, breaking stories and headlines from Mumbai. Catch up on the most significant news for September 7, 2024.</td><td>null</td><td>https://www.hindustantimes.com/cities/mumbai-news/latest-mumbai-news-live-updates-september-7-2024-101725672623034.html</td><td>https://www.bing.com/th?id=OVFT.gmWkv3gIM3AB9cLHknlB1S&pid=News</td><td>Hindustan Times</td><td>07-09-2024</td></tr><tr><td>NBC scales back The Tonight Show Starring Jimmy Fallon in latest blow to late night TV</td><td>Network also recently announced it was cutting the house band from ‘Late Night with Seth Meyers’ due to budget cuts</td><td>Entertainment</td><td>https://www.independent.co.uk/arts-entertainment/tv/news/the-tonight-show-starring-jimmy-fallon-fridays-b2608563.html</td><td>https://www.bing.com/th?id=OVFT.mUzH2QocYWldE2Fn_8vYmC&pid=News</td><td>The Independent</td><td>06-09-2024</td></tr><tr><td>Royal family - news: Meghan Markle suffers major setback as Prince William sports surprising back-to-work look</td><td>News of the setback comes as Prince William returned to work sporting a stubble on a visit to a homelessness exhibition in his first official engagement since the summer break. William first revealed the rugged look in a surprise video with Kate last month as they congratulated Team GB on their Olympic success.</td><td>Politics</td><td>https://www.independent.co.uk/news/uk/home-news/william-harry-charles-meghan-markle-royal-family-latest-news-b2608060.html?page=2</td><td>null</td><td>The Independent</td><td>06-09-2024</td></tr><tr><td>County Alcohol Board Reviews Violations, Transfers And A New License</td><td>On the docket for the Kosciusko County Alcohol and Tobacco Commission on Thursday, Sept. 5, were three license transfers, one new license application, two renewals with violations and 14 renewals without violations.</td><td>null</td><td>https://www.inkfreenews.com/2024/09/06/county-alcohol-board-reviews-violations-transfers-and-a-new-license/</td><td>null</td><td>InkFreeNews</td><td>06-09-2024</td></tr><tr><td>US activist killed near Nablus, Hamas add new demands</td><td>American-Turkish activist killed by IDF near Nablus • Hamas add new demands for ceasefire • UK lawyers for Israel warn ICC prosecutor of breaching rules</td><td>World</td><td>https://www.jpost.com/israel-hamas-war/2024-09-07/live-updates-819061</td><td>null</td><td>The Jerusalem Post Blogs</td><td>07-09-2024</td></tr><tr><td>Liverpool transfer news LIVE - Bryan Mbeumo wanted, Gleison Bremer interest, Mohamed Salah future</td><td>Brentford forward Bryan Mbeumo has emerged as a potential target for Liverpool according to the latest reports. It has been stated that the Reds may face competition from Arsenal and Newcastle for the £50m-rated forward.</td><td>Sports</td><td>https://www.liverpoolecho.co.uk/sport/football/transfer-news/liverpool-transfer-news-live-bryan-29887075</td><td>https://www.bing.com/th?id=OVFT.3MQrIAilICYKRTgBoiIk-S&pid=News</td><td>Liverpool Echo</td><td>07-09-2024</td></tr><tr><td>Manchester United transfer news LIVE Yoro injury boost, Casemiro updates and Rabiot latest</td><td>Latest Man United transfer news and rumours with updates on the future of Casemiro, Antony and free agent Adrien Rabiot</td><td>Sports</td><td>https://www.manchestereveningnews.co.uk/sport/football/transfer-news/manchester-united-transfer-news-live-29879741</td><td>https://www.bing.com/th?id=OVFT.CcHJhAPmR8qX0TuPyr4bAi&pid=News</td><td>Manchester Evening News</td><td>06-09-2024</td></tr><tr><td>Liverpool news: Fresh injury blow as Reds star speaks out over game time</td><td>Liverpool have won all three of their Premier League games so far under Arne Slot but the Dutchman has already received some worrying injury news during the international break</td><td>Sports</td><td>https://www.mirror.co.uk/sport/football/news/liverpool-arne-slot-injury-update-33616585</td><td>https://www.bing.com/th?id=OVFT.T4oSmtB1wS7kBkBzm1HTqy&pid=News</td><td>The Mirror</td><td>07-09-2024</td></tr><tr><td>Donald Trump and Kamala Harris race closest since 1960 and one thing could decide it, new forecast reveals</td><td>Kennedy narrowly beat Richard Nixon in 1960, according to a new forecast. It comes as Donald Trump and Kamala Harris prepare for their crunch TV debate on Tuesday. Follow all the latest election news with Dailymail.com.</td><td>null</td><td>https://www.msn.com/en-au/news/australia/race-between-trump-and-kamala-could-be-closest-since-1960/ar-AA1q792N</td><td>https://www.bing.com/th?id=OVFT.JdZIXZD3BXxt9CAKu0tByy&pid=News</td><td>Daily Mail on MSN.com</td><td>06-09-2024</td></tr><tr><td>Mark Wood laments latest England injury setback after 'rubbish news'</td><td>Mark Wood laments latest England injury setback after 'rubbish news' - Fast bowler to miss the rest of the year with longstanding elbow problem</td><td>Sports</td><td>https://www.msn.com/en-gb/health/other/mark-wood-laments-latest-england-injury-setback-after-rubbish-news/ar-AA1q8pwv</td><td>https://www.bing.com/th?id=OVFT.OV9LVBzQ3_BsWcBPMDsnNi&pid=News</td><td>Evening Standard on MSN.com</td><td>06-09-2024</td></tr><tr><td>Latest News, Live Updates Today September 7, 2024: ‘You will die..’: TikToker Ali Abulaban's fate decided after murdering estranged wife and suspected boyfriend</td><td>Welcome to the live updates platform for Hindustan Times. Follow all the major news updates, headlines and breaking news stories from India and around the world right here. Track the real-time developments of major events for September 7,</td><td>India</td><td>https://www.msn.com/en-in/news/India/latest-news-live-updates-today-september-7-2024-you-will-die-tiktoker-ali-abulaban-s-fate-decided-after-murdering-estranged-wife-and-suspected-boyfriend/ar-AA1q8q7R</td><td>https://www.bing.com/th?id=OVFT.jzBMRXX4HOSBa1mfPQ5MsC&pid=News</td><td>MSN</td><td>07-09-2024</td></tr><tr><td>Kings of Leon talk return and new sound on ninth album</td><td>Rock group Kings of Leon, who exploded onto the music scene in 2008 with songs like “Use Somebody” and “Sex on Fire,” returned to the studio with a fresh sound for their ninth album. The band sits down with NBC News' Chloe Melas to talk about their return and their latest album \"Can We Please Have Fun.</td><td>Entertainment</td><td>https://www.nbcnews.com/now/video/kings-of-leon-talk-return-and-new-sound-on-ninth-album-218809925633</td><td>null</td><td>NBC News</td><td>07-09-2024</td></tr><tr><td>New Images of Mercury Show Speckled Surface in Sharp Detail</td><td>BepiColombo, a joint European-Japanese mission, completed its latest flyby of Mercury, sending back a sneak peek of the cratered planet it will begin to orbit in 2026.</td><td>ScienceAndTechnology</td><td>https://www.nytimes.com/2024/09/07/science/mercury-images-bepicolombo.html</td><td>https://www.bing.com/th?id=OVFT.Yb-GmuGWa0uk1PRWb5TOkS&pid=News</td><td>The New York Times</td><td>07-09-2024</td></tr><tr><td>Thailand's king swears in new government after turmoil</td><td>Thailand's King Maha Vajiralongkorn swore in Prime Minister Paetongtarn Shinawatra and 35 cabinet ministers in Bangkok on Friday, ushering in a new government in Southeast Asia's second largest economy after a period of political turmoil.</td><td>World</td><td>https://www.reuters.com/world/asia-pacific/thailands-king-swears-new-government-after-turmoil-2024-09-06/</td><td>https://www.bing.com/th?id=OVFT.tykS77xPzz1Kl36MslLAhS&pid=News</td><td>Reuters</td><td>06-09-2024</td></tr><tr><td>IFA 2024: all the news from the big Berlin tech show</td><td>IFA, Europe’s huge consumer tech expo, attracts some of the biggest companies in the world. It’s like a counterpart to CES in the United States, which happens in January, whereas IFA caps off the summer with news on the latest smartphones, fridges, robot vacuums, laptops, and “AI-powered” products from A to Z.</td><td>ScienceAndTechnology</td><td>https://www.theverge.com/2024/9/3/24231736/ifa-2024-news-products-updates-highlights-berlin/archives/2</td><td>https://www.bing.com/th?id=OVFT.YE-wxhboHe4xjAVSPqFjUC&pid=News</td><td>The Verge</td><td>06-09-2024</td></tr><tr><td>Jonathan and Drew Scott renovate their parents' new LA home — take a tour</td><td>\"Property Brothers\" duo Jonathan and Drew Scott have unveiled a project that they hold near and dear to their hearts. The HGTV stars shared in the September/October issue of HGTV Magazine that they recently gave their parents, Joanne and Jim Scott, the ultimate home makeover.</td><td>LifeStyle</td><td>https://www.today.com/home/property-brothers-parents-home-renovation-rcna169549</td><td>https://www.bing.com/th?id=OVFT.lujcvQ_MYzmrknVgnA3ISy&pid=News</td><td>Today</td><td>06-09-2024</td></tr><tr><td>Uncrewed Starliner undocks from ISS, heads for New Mexico landing at night</td><td>The uncrewed Boeing Starliner successfully undocked from the International Space Station on Friday and began heading back to Earth with a landing scheduled in New Mexico within six hours.</td><td>ScienceAndTechnology</td><td>https://www.upi.com/Science_News/2024/09/06/Uncrewed-Starliner-undock-ISS-Friday-evening-land-6-hours-later/6441725647280/</td><td>https://www.bing.com/th?id=OVFT.o3bscDQPWSHoTIkXnWqH-C&pid=News</td><td>UPI</td><td>06-09-2024</td></tr><tr><td>When can you see the fall foliage in New England? Farmers' Almanac shares predictions</td><td>New Englanders get ready to see picturesque sights from the fall foliage. Some states may see beautiful leaves by the end of September.</td><td>LifeStyle</td><td>https://www.usatoday.com/story/news/graphics/2024/09/07/new-england-fall-foliage-maps-2024/75106801007/</td><td>https://www.bing.com/th?id=OVFT.MWH9RPjaTsuAtkkA5WJa2y&pid=News</td><td>USA Today</td><td>07-09-2024</td></tr><tr><td>Palm Beach County election news: Harris-Walz bus tour takes off, Barron Trump attends NYU</td><td>Harris-Walz campaign starts tour for reproductive rights; Donald Trump began to lose voters; Barron Trump attends NYU.</td><td>Politics</td><td>https://www.usatoday.com/story/news/politics/elections/2024/09/06/palm-beach-county-news-barron-trump-attends-nyu-harris-walz-bus-tour/75078625007/</td><td>https://www.bing.com/th?id=OVFT.RnQVd8gUfL-rAt5zEAYxYS&pid=News</td><td>USA Today</td><td>06-09-2024</td></tr><tr><td>Weekly Recap: Top Car News Making Waves In India Over The Past Week</td><td>Here are the past week’s top news highlights featuring the launch of a Tata SUV-coupe and an ultra-luxurious Mercedes SUV and new editions for Skoda Slavia and Kushaq, Hyundai Creta and Kia SUVs along</td><td>ScienceAndTechnology</td><td>https://www.zigwheels.com/news-features/news/weekly-recap-top-car-news-making-waves-in-india-over-the-past-week/54186/</td><td>https://www.bing.com/th?id=OVFT.IJa4mP5axSLY9bpAqKp7gC&pid=News</td><td>ZigWheels</td><td>07-09-2024</td></tr></tbody></table></div>"
      ]
     },
     "metadata": {
      "application/vnd.databricks.v1+output": {
       "addedWidgets": {},
       "aggData": [],
       "aggError": "",
       "aggOverflow": false,
       "aggSchema": [],
       "aggSeriesLimitReached": false,
       "aggType": "",
       "arguments": {},
       "columnCustomDisplayInfos": {},
       "data": [
        [
         "Georgia school shooting latest: 14-year-old suspect set to appear in court",
         "The 14-year-old boy accused of fatally shooting four people at a Georgia high school was expected to make his first court appearance Friday.",
         null,
         "https://6abc.com/post/georgia-high-school-shooting-colt-gray-teen-suspect-accused-apalachee-hs-due-court/15273486/",
         null,
         "6abc News",
         "06-09-2024"
        ],
        [
         "Georgia school shooting latest: 14-year-old suspect charged with murder, father also charged",
         "The 14-year-old suspect behind Wednesday's deadly school shooting in Georgia has been charged with four counts of felony murder.",
         null,
         "https://abc13.com/post/georgia-high-school-shooting-questions-surround-weapon-motive-deadly-incident-apalachee/15270304/",
         null,
         "abc13",
         "06-09-2024"
        ],
        [
         "The latest in the 2024 presidential race",
         "With just days until the debate, Donald Trump is traveling to battleground North Carolina this afternoon while Vice President Kamala Harris is expected to continue to prepare for the event in Pennsylvania.",
         "Politics",
         "https://edition.cnn.com/politics/live-news/trump-harris-election-09-06-24/index.html",
         "https://www.bing.com/th?id=OVFT.CZzav2isTPHdHcJhBXw-zi&pid=News",
         "CNN",
         "06-09-2024"
        ],
        [
         "September 6 Georgia school shooting news",
         "The teen suspected in the deadly mass shooting at a Georgia high school and his father had initial hearings in court Friday morning. Follow for live news updates.",
         null,
         "https://edition.cnn.com/us/live-news/georgia-shooting-apalachee-high-school-09-06-24",
         "https://www.bing.com/th?id=OVFT.MjvEGDEO5zR9VQAQCFeqCS&pid=News",
         "CNN",
         "06-09-2024"
        ],
        [
         "Opinion: Canada must model Norway's balanced energy sector",
         "Canada needs to recognize itself as the energy giant that it is, and more importantly, realize how much greater of a giant it can be, while also being a leader in the energy transition. Unfortunately, we lack a cohesive, pragmatic culture and a fact-based narrative around energy, especially around fossil fuels, to take us to the next level.",
         "Business",
         "https://nationalpost.com/opinion/opinion-canada-must-model-norways-balanced-energy-sector",
         "https://www.bing.com/th?id=OVFT.y1p7S37SRz3PBssKqc8xqi&pid=News",
         "National Post",
         "06-09-2024"
        ],
        [
         "Stunning News of Trump Sentencing Delay Sends Message: MAGA Rage Works",
         "The politics of this may play out fine for Kamala Harris. But once again, the legal system was cowed by Trump’s bullying and lawlessness.",
         "Politics",
         "https://newrepublic.com/article/185707/trump-sentencing-delay-maga-rage-works",
         "https://www.bing.com/th?id=OVFT.E3WY-EDc1BphX5PFX_uIWS&pid=News",
         "New Republic",
         "07-09-2024"
        ],
        [
         "Afghanistan vs New Zealand One-Off Test: Date, Time, Venue, Live streaming, Tickets & More Details",
         "Afghanistan are set to host New Zealand for a one-off Test match in India. Here's all the crucial details about the one-off Test.",
         "Sports",
         "https://news.abplive.com/sports/cricket/afghanistan-vs-new-zealand-test-greater-noida-date-time-venue-live-streaming-how-to-buy-tickets-1715603",
         "https://www.bing.com/th?id=OVFT.oxtPfWa6dhthZliiqfsSSi&pid=News",
         "abp LIVE",
         "07-09-2024"
        ],
        [
         "'Life here is much more easy': Migrants tell Sky News why PM's pledge to 'smash the gangs' won't work",
         "Migrants say they don't believe government efforts to tackle smuggling gangs will stop illegal migration, with \"thousands\" of people willing to take the money of those determined to get to the UK.",
         "LifeStyle",
         "https://news.sky.com/story/starmers-pledge-to-smash-the-gangs-wont-stop-small-boat-crossings-migrants-explain-why-13210689",
         "https://www.bing.com/th?id=OVFT.stynnzLBt8KhhA6iVz1ATC&pid=News",
         "Sky",
         "06-09-2024"
        ],
        [
         "Three out of four parents of children with special educational needs and disabilities forced to give up work or cut hours, Sky News learns",
         "In a survey commissioned by Sky News, parents of children with special educational needs and disabilities (SEND) said maintaining a job is difficult due to a lack of local authority help, while others blamed not enough school support and lack of employer flexibility.",
         "LifeStyle",
         "https://news.sky.com/story/three-out-of-four-parents-of-children-with-special-educational-needs-and-disabilities-forced-to-give-up-work-or-cut-hours-sky-news-learns-13210125",
         "https://www.bing.com/th?id=OVFT.HZFLV2EfJyTHB2ZwXuxNli&pid=News",
         "Sky",
         "06-09-2024"
        ],
        [
         "Kate Middleton fans celebrate Princess of Wales’ ‘lovely’ new X post amid cancer battle",
         "The Princess of Wales, 42, delighted fans on Friday with a sweet note on X congratulating TV presenter Dwayne Fields on becoming UK’s new Chief Scout.",
         "Entertainment",
         "https://pagesix.com/2024/09/06/royal-family/kate-middleton-fans-celebrate-princess-of-wales-new-x-post-amid-cancer-battle/",
         null,
         "Page Six",
         "06-09-2024"
        ],
        [
         "Sabrina Carpenter Put Kevin Bacon in Her New Song. His Reaction on FaceTime with His Daughter Is Perfect",
         "Kevin Bacon shared a recent Instagram clip of the hilarious moment in which his daughter Sosie Bacon told him that Sabrina Carpenter's song 'Taste' seemingly references 'Six Degrees of Kevin Bacon.'",
         "Entertainment",
         "https://people.com/sabrina-carpenter-put-kevin-bacon-in-her-new-song-his-reaction-on-facetime-with-his-daughter-is-perfect-8707891",
         null,
         "People",
         "06-09-2024"
        ],
        [
         "Saskatchewan Election 2024 | Sask. Election News and Polls | CTV News Saskatchewan",
         "Speaker cuts ties with Sask. Party, alleges he faced threats, harassment from gov't MLAs. The Speaker of the Saskatchewan Legislature Randy Weekes has severed ties with the Sask.",
         null,
         "https://regina.ctvnews.ca/saskatchewan-election-2024",
         null,
         "CTV News",
         "06-09-2024"
        ],
        [
         "Breaking News Today Live Updates: Brij Bhushan Singh alleges Congress conspiracy after wrestlers join party ahead of Haryana polls",
         "India news live updates: Brij Bhushan Singh alleges Congress conspiracy after wrestlers join party ahead of Haryana polls",
         "LifeStyle",
         "https://timesofindia.indiatimes.com/india/latest-india-world-news-live-updates-today-breaking-news-7th-september-2024/liveblog/113140773.cms",
         "https://www.bing.com/th?id=OVFT.WZ-iCZZ5YwrvGNBhiecnfi&pid=News",
         "Indiatimes",
         "07-09-2024"
        ],
        [
         "Grains Turn Mixed Despite Strong New Crop Exports: Are the Markets Running Out of Gas?",
         "He says the recent rally in the grains follows the seasonal patterns and while demand news and weather have been helpful, most of the push has been fund short covering. Crude oil tries to recover after one of the worst week's in a year, but what does that mean for the ag sector?",
         "Business",
         "https://www.agweb.com/markets/market-analysis/grains-turn-mixed-despite-strong-new-crop-exports-are-markets-running-out",
         null,
         "AgWeb",
         "06-09-2024"
        ],
        [
         "How Linkin Park found its way back with new singer Emily Armstrong",
         "Linkin Park is back. Seven years after the death of frontman Chester Bennington, the band is back together with two new additions.",
         "Entertainment",
         "https://www.aol.com/entertainment/linkin-park-found-way-back-005301825.html",
         "https://www.bing.com/th?id=OVFT.mJFEoC5kw43LgbfXjsANgy&pid=News",
         "AOL",
         "07-09-2024"
        ],
        [
         "Starmer Dublin visit 'marks new era' of friendship",
         "Sir Keir Starmer will become the first British prime minister to visit the Republic of Ireland in five years on Saturday. Downing Street says it marks a \"new era of co-operation and friendship\" between Britain and Ireland.",
         "Politics",
         "https://www.bbc.co.uk/news/articles/cg58l93gz64o",
         "https://www.bing.com/th?id=OVFT.DYeMXZArrUdQh6Wov34GDS&pid=News",
         "BBC",
         "07-09-2024"
        ],
        [
         "Plans for new sports pitches and pavilion approved",
         "Plans for a new sports pavilion along with artificial and grass football pitches have been given the green light. The proposals, for land opposite Blackbird Close in Newdale, Telford, also include access improvements for vehicle and cycle parking, landscaping and other associated works.",
         null,
         "https://www.bbc.co.uk/news/articles/cm23g014807o",
         "https://www.bing.com/th?id=OVFT.hbGw5xXqNn-Q8txb07xPzy&pid=News",
         "BBC",
         "07-09-2024"
        ],
        [
         "Pope Francis urges stewardship of Papua New Guinea’s resources, peace among tribes",
         "In his address to officials in Port Moresby, Pope Francis called for responsible use of natural resources, an end to tribal conflict, and celebrated Papua New Guinea's cultural diversity.",
         "World",
         "https://www.catholicnewsagency.com/news/259165/pope-francis-to-png-protect-nature-end-tribal-violence-embrace-diversity",
         null,
         "Catholic News Agency",
         "07-09-2024"
        ],
        [
         "How to watch every New England Patriots game in the 2024-2025 NFL season",
         "The New England Patriots will play one Thursday Night Football game, 11 1 p.m. games and one NFL Network-exclusive game from London. You can watch the Patriots this season on CBS, NFL Network, Fox, and Prime Video. All times Eastern.",
         "Sports",
         "https://www.cbsnews.com/essentials/how-to-watch-every-new-england-patriots-game-in-the-2024-2025-nfl-season/",
         "https://www.bing.com/th?id=OVFT.gKbs_SVVSJ8CCnhPsNq_My&pid=News",
         "CBS News",
         "06-09-2024"
        ],
        [
         "Judge delays sentencing in Trump's New York criminal case, pushing decision past election",
         "Trump was convicted in May on 34 felony counts of falsifying business records in relation to a \"hush money\" payment to an adult film star before the 2016 election.",
         null,
         "https://www.cbsnews.com/news/trump-sentencing-delay-hush-money-case-new-york/",
         "https://www.bing.com/th?id=OVFT.ztoKdKkhPoQudrkhSrPzNC&pid=News",
         "CBS News",
         "06-09-2024"
        ],
        [
         "Newcastle United transfer news LIVE - Gordon's summer verdict, injury boost",
         "All the latest Newcastle United news with the Magpies stars representing their countries on international duty",
         "Sports",
         "https://www.chroniclelive.co.uk/sport/football/football-news/newcastle-united-transfer-news-live-29881426",
         null,
         "Evening Chronicle",
         "06-09-2024"
        ],
        [
         "Mixed news on US jobs: Unemployment rate falls but hiring is slowing",
         "The US economy is expected to have added 160,000 jobs last month and the unemployment rate likely dropped to 4.2% from 4.3%.",
         "Business",
         "https://www.cnn.com/business/live-news/us-jobs-report-august-2024/index.html",
         "https://www.bing.com/th?id=OVFT._oHNZeSF4zvYz1s9JsMo8y&pid=News",
         "CNN",
         "06-09-2024"
        ],
        [
         "The latest on the Georgia high school shooting",
         "The teen suspected in Wednesday’s deadly mass shooting at a Georgia high school will have an initial hearing in court Friday morning, the Georgia Department of Juvenile Justice tells CNN.",
         null,
         "https://www.cnn.com/us/live-news/georgia-shooting-apalachee-high-school-09-06-24/index.html",
         "https://www.bing.com/th?id=OVFT.MjvEGDEO5zR9VQAQCFeqCS&pid=News",
         "CNN",
         "06-09-2024"
        ],
        [
         "Erling Haaland 'closes on lucrative new Man City contract' - but Real Madrid hopes of signing superstar 'boosted by release clause'",
         "Erling Haaland is reportedly close to committing his future to Manchester City by signing a lucrative contract extension - but the deal is expected to contain a release clause.",
         "Sports",
         "https://www.dailymail.co.uk/sport/football/article-13823961/Erling-Haaland-Man-City-contract-Real-Madrid-release-clause.html",
         null,
         "Daily Mail",
         "07-09-2024"
        ],
        [
         "iPhone 16 Release Date Latest: What To Expect When And Where",
         "The countdown is on and the next iPhones are almost here. Here’s the latest on what’s happening when, including what the pricing is set to be, so nothing surprises you.",
         "ScienceAndTechnology",
         "https://www.forbes.com/sites/davidphelan/2024/09/06/iphone-16-release-date-latest-what-to-expect-when-and-where/",
         "https://www.bing.com/th?id=OVFT.Mi8TQXahHPIzBa8JfJP_xi&pid=News",
         "Forbes",
         "06-09-2024"
        ],
        [
         "Very Bad News For ‘Rings Of Power’ Season 3, As Season 2 Viewership Plummets",
         "ForbesThere’s Only One Good Thing About ‘The Rings Of Power’ Season 2 So FarBy Erik Kain According to Samba TV data, 1.8 million U.S. households watched the first episode of Season 1 within three days of it landing on Prime Video.",
         "Entertainment",
         "https://www.forbes.com/sites/erikkain/2024/09/05/very-bad-news-for-rings-of-power-season-3-as-season-2-viewership-plummets/",
         "https://www.bing.com/th?id=OVFT.cteNcMfbsFStWkkS5HnJ5S&pid=News",
         "Forbes",
         "07-09-2024"
        ],
        [
         "Reese Witherspoon seen with new mystery man: what to know about wealthy NHL investor",
         "Reese Witherspoon and financier Oliver Haarmann have been photographed together over the past few months. The pair have reportedly moved their relationship to the next level.",
         "Entertainment",
         "https://www.foxnews.com/entertainment/reese-witherspoon-seen-new-mystery-man-what-know-about-wealthy-nhl-investor",
         null,
         "Fox News",
         "07-09-2024"
        ],
        [
         "Conservative economists pour cold water on Harris' new small-business tax proposal",
         "Conservative economists are pouring cold water on Vice President Kamala Harris' new tax proposal aimed at reducing startup costs for new small businesses as part of her \"Opportunity Economy\" platform.",
         "Business",
         "https://www.foxnews.com/politics/conservative-economists-pour-cold-water-harris-new-small-business-tax-proposal",
         "https://www.bing.com/th?id=OVFT.4fKpvrT0j94QYJmX6N8mBi&pid=News",
         "Fox News",
         "07-09-2024"
        ],
        [
         "Live AFL finals scores 2024, Sydney Swans vs GWS Giants, First Qualifying Final: Updates, stats, blog, start time, teams, latest news",
         "In contrast the Giants (4th, 15-8, 109.1%) won seven straight games to secure a top-four finish, before a Round 24 hiccup. They have won all three previous finals against Sydney, always winning as the lower-ranked side (like they are today).",
         "Sports",
         "https://www.foxsports.com.au/afl/live-afl-finals-scores-2024-sydney-swans-vs-gws-giants-first-qualifying-final-updates-stats-blog-start-time-teams-latest-news/news-story/f4b7fc01c4d81ec9656ed5c8a8140ce6",
         "https://www.bing.com/th?id=OVFT.iuevagAJ_L_im4VNPR3RSy&pid=News",
         "Fox Sports",
         "06-09-2024"
        ],
        [
         "Mumbai News Live Updates Today",
         "Stay tuned for Mumbai real-time updates, top news, breaking stories and headlines from Mumbai. Catch up on the most significant news for September 7, 2024.",
         null,
         "https://www.hindustantimes.com/cities/mumbai-news/latest-mumbai-news-live-updates-september-7-2024-101725672623034.html",
         "https://www.bing.com/th?id=OVFT.gmWkv3gIM3AB9cLHknlB1S&pid=News",
         "Hindustan Times",
         "07-09-2024"
        ],
        [
         "NBC scales back The Tonight Show Starring Jimmy Fallon in latest blow to late night TV",
         "Network also recently announced it was cutting the house band from ‘Late Night with Seth Meyers’ due to budget cuts",
         "Entertainment",
         "https://www.independent.co.uk/arts-entertainment/tv/news/the-tonight-show-starring-jimmy-fallon-fridays-b2608563.html",
         "https://www.bing.com/th?id=OVFT.mUzH2QocYWldE2Fn_8vYmC&pid=News",
         "The Independent",
         "06-09-2024"
        ],
        [
         "Royal family - news: Meghan Markle suffers major setback as Prince William sports surprising back-to-work look",
         "News of the setback comes as Prince William returned to work sporting a stubble on a visit to a homelessness exhibition in his first official engagement since the summer break. William first revealed the rugged look in a surprise video with Kate last month as they congratulated Team GB on their Olympic success.",
         "Politics",
         "https://www.independent.co.uk/news/uk/home-news/william-harry-charles-meghan-markle-royal-family-latest-news-b2608060.html?page=2",
         null,
         "The Independent",
         "06-09-2024"
        ],
        [
         "County Alcohol Board Reviews Violations, Transfers And A New License",
         "On the docket for the Kosciusko County Alcohol and Tobacco Commission on Thursday, Sept. 5, were three license transfers, one new license application, two renewals with violations and 14 renewals without violations.",
         null,
         "https://www.inkfreenews.com/2024/09/06/county-alcohol-board-reviews-violations-transfers-and-a-new-license/",
         null,
         "InkFreeNews",
         "06-09-2024"
        ],
        [
         "US activist killed near Nablus, Hamas add new demands",
         "American-Turkish activist killed by IDF near Nablus • Hamas add new demands for ceasefire • UK lawyers for Israel warn ICC prosecutor of breaching rules",
         "World",
         "https://www.jpost.com/israel-hamas-war/2024-09-07/live-updates-819061",
         null,
         "The Jerusalem Post Blogs",
         "07-09-2024"
        ],
        [
         "Liverpool transfer news LIVE - Bryan Mbeumo wanted, Gleison Bremer interest, Mohamed Salah future",
         "Brentford forward Bryan Mbeumo has emerged as a potential target for Liverpool according to the latest reports. It has been stated that the Reds may face competition from Arsenal and Newcastle for the £50m-rated forward.",
         "Sports",
         "https://www.liverpoolecho.co.uk/sport/football/transfer-news/liverpool-transfer-news-live-bryan-29887075",
         "https://www.bing.com/th?id=OVFT.3MQrIAilICYKRTgBoiIk-S&pid=News",
         "Liverpool Echo",
         "07-09-2024"
        ],
        [
         "Manchester United transfer news LIVE Yoro injury boost, Casemiro updates and Rabiot latest",
         "Latest Man United transfer news and rumours with updates on the future of Casemiro, Antony and free agent Adrien Rabiot",
         "Sports",
         "https://www.manchestereveningnews.co.uk/sport/football/transfer-news/manchester-united-transfer-news-live-29879741",
         "https://www.bing.com/th?id=OVFT.CcHJhAPmR8qX0TuPyr4bAi&pid=News",
         "Manchester Evening News",
         "06-09-2024"
        ],
        [
         "Liverpool news: Fresh injury blow as Reds star speaks out over game time",
         "Liverpool have won all three of their Premier League games so far under Arne Slot but the Dutchman has already received some worrying injury news during the international break",
         "Sports",
         "https://www.mirror.co.uk/sport/football/news/liverpool-arne-slot-injury-update-33616585",
         "https://www.bing.com/th?id=OVFT.T4oSmtB1wS7kBkBzm1HTqy&pid=News",
         "The Mirror",
         "07-09-2024"
        ],
        [
         "Donald Trump and Kamala Harris race closest since 1960 and one thing could decide it, new forecast reveals",
         "Kennedy narrowly beat Richard Nixon in 1960, according to a new forecast. It comes as Donald Trump and Kamala Harris prepare for their crunch TV debate on Tuesday. Follow all the latest election news with Dailymail.com.",
         null,
         "https://www.msn.com/en-au/news/australia/race-between-trump-and-kamala-could-be-closest-since-1960/ar-AA1q792N",
         "https://www.bing.com/th?id=OVFT.JdZIXZD3BXxt9CAKu0tByy&pid=News",
         "Daily Mail on MSN.com",
         "06-09-2024"
        ],
        [
         "Mark Wood laments latest England injury setback after 'rubbish news'",
         "Mark Wood laments latest England injury setback after 'rubbish news' - Fast bowler to miss the rest of the year with longstanding elbow problem",
         "Sports",
         "https://www.msn.com/en-gb/health/other/mark-wood-laments-latest-england-injury-setback-after-rubbish-news/ar-AA1q8pwv",
         "https://www.bing.com/th?id=OVFT.OV9LVBzQ3_BsWcBPMDsnNi&pid=News",
         "Evening Standard on MSN.com",
         "06-09-2024"
        ],
        [
         "Latest News, Live Updates Today September 7, 2024: ‘You will die..’: TikToker Ali Abulaban's fate decided after murdering estranged wife and suspected boyfriend",
         "Welcome to the live updates platform for Hindustan Times. Follow all the major news updates, headlines and breaking news stories from India and around the world right here. Track the real-time developments of major events for September 7,",
         "India",
         "https://www.msn.com/en-in/news/India/latest-news-live-updates-today-september-7-2024-you-will-die-tiktoker-ali-abulaban-s-fate-decided-after-murdering-estranged-wife-and-suspected-boyfriend/ar-AA1q8q7R",
         "https://www.bing.com/th?id=OVFT.jzBMRXX4HOSBa1mfPQ5MsC&pid=News",
         "MSN",
         "07-09-2024"
        ],
        [
         "Kings of Leon talk return and new sound on ninth album",
         "Rock group Kings of Leon, who exploded onto the music scene in 2008 with songs like “Use Somebody” and “Sex on Fire,” returned to the studio with a fresh sound for their ninth album. The band sits down with NBC News' Chloe Melas to talk about their return and their latest album \"Can We Please Have Fun.",
         "Entertainment",
         "https://www.nbcnews.com/now/video/kings-of-leon-talk-return-and-new-sound-on-ninth-album-218809925633",
         null,
         "NBC News",
         "07-09-2024"
        ],
        [
         "New Images of Mercury Show Speckled Surface in Sharp Detail",
         "BepiColombo, a joint European-Japanese mission, completed its latest flyby of Mercury, sending back a sneak peek of the cratered planet it will begin to orbit in 2026.",
         "ScienceAndTechnology",
         "https://www.nytimes.com/2024/09/07/science/mercury-images-bepicolombo.html",
         "https://www.bing.com/th?id=OVFT.Yb-GmuGWa0uk1PRWb5TOkS&pid=News",
         "The New York Times",
         "07-09-2024"
        ],
        [
         "Thailand's king swears in new government after turmoil",
         "Thailand's King Maha Vajiralongkorn swore in Prime Minister Paetongtarn Shinawatra and 35 cabinet ministers in Bangkok on Friday, ushering in a new government in Southeast Asia's second largest economy after a period of political turmoil.",
         "World",
         "https://www.reuters.com/world/asia-pacific/thailands-king-swears-new-government-after-turmoil-2024-09-06/",
         "https://www.bing.com/th?id=OVFT.tykS77xPzz1Kl36MslLAhS&pid=News",
         "Reuters",
         "06-09-2024"
        ],
        [
         "IFA 2024: all the news from the big Berlin tech show",
         "IFA, Europe’s huge consumer tech expo, attracts some of the biggest companies in the world. It’s like a counterpart to CES in the United States, which happens in January, whereas IFA caps off the summer with news on the latest smartphones, fridges, robot vacuums, laptops, and “AI-powered” products from A to Z.",
         "ScienceAndTechnology",
         "https://www.theverge.com/2024/9/3/24231736/ifa-2024-news-products-updates-highlights-berlin/archives/2",
         "https://www.bing.com/th?id=OVFT.YE-wxhboHe4xjAVSPqFjUC&pid=News",
         "The Verge",
         "06-09-2024"
        ],
        [
         "Jonathan and Drew Scott renovate their parents' new LA home — take a tour",
         "\"Property Brothers\" duo Jonathan and Drew Scott have unveiled a project that they hold near and dear to their hearts. The HGTV stars shared in the September/October issue of HGTV Magazine that they recently gave their parents, Joanne and Jim Scott, the ultimate home makeover.",
         "LifeStyle",
         "https://www.today.com/home/property-brothers-parents-home-renovation-rcna169549",
         "https://www.bing.com/th?id=OVFT.lujcvQ_MYzmrknVgnA3ISy&pid=News",
         "Today",
         "06-09-2024"
        ],
        [
         "Uncrewed Starliner undocks from ISS, heads for New Mexico landing at night",
         "The uncrewed Boeing Starliner successfully undocked from the International Space Station on Friday and began heading back to Earth with a landing scheduled in New Mexico within six hours.",
         "ScienceAndTechnology",
         "https://www.upi.com/Science_News/2024/09/06/Uncrewed-Starliner-undock-ISS-Friday-evening-land-6-hours-later/6441725647280/",
         "https://www.bing.com/th?id=OVFT.o3bscDQPWSHoTIkXnWqH-C&pid=News",
         "UPI",
         "06-09-2024"
        ],
        [
         "When can you see the fall foliage in New England? Farmers' Almanac shares predictions",
         "New Englanders get ready to see picturesque sights from the fall foliage. Some states may see beautiful leaves by the end of September.",
         "LifeStyle",
         "https://www.usatoday.com/story/news/graphics/2024/09/07/new-england-fall-foliage-maps-2024/75106801007/",
         "https://www.bing.com/th?id=OVFT.MWH9RPjaTsuAtkkA5WJa2y&pid=News",
         "USA Today",
         "07-09-2024"
        ],
        [
         "Palm Beach County election news: Harris-Walz bus tour takes off, Barron Trump attends NYU",
         "Harris-Walz campaign starts tour for reproductive rights; Donald Trump began to lose voters; Barron Trump attends NYU.",
         "Politics",
         "https://www.usatoday.com/story/news/politics/elections/2024/09/06/palm-beach-county-news-barron-trump-attends-nyu-harris-walz-bus-tour/75078625007/",
         "https://www.bing.com/th?id=OVFT.RnQVd8gUfL-rAt5zEAYxYS&pid=News",
         "USA Today",
         "06-09-2024"
        ],
        [
         "Weekly Recap: Top Car News Making Waves In India Over The Past Week",
         "Here are the past week’s top news highlights featuring the launch of a Tata SUV-coupe and an ultra-luxurious Mercedes SUV and new editions for Skoda Slavia and Kushaq, Hyundai Creta and Kia SUVs along",
         "ScienceAndTechnology",
         "https://www.zigwheels.com/news-features/news/weekly-recap-top-car-news-making-waves-in-india-over-the-past-week/54186/",
         "https://www.bing.com/th?id=OVFT.IJa4mP5axSLY9bpAqKp7gC&pid=News",
         "ZigWheels",
         "07-09-2024"
        ]
       ],
       "datasetInfos": [],
       "dbfsResultPath": null,
       "isJsonSchema": true,
       "metadata": {},
       "overflow": false,
       "plotOptions": {
        "customPlotOptions": {},
        "displayType": "table",
        "pivotAggregation": null,
        "pivotColumns": null,
        "xColumns": null,
        "yColumns": null
       },
       "removedWidgets": [],
       "schema": [
        {
         "metadata": "{}",
         "name": "title",
         "type": "\"string\""
        },
        {
         "metadata": "{}",
         "name": "description",
         "type": "\"string\""
        },
        {
         "metadata": "{}",
         "name": "category",
         "type": "\"string\""
        },
        {
         "metadata": "{}",
         "name": "url",
         "type": "\"string\""
        },
        {
         "metadata": "{}",
         "name": "image",
         "type": "\"string\""
        },
        {
         "metadata": "{}",
         "name": "provider",
         "type": "\"string\""
        },
        {
         "metadata": "{}",
         "name": "datePublished",
         "type": "\"string\""
        }
       ],
       "type": "table"
      }
     },
     "output_type": "display_data"
    }
   ],
   "source": [
    "\n",
    "df = spark.read.load(\"/mnt/bing/synapse/workspaces/bing-synapse-analytics/warehouse/bing_cleaned\")\n",
    "display(df)"
   ]
  },
  {
   "cell_type": "code",
   "execution_count": 0,
   "metadata": {
    "application/vnd.databricks.v1+cell": {
     "cellMetadata": {
      "byteLimit": 2048000,
      "rowLimit": 10000
     },
     "inputWidgets": {},
     "nuid": "e8c48de3-b33d-4c27-becd-5787ea3c634f",
     "showTitle": false,
     "title": ""
    }
   },
   "outputs": [
    {
     "output_type": "stream",
     "name": "stderr",
     "output_type": "stream",
     "text": [
      "[nltk_data] Downloading package vader_lexicon to /root/nltk_data...\n[nltk_data]   Package vader_lexicon is already up-to-date!\n"
     ]
    },
    {
     "output_type": "stream",
     "name": "stdout",
     "output_type": "stream",
     "text": [
      "+------------------------------------------------------------------------------------------------------------------------------------------------------------------------------------------------------------------------------------------------------------------------------------------------------------------------------------------------------+---------+\n|description                                                                                                                                                                                                                                                                                                                                           |sentiment|\n+------------------------------------------------------------------------------------------------------------------------------------------------------------------------------------------------------------------------------------------------------------------------------------------------------------------------------------------------------+---------+\n|The 14-year-old boy accused of fatally shooting four people at a Georgia high school was expected to make his first court appearance Friday.                                                                                                                                                                                                          |negative |\n|The 14-year-old suspect behind Wednesday's deadly school shooting in Georgia has been charged with four counts of felony murder.                                                                                                                                                                                                                      |negative |\n|With just days until the debate, Donald Trump is traveling to battleground North Carolina this afternoon while Vice President Kamala Harris is expected to continue to prepare for the event in Pennsylvania.                                                                                                                                         |negative |\n|The teen suspected in the deadly mass shooting at a Georgia high school and his father had initial hearings in court Friday morning. Follow for live news updates.                                                                                                                                                                                    |negative |\n|Canada needs to recognize itself as the energy giant that it is, and more importantly, realize how much greater of a giant it can be, while also being a leader in the energy transition. Unfortunately, we lack a cohesive, pragmatic culture and a fact-based narrative around energy, especially around fossil fuels, to take us to the next level.|positive |\n|The politics of this may play out fine for Kamala Harris. But once again, the legal system was cowed by Trump’s bullying and lawlessness.                                                                                                                                                                                                             |negative |\n|Afghanistan are set to host New Zealand for a one-off Test match in India. Here's all the crucial details about the one-off Test.                                                                                                                                                                                                                     |neutral  |\n|Migrants say they don't believe government efforts to tackle smuggling gangs will stop illegal migration, with \"thousands\" of people willing to take the money of those determined to get to the UK.                                                                                                                                                  |negative |\n|In a survey commissioned by Sky News, parents of children with special educational needs and disabilities (SEND) said maintaining a job is difficult due to a lack of local authority help, while others blamed not enough school support and lack of employer flexibility.                                                                           |negative |\n|The Princess of Wales, 42, delighted fans on Friday with a sweet note on X congratulating TV presenter Dwayne Fields on becoming UK’s new Chief Scout.                                                                                                                                                                                                |positive |\n|Kevin Bacon shared a recent Instagram clip of the hilarious moment in which his daughter Sosie Bacon told him that Sabrina Carpenter's song 'Taste' seemingly references 'Six Degrees of Kevin Bacon.'                                                                                                                                                |positive |\n|Speaker cuts ties with Sask. Party, alleges he faced threats, harassment from gov't MLAs. The Speaker of the Saskatchewan Legislature Randy Weekes has severed ties with the Sask.                                                                                                                                                                    |negative |\n|India news live updates: Brij Bhushan Singh alleges Congress conspiracy after wrestlers join party ahead of Haryana polls                                                                                                                                                                                                                             |positive |\n|He says the recent rally in the grains follows the seasonal patterns and while demand news and weather have been helpful, most of the push has been fund short covering. Crude oil tries to recover after one of the worst week's in a year, but what does that mean for the ag sector?                                                               |negative |\n|Linkin Park is back. Seven years after the death of frontman Chester Bennington, the band is back together with two new additions.                                                                                                                                                                                                                    |negative |\n|Sir Keir Starmer will become the first British prime minister to visit the Republic of Ireland in five years on Saturday. Downing Street says it marks a \"new era of co-operation and friendship\" between Britain and Ireland.                                                                                                                        |positive |\n|Plans for a new sports pavilion along with artificial and grass football pitches have been given the green light. The proposals, for land opposite Blackbird Close in Newdale, Telford, also include access improvements for vehicle and cycle parking, landscaping and other associated works.                                                       |positive |\n|In his address to officials in Port Moresby, Pope Francis called for responsible use of natural resources, an end to tribal conflict, and celebrated Papua New Guinea's cultural diversity.                                                                                                                                                           |positive |\n|The New England Patriots will play one Thursday Night Football game, 11 1 p.m. games and one NFL Network-exclusive game from London. You can watch the Patriots this season on CBS, NFL Network, Fox, and Prime Video. All times Eastern.                                                                                                             |positive |\n|Trump was convicted in May on 34 felony counts of falsifying business records in relation to a \"hush money\" payment to an adult film star before the 2016 election.                                                                                                                                                                                   |negative |\n+------------------------------------------------------------------------------------------------------------------------------------------------------------------------------------------------------------------------------------------------------------------------------------------------------------------------------------------------------+---------+\nonly showing top 20 rows\n\n"
     ]
    }
   ],
   "source": [
    "from pyspark.sql.functions import udf\n",
    "from pyspark.sql.types import StringType\n",
    "import nltk\n",
    "from nltk.sentiment.vader import SentimentIntensityAnalyzer\n",
    "\n",
    "# Download VADER lexicon for sentiment analysis (run only once)\n",
    "nltk.download('vader_lexicon')\n",
    "\n",
    "# Initialize VADER sentiment analyzer\n",
    "sid = SentimentIntensityAnalyzer()\n",
    "\n",
    "# Define a Python function to classify sentiment\n",
    "def sentiment_analysis(text):\n",
    "    if text:\n",
    "        sentiment_score = sid.polarity_scores(text)['compound']\n",
    "        if sentiment_score >= 0.05:\n",
    "            return 'positive'\n",
    "        elif sentiment_score <= -0.05:\n",
    "            return 'negative'\n",
    "        else:\n",
    "            return 'neutral'\n",
    "    else:\n",
    "        return 'neutral'  # You can choose to return 'neutral' for empty or null values\n",
    "\n",
    "# Register this function as a UDF (User Defined Function)\n",
    "sentiment_udf = udf(sentiment_analysis, StringType())\n",
    "\n",
    "# Apply the UDF to add a new column to the DataFrame with sentiment category\n",
    "df_with_sentiment = df.withColumn(\"sentiment\", sentiment_udf(df[\"description\"]))\n",
    "\n",
    "# Show results\n",
    "df_with_sentiment.select(\"description\", \"sentiment\").show(truncate=False)\n"
   ]
  },
  {
   "cell_type": "code",
   "execution_count": 0,
   "metadata": {
    "application/vnd.databricks.v1+cell": {
     "cellMetadata": {
      "byteLimit": 2048000,
      "rowLimit": 10000
     },
     "inputWidgets": {},
     "nuid": "186bcdb0-73e8-47d8-b684-e06c160fb82b",
     "showTitle": false,
     "title": ""
    },
    "nteract": {
     "transient": {
      "deleting": false
     }
    }
   },
   "outputs": [],
   "source": [
    "# import synapse.ml.core\n",
    "# from synapse.ml.services import AnalyzeText\n",
    "\n",
    "# model=(AnalyzeText()\n",
    "#             .setTextCol('description')\n",
    "#             .setKing(\"sentimentAnalysis\")\n",
    "#             .setOutputCol(\"response\")\n",
    "#             .setErrorCol(\"error\")\n",
    "#             )\n",
    "\n",
    "# result=model.transform(df)\n",
    "\n",
    "# sentiment_df=df.withColumn(\"sentiment\",col('response.documents.sentiment'))\n",
    "\n",
    "# sentiment_df_final=sentiment_df.drop('error','response')\n"
   ]
  },
  {
   "cell_type": "code",
   "execution_count": 0,
   "metadata": {
    "application/vnd.databricks.v1+cell": {
     "cellMetadata": {
      "byteLimit": 2048000,
      "rowLimit": 10000
     },
     "inputWidgets": {},
     "nuid": "0d530e6a-4e72-4541-8bc1-5497751974bd",
     "showTitle": false,
     "title": ""
    }
   },
   "outputs": [
    {
     "output_type": "display_data",
     "data": {
      "text/html": [
       "<style scoped>\n",
       "  .table-result-container {\n",
       "    max-height: 300px;\n",
       "    overflow: auto;\n",
       "  }\n",
       "  table, th, td {\n",
       "    border: 1px solid black;\n",
       "    border-collapse: collapse;\n",
       "  }\n",
       "  th, td {\n",
       "    padding: 5px;\n",
       "  }\n",
       "  th {\n",
       "    text-align: left;\n",
       "  }\n",
       "</style><div class='table-result-container'><table class='table-result'><thead style='background-color: white'><tr><th>title</th><th>description</th><th>category</th><th>url</th><th>image</th><th>provider</th><th>datePublished</th><th>sentiment</th></tr></thead><tbody><tr><td>Georgia school shooting latest: 14-year-old suspect set to appear in court</td><td>The 14-year-old boy accused of fatally shooting four people at a Georgia high school was expected to make his first court appearance Friday.</td><td>null</td><td>https://6abc.com/post/georgia-high-school-shooting-colt-gray-teen-suspect-accused-apalachee-hs-due-court/15273486/</td><td>null</td><td>6abc News</td><td>06-09-2024</td><td>negative</td></tr><tr><td>Georgia school shooting latest: 14-year-old suspect charged with murder, father also charged</td><td>The 14-year-old suspect behind Wednesday's deadly school shooting in Georgia has been charged with four counts of felony murder.</td><td>null</td><td>https://abc13.com/post/georgia-high-school-shooting-questions-surround-weapon-motive-deadly-incident-apalachee/15270304/</td><td>null</td><td>abc13</td><td>06-09-2024</td><td>negative</td></tr><tr><td>The latest in the 2024 presidential race</td><td>With just days until the debate, Donald Trump is traveling to battleground North Carolina this afternoon while Vice President Kamala Harris is expected to continue to prepare for the event in Pennsylvania.</td><td>Politics</td><td>https://edition.cnn.com/politics/live-news/trump-harris-election-09-06-24/index.html</td><td>https://www.bing.com/th?id=OVFT.CZzav2isTPHdHcJhBXw-zi&pid=News</td><td>CNN</td><td>06-09-2024</td><td>negative</td></tr><tr><td>September 6 Georgia school shooting news</td><td>The teen suspected in the deadly mass shooting at a Georgia high school and his father had initial hearings in court Friday morning. Follow for live news updates.</td><td>null</td><td>https://edition.cnn.com/us/live-news/georgia-shooting-apalachee-high-school-09-06-24</td><td>https://www.bing.com/th?id=OVFT.MjvEGDEO5zR9VQAQCFeqCS&pid=News</td><td>CNN</td><td>06-09-2024</td><td>negative</td></tr><tr><td>Opinion: Canada must model Norway's balanced energy sector</td><td>Canada needs to recognize itself as the energy giant that it is, and more importantly, realize how much greater of a giant it can be, while also being a leader in the energy transition. Unfortunately, we lack a cohesive, pragmatic culture and a fact-based narrative around energy, especially around fossil fuels, to take us to the next level.</td><td>Business</td><td>https://nationalpost.com/opinion/opinion-canada-must-model-norways-balanced-energy-sector</td><td>https://www.bing.com/th?id=OVFT.y1p7S37SRz3PBssKqc8xqi&pid=News</td><td>National Post</td><td>06-09-2024</td><td>positive</td></tr><tr><td>Stunning News of Trump Sentencing Delay Sends Message: MAGA Rage Works</td><td>The politics of this may play out fine for Kamala Harris. But once again, the legal system was cowed by Trump’s bullying and lawlessness.</td><td>Politics</td><td>https://newrepublic.com/article/185707/trump-sentencing-delay-maga-rage-works</td><td>https://www.bing.com/th?id=OVFT.E3WY-EDc1BphX5PFX_uIWS&pid=News</td><td>New Republic</td><td>07-09-2024</td><td>negative</td></tr><tr><td>Afghanistan vs New Zealand One-Off Test: Date, Time, Venue, Live streaming, Tickets & More Details</td><td>Afghanistan are set to host New Zealand for a one-off Test match in India. Here's all the crucial details about the one-off Test.</td><td>Sports</td><td>https://news.abplive.com/sports/cricket/afghanistan-vs-new-zealand-test-greater-noida-date-time-venue-live-streaming-how-to-buy-tickets-1715603</td><td>https://www.bing.com/th?id=OVFT.oxtPfWa6dhthZliiqfsSSi&pid=News</td><td>abp LIVE</td><td>07-09-2024</td><td>neutral</td></tr><tr><td>'Life here is much more easy': Migrants tell Sky News why PM's pledge to 'smash the gangs' won't work</td><td>Migrants say they don't believe government efforts to tackle smuggling gangs will stop illegal migration, with \"thousands\" of people willing to take the money of those determined to get to the UK.</td><td>LifeStyle</td><td>https://news.sky.com/story/starmers-pledge-to-smash-the-gangs-wont-stop-small-boat-crossings-migrants-explain-why-13210689</td><td>https://www.bing.com/th?id=OVFT.stynnzLBt8KhhA6iVz1ATC&pid=News</td><td>Sky</td><td>06-09-2024</td><td>negative</td></tr><tr><td>Three out of four parents of children with special educational needs and disabilities forced to give up work or cut hours, Sky News learns</td><td>In a survey commissioned by Sky News, parents of children with special educational needs and disabilities (SEND) said maintaining a job is difficult due to a lack of local authority help, while others blamed not enough school support and lack of employer flexibility.</td><td>LifeStyle</td><td>https://news.sky.com/story/three-out-of-four-parents-of-children-with-special-educational-needs-and-disabilities-forced-to-give-up-work-or-cut-hours-sky-news-learns-13210125</td><td>https://www.bing.com/th?id=OVFT.HZFLV2EfJyTHB2ZwXuxNli&pid=News</td><td>Sky</td><td>06-09-2024</td><td>negative</td></tr><tr><td>Kate Middleton fans celebrate Princess of Wales’ ‘lovely’ new X post amid cancer battle</td><td>The Princess of Wales, 42, delighted fans on Friday with a sweet note on X congratulating TV presenter Dwayne Fields on becoming UK’s new Chief Scout.</td><td>Entertainment</td><td>https://pagesix.com/2024/09/06/royal-family/kate-middleton-fans-celebrate-princess-of-wales-new-x-post-amid-cancer-battle/</td><td>null</td><td>Page Six</td><td>06-09-2024</td><td>positive</td></tr><tr><td>Sabrina Carpenter Put Kevin Bacon in Her New Song. His Reaction on FaceTime with His Daughter Is Perfect</td><td>Kevin Bacon shared a recent Instagram clip of the hilarious moment in which his daughter Sosie Bacon told him that Sabrina Carpenter's song 'Taste' seemingly references 'Six Degrees of Kevin Bacon.'</td><td>Entertainment</td><td>https://people.com/sabrina-carpenter-put-kevin-bacon-in-her-new-song-his-reaction-on-facetime-with-his-daughter-is-perfect-8707891</td><td>null</td><td>People</td><td>06-09-2024</td><td>positive</td></tr><tr><td>Saskatchewan Election 2024 | Sask. Election News and Polls | CTV News Saskatchewan</td><td>Speaker cuts ties with Sask. Party, alleges he faced threats, harassment from gov't MLAs. The Speaker of the Saskatchewan Legislature Randy Weekes has severed ties with the Sask.</td><td>null</td><td>https://regina.ctvnews.ca/saskatchewan-election-2024</td><td>null</td><td>CTV News</td><td>06-09-2024</td><td>negative</td></tr><tr><td>Breaking News Today Live Updates: Brij Bhushan Singh alleges Congress conspiracy after wrestlers join party ahead of Haryana polls</td><td>India news live updates: Brij Bhushan Singh alleges Congress conspiracy after wrestlers join party ahead of Haryana polls</td><td>LifeStyle</td><td>https://timesofindia.indiatimes.com/india/latest-india-world-news-live-updates-today-breaking-news-7th-september-2024/liveblog/113140773.cms</td><td>https://www.bing.com/th?id=OVFT.WZ-iCZZ5YwrvGNBhiecnfi&pid=News</td><td>Indiatimes</td><td>07-09-2024</td><td>positive</td></tr><tr><td>Grains Turn Mixed Despite Strong New Crop Exports: Are the Markets Running Out of Gas?</td><td>He says the recent rally in the grains follows the seasonal patterns and while demand news and weather have been helpful, most of the push has been fund short covering. Crude oil tries to recover after one of the worst week's in a year, but what does that mean for the ag sector?</td><td>Business</td><td>https://www.agweb.com/markets/market-analysis/grains-turn-mixed-despite-strong-new-crop-exports-are-markets-running-out</td><td>null</td><td>AgWeb</td><td>06-09-2024</td><td>negative</td></tr><tr><td>How Linkin Park found its way back with new singer Emily Armstrong</td><td>Linkin Park is back. Seven years after the death of frontman Chester Bennington, the band is back together with two new additions.</td><td>Entertainment</td><td>https://www.aol.com/entertainment/linkin-park-found-way-back-005301825.html</td><td>https://www.bing.com/th?id=OVFT.mJFEoC5kw43LgbfXjsANgy&pid=News</td><td>AOL</td><td>07-09-2024</td><td>negative</td></tr><tr><td>Starmer Dublin visit 'marks new era' of friendship</td><td>Sir Keir Starmer will become the first British prime minister to visit the Republic of Ireland in five years on Saturday. Downing Street says it marks a \"new era of co-operation and friendship\" between Britain and Ireland.</td><td>Politics</td><td>https://www.bbc.co.uk/news/articles/cg58l93gz64o</td><td>https://www.bing.com/th?id=OVFT.DYeMXZArrUdQh6Wov34GDS&pid=News</td><td>BBC</td><td>07-09-2024</td><td>positive</td></tr><tr><td>Plans for new sports pitches and pavilion approved</td><td>Plans for a new sports pavilion along with artificial and grass football pitches have been given the green light. The proposals, for land opposite Blackbird Close in Newdale, Telford, also include access improvements for vehicle and cycle parking, landscaping and other associated works.</td><td>null</td><td>https://www.bbc.co.uk/news/articles/cm23g014807o</td><td>https://www.bing.com/th?id=OVFT.hbGw5xXqNn-Q8txb07xPzy&pid=News</td><td>BBC</td><td>07-09-2024</td><td>positive</td></tr><tr><td>Pope Francis urges stewardship of Papua New Guinea’s resources, peace among tribes</td><td>In his address to officials in Port Moresby, Pope Francis called for responsible use of natural resources, an end to tribal conflict, and celebrated Papua New Guinea's cultural diversity.</td><td>World</td><td>https://www.catholicnewsagency.com/news/259165/pope-francis-to-png-protect-nature-end-tribal-violence-embrace-diversity</td><td>null</td><td>Catholic News Agency</td><td>07-09-2024</td><td>positive</td></tr><tr><td>How to watch every New England Patriots game in the 2024-2025 NFL season</td><td>The New England Patriots will play one Thursday Night Football game, 11 1 p.m. games and one NFL Network-exclusive game from London. You can watch the Patriots this season on CBS, NFL Network, Fox, and Prime Video. All times Eastern.</td><td>Sports</td><td>https://www.cbsnews.com/essentials/how-to-watch-every-new-england-patriots-game-in-the-2024-2025-nfl-season/</td><td>https://www.bing.com/th?id=OVFT.gKbs_SVVSJ8CCnhPsNq_My&pid=News</td><td>CBS News</td><td>06-09-2024</td><td>positive</td></tr><tr><td>Judge delays sentencing in Trump's New York criminal case, pushing decision past election</td><td>Trump was convicted in May on 34 felony counts of falsifying business records in relation to a \"hush money\" payment to an adult film star before the 2016 election.</td><td>null</td><td>https://www.cbsnews.com/news/trump-sentencing-delay-hush-money-case-new-york/</td><td>https://www.bing.com/th?id=OVFT.ztoKdKkhPoQudrkhSrPzNC&pid=News</td><td>CBS News</td><td>06-09-2024</td><td>negative</td></tr><tr><td>Newcastle United transfer news LIVE - Gordon's summer verdict, injury boost</td><td>All the latest Newcastle United news with the Magpies stars representing their countries on international duty</td><td>Sports</td><td>https://www.chroniclelive.co.uk/sport/football/football-news/newcastle-united-transfer-news-live-29881426</td><td>null</td><td>Evening Chronicle</td><td>06-09-2024</td><td>positive</td></tr><tr><td>Mixed news on US jobs: Unemployment rate falls but hiring is slowing</td><td>The US economy is expected to have added 160,000 jobs last month and the unemployment rate likely dropped to 4.2% from 4.3%.</td><td>Business</td><td>https://www.cnn.com/business/live-news/us-jobs-report-august-2024/index.html</td><td>https://www.bing.com/th?id=OVFT._oHNZeSF4zvYz1s9JsMo8y&pid=News</td><td>CNN</td><td>06-09-2024</td><td>negative</td></tr><tr><td>The latest on the Georgia high school shooting</td><td>The teen suspected in Wednesday’s deadly mass shooting at a Georgia high school will have an initial hearing in court Friday morning, the Georgia Department of Juvenile Justice tells CNN.</td><td>null</td><td>https://www.cnn.com/us/live-news/georgia-shooting-apalachee-high-school-09-06-24/index.html</td><td>https://www.bing.com/th?id=OVFT.MjvEGDEO5zR9VQAQCFeqCS&pid=News</td><td>CNN</td><td>06-09-2024</td><td>positive</td></tr><tr><td>Erling Haaland 'closes on lucrative new Man City contract' - but Real Madrid hopes of signing superstar 'boosted by release clause'</td><td>Erling Haaland is reportedly close to committing his future to Manchester City by signing a lucrative contract extension - but the deal is expected to contain a release clause.</td><td>Sports</td><td>https://www.dailymail.co.uk/sport/football/article-13823961/Erling-Haaland-Man-City-contract-Real-Madrid-release-clause.html</td><td>null</td><td>Daily Mail</td><td>07-09-2024</td><td>neutral</td></tr><tr><td>iPhone 16 Release Date Latest: What To Expect When And Where</td><td>The countdown is on and the next iPhones are almost here. Here’s the latest on what’s happening when, including what the pricing is set to be, so nothing surprises you.</td><td>ScienceAndTechnology</td><td>https://www.forbes.com/sites/davidphelan/2024/09/06/iphone-16-release-date-latest-what-to-expect-when-and-where/</td><td>https://www.bing.com/th?id=OVFT.Mi8TQXahHPIzBa8JfJP_xi&pid=News</td><td>Forbes</td><td>06-09-2024</td><td>negative</td></tr><tr><td>Very Bad News For ‘Rings Of Power’ Season 3, As Season 2 Viewership Plummets</td><td>ForbesThere’s Only One Good Thing About ‘The Rings Of Power’ Season 2 So FarBy Erik Kain According to Samba TV data, 1.8 million U.S. households watched the first episode of Season 1 within three days of it landing on Prime Video.</td><td>Entertainment</td><td>https://www.forbes.com/sites/erikkain/2024/09/05/very-bad-news-for-rings-of-power-season-3-as-season-2-viewership-plummets/</td><td>https://www.bing.com/th?id=OVFT.cteNcMfbsFStWkkS5HnJ5S&pid=News</td><td>Forbes</td><td>07-09-2024</td><td>positive</td></tr><tr><td>Reese Witherspoon seen with new mystery man: what to know about wealthy NHL investor</td><td>Reese Witherspoon and financier Oliver Haarmann have been photographed together over the past few months. The pair have reportedly moved their relationship to the next level.</td><td>Entertainment</td><td>https://www.foxnews.com/entertainment/reese-witherspoon-seen-new-mystery-man-what-know-about-wealthy-nhl-investor</td><td>null</td><td>Fox News</td><td>07-09-2024</td><td>neutral</td></tr><tr><td>Conservative economists pour cold water on Harris' new small-business tax proposal</td><td>Conservative economists are pouring cold water on Vice President Kamala Harris' new tax proposal aimed at reducing startup costs for new small businesses as part of her \"Opportunity Economy\" platform.</td><td>Business</td><td>https://www.foxnews.com/politics/conservative-economists-pour-cold-water-harris-new-small-business-tax-proposal</td><td>https://www.bing.com/th?id=OVFT.4fKpvrT0j94QYJmX6N8mBi&pid=News</td><td>Fox News</td><td>07-09-2024</td><td>positive</td></tr><tr><td>Live AFL finals scores 2024, Sydney Swans vs GWS Giants, First Qualifying Final: Updates, stats, blog, start time, teams, latest news</td><td>In contrast the Giants (4th, 15-8, 109.1%) won seven straight games to secure a top-four finish, before a Round 24 hiccup. They have won all three previous finals against Sydney, always winning as the lower-ranked side (like they are today).</td><td>Sports</td><td>https://www.foxsports.com.au/afl/live-afl-finals-scores-2024-sydney-swans-vs-gws-giants-first-qualifying-final-updates-stats-blog-start-time-teams-latest-news/news-story/f4b7fc01c4d81ec9656ed5c8a8140ce6</td><td>https://www.bing.com/th?id=OVFT.iuevagAJ_L_im4VNPR3RSy&pid=News</td><td>Fox Sports</td><td>06-09-2024</td><td>positive</td></tr><tr><td>Mumbai News Live Updates Today</td><td>Stay tuned for Mumbai real-time updates, top news, breaking stories and headlines from Mumbai. Catch up on the most significant news for September 7, 2024.</td><td>null</td><td>https://www.hindustantimes.com/cities/mumbai-news/latest-mumbai-news-live-updates-september-7-2024-101725672623034.html</td><td>https://www.bing.com/th?id=OVFT.gmWkv3gIM3AB9cLHknlB1S&pid=News</td><td>Hindustan Times</td><td>07-09-2024</td><td>positive</td></tr><tr><td>NBC scales back The Tonight Show Starring Jimmy Fallon in latest blow to late night TV</td><td>Network also recently announced it was cutting the house band from ‘Late Night with Seth Meyers’ due to budget cuts</td><td>Entertainment</td><td>https://www.independent.co.uk/arts-entertainment/tv/news/the-tonight-show-starring-jimmy-fallon-fridays-b2608563.html</td><td>https://www.bing.com/th?id=OVFT.mUzH2QocYWldE2Fn_8vYmC&pid=News</td><td>The Independent</td><td>06-09-2024</td><td>negative</td></tr><tr><td>Royal family - news: Meghan Markle suffers major setback as Prince William sports surprising back-to-work look</td><td>News of the setback comes as Prince William returned to work sporting a stubble on a visit to a homelessness exhibition in his first official engagement since the summer break. William first revealed the rugged look in a surprise video with Kate last month as they congratulated Team GB on their Olympic success.</td><td>Politics</td><td>https://www.independent.co.uk/news/uk/home-news/william-harry-charles-meghan-markle-royal-family-latest-news-b2608060.html?page=2</td><td>null</td><td>The Independent</td><td>06-09-2024</td><td>positive</td></tr><tr><td>County Alcohol Board Reviews Violations, Transfers And A New License</td><td>On the docket for the Kosciusko County Alcohol and Tobacco Commission on Thursday, Sept. 5, were three license transfers, one new license application, two renewals with violations and 14 renewals without violations.</td><td>null</td><td>https://www.inkfreenews.com/2024/09/06/county-alcohol-board-reviews-violations-transfers-and-a-new-license/</td><td>null</td><td>InkFreeNews</td><td>06-09-2024</td><td>negative</td></tr><tr><td>US activist killed near Nablus, Hamas add new demands</td><td>American-Turkish activist killed by IDF near Nablus • Hamas add new demands for ceasefire • UK lawyers for Israel warn ICC prosecutor of breaching rules</td><td>World</td><td>https://www.jpost.com/israel-hamas-war/2024-09-07/live-updates-819061</td><td>null</td><td>The Jerusalem Post Blogs</td><td>07-09-2024</td><td>negative</td></tr><tr><td>Liverpool transfer news LIVE - Bryan Mbeumo wanted, Gleison Bremer interest, Mohamed Salah future</td><td>Brentford forward Bryan Mbeumo has emerged as a potential target for Liverpool according to the latest reports. It has been stated that the Reds may face competition from Arsenal and Newcastle for the £50m-rated forward.</td><td>Sports</td><td>https://www.liverpoolecho.co.uk/sport/football/transfer-news/liverpool-transfer-news-live-bryan-29887075</td><td>https://www.bing.com/th?id=OVFT.3MQrIAilICYKRTgBoiIk-S&pid=News</td><td>Liverpool Echo</td><td>07-09-2024</td><td>neutral</td></tr><tr><td>Manchester United transfer news LIVE Yoro injury boost, Casemiro updates and Rabiot latest</td><td>Latest Man United transfer news and rumours with updates on the future of Casemiro, Antony and free agent Adrien Rabiot</td><td>Sports</td><td>https://www.manchestereveningnews.co.uk/sport/football/transfer-news/manchester-united-transfer-news-live-29879741</td><td>https://www.bing.com/th?id=OVFT.CcHJhAPmR8qX0TuPyr4bAi&pid=News</td><td>Manchester Evening News</td><td>06-09-2024</td><td>positive</td></tr><tr><td>Liverpool news: Fresh injury blow as Reds star speaks out over game time</td><td>Liverpool have won all three of their Premier League games so far under Arne Slot but the Dutchman has already received some worrying injury news during the international break</td><td>Sports</td><td>https://www.mirror.co.uk/sport/football/news/liverpool-arne-slot-injury-update-33616585</td><td>https://www.bing.com/th?id=OVFT.T4oSmtB1wS7kBkBzm1HTqy&pid=News</td><td>The Mirror</td><td>07-09-2024</td><td>negative</td></tr><tr><td>Donald Trump and Kamala Harris race closest since 1960 and one thing could decide it, new forecast reveals</td><td>Kennedy narrowly beat Richard Nixon in 1960, according to a new forecast. It comes as Donald Trump and Kamala Harris prepare for their crunch TV debate on Tuesday. Follow all the latest election news with Dailymail.com.</td><td>null</td><td>https://www.msn.com/en-au/news/australia/race-between-trump-and-kamala-could-be-closest-since-1960/ar-AA1q792N</td><td>https://www.bing.com/th?id=OVFT.JdZIXZD3BXxt9CAKu0tByy&pid=News</td><td>Daily Mail on MSN.com</td><td>06-09-2024</td><td>neutral</td></tr><tr><td>Mark Wood laments latest England injury setback after 'rubbish news'</td><td>Mark Wood laments latest England injury setback after 'rubbish news' - Fast bowler to miss the rest of the year with longstanding elbow problem</td><td>Sports</td><td>https://www.msn.com/en-gb/health/other/mark-wood-laments-latest-england-injury-setback-after-rubbish-news/ar-AA1q8pwv</td><td>https://www.bing.com/th?id=OVFT.OV9LVBzQ3_BsWcBPMDsnNi&pid=News</td><td>Evening Standard on MSN.com</td><td>06-09-2024</td><td>negative</td></tr><tr><td>Latest News, Live Updates Today September 7, 2024: ‘You will die..’: TikToker Ali Abulaban's fate decided after murdering estranged wife and suspected boyfriend</td><td>Welcome to the live updates platform for Hindustan Times. Follow all the major news updates, headlines and breaking news stories from India and around the world right here. Track the real-time developments of major events for September 7,</td><td>India</td><td>https://www.msn.com/en-in/news/India/latest-news-live-updates-today-september-7-2024-you-will-die-tiktoker-ali-abulaban-s-fate-decided-after-murdering-estranged-wife-and-suspected-boyfriend/ar-AA1q8q7R</td><td>https://www.bing.com/th?id=OVFT.jzBMRXX4HOSBa1mfPQ5MsC&pid=News</td><td>MSN</td><td>07-09-2024</td><td>positive</td></tr><tr><td>Kings of Leon talk return and new sound on ninth album</td><td>Rock group Kings of Leon, who exploded onto the music scene in 2008 with songs like “Use Somebody” and “Sex on Fire,” returned to the studio with a fresh sound for their ninth album. The band sits down with NBC News' Chloe Melas to talk about their return and their latest album \"Can We Please Have Fun.</td><td>Entertainment</td><td>https://www.nbcnews.com/now/video/kings-of-leon-talk-return-and-new-sound-on-ninth-album-218809925633</td><td>null</td><td>NBC News</td><td>07-09-2024</td><td>positive</td></tr><tr><td>New Images of Mercury Show Speckled Surface in Sharp Detail</td><td>BepiColombo, a joint European-Japanese mission, completed its latest flyby of Mercury, sending back a sneak peek of the cratered planet it will begin to orbit in 2026.</td><td>ScienceAndTechnology</td><td>https://www.nytimes.com/2024/09/07/science/mercury-images-bepicolombo.html</td><td>https://www.bing.com/th?id=OVFT.Yb-GmuGWa0uk1PRWb5TOkS&pid=News</td><td>The New York Times</td><td>07-09-2024</td><td>neutral</td></tr><tr><td>Thailand's king swears in new government after turmoil</td><td>Thailand's King Maha Vajiralongkorn swore in Prime Minister Paetongtarn Shinawatra and 35 cabinet ministers in Bangkok on Friday, ushering in a new government in Southeast Asia's second largest economy after a period of political turmoil.</td><td>World</td><td>https://www.reuters.com/world/asia-pacific/thailands-king-swears-new-government-after-turmoil-2024-09-06/</td><td>https://www.bing.com/th?id=OVFT.tykS77xPzz1Kl36MslLAhS&pid=News</td><td>Reuters</td><td>06-09-2024</td><td>negative</td></tr><tr><td>IFA 2024: all the news from the big Berlin tech show</td><td>IFA, Europe’s huge consumer tech expo, attracts some of the biggest companies in the world. It’s like a counterpart to CES in the United States, which happens in January, whereas IFA caps off the summer with news on the latest smartphones, fridges, robot vacuums, laptops, and “AI-powered” products from A to Z.</td><td>ScienceAndTechnology</td><td>https://www.theverge.com/2024/9/3/24231736/ifa-2024-news-products-updates-highlights-berlin/archives/2</td><td>https://www.bing.com/th?id=OVFT.YE-wxhboHe4xjAVSPqFjUC&pid=News</td><td>The Verge</td><td>06-09-2024</td><td>positive</td></tr><tr><td>Jonathan and Drew Scott renovate their parents' new LA home — take a tour</td><td>\"Property Brothers\" duo Jonathan and Drew Scott have unveiled a project that they hold near and dear to their hearts. The HGTV stars shared in the September/October issue of HGTV Magazine that they recently gave their parents, Joanne and Jim Scott, the ultimate home makeover.</td><td>LifeStyle</td><td>https://www.today.com/home/property-brothers-parents-home-renovation-rcna169549</td><td>https://www.bing.com/th?id=OVFT.lujcvQ_MYzmrknVgnA3ISy&pid=News</td><td>Today</td><td>06-09-2024</td><td>positive</td></tr><tr><td>Uncrewed Starliner undocks from ISS, heads for New Mexico landing at night</td><td>The uncrewed Boeing Starliner successfully undocked from the International Space Station on Friday and began heading back to Earth with a landing scheduled in New Mexico within six hours.</td><td>ScienceAndTechnology</td><td>https://www.upi.com/Science_News/2024/09/06/Uncrewed-Starliner-undock-ISS-Friday-evening-land-6-hours-later/6441725647280/</td><td>https://www.bing.com/th?id=OVFT.o3bscDQPWSHoTIkXnWqH-C&pid=News</td><td>UPI</td><td>06-09-2024</td><td>positive</td></tr><tr><td>When can you see the fall foliage in New England? Farmers' Almanac shares predictions</td><td>New Englanders get ready to see picturesque sights from the fall foliage. Some states may see beautiful leaves by the end of September.</td><td>LifeStyle</td><td>https://www.usatoday.com/story/news/graphics/2024/09/07/new-england-fall-foliage-maps-2024/75106801007/</td><td>https://www.bing.com/th?id=OVFT.MWH9RPjaTsuAtkkA5WJa2y&pid=News</td><td>USA Today</td><td>07-09-2024</td><td>positive</td></tr><tr><td>Palm Beach County election news: Harris-Walz bus tour takes off, Barron Trump attends NYU</td><td>Harris-Walz campaign starts tour for reproductive rights; Donald Trump began to lose voters; Barron Trump attends NYU.</td><td>Politics</td><td>https://www.usatoday.com/story/news/politics/elections/2024/09/06/palm-beach-county-news-barron-trump-attends-nyu-harris-walz-bus-tour/75078625007/</td><td>https://www.bing.com/th?id=OVFT.RnQVd8gUfL-rAt5zEAYxYS&pid=News</td><td>USA Today</td><td>06-09-2024</td><td>negative</td></tr><tr><td>Weekly Recap: Top Car News Making Waves In India Over The Past Week</td><td>Here are the past week’s top news highlights featuring the launch of a Tata SUV-coupe and an ultra-luxurious Mercedes SUV and new editions for Skoda Slavia and Kushaq, Hyundai Creta and Kia SUVs along</td><td>ScienceAndTechnology</td><td>https://www.zigwheels.com/news-features/news/weekly-recap-top-car-news-making-waves-in-india-over-the-past-week/54186/</td><td>https://www.bing.com/th?id=OVFT.IJa4mP5axSLY9bpAqKp7gC&pid=News</td><td>ZigWheels</td><td>07-09-2024</td><td>negative</td></tr></tbody></table></div>"
      ]
     },
     "metadata": {
      "application/vnd.databricks.v1+output": {
       "addedWidgets": {},
       "aggData": [],
       "aggError": "",
       "aggOverflow": false,
       "aggSchema": [],
       "aggSeriesLimitReached": false,
       "aggType": "",
       "arguments": {},
       "columnCustomDisplayInfos": {},
       "data": [
        [
         "Georgia school shooting latest: 14-year-old suspect set to appear in court",
         "The 14-year-old boy accused of fatally shooting four people at a Georgia high school was expected to make his first court appearance Friday.",
         null,
         "https://6abc.com/post/georgia-high-school-shooting-colt-gray-teen-suspect-accused-apalachee-hs-due-court/15273486/",
         null,
         "6abc News",
         "06-09-2024",
         "negative"
        ],
        [
         "Georgia school shooting latest: 14-year-old suspect charged with murder, father also charged",
         "The 14-year-old suspect behind Wednesday's deadly school shooting in Georgia has been charged with four counts of felony murder.",
         null,
         "https://abc13.com/post/georgia-high-school-shooting-questions-surround-weapon-motive-deadly-incident-apalachee/15270304/",
         null,
         "abc13",
         "06-09-2024",
         "negative"
        ],
        [
         "The latest in the 2024 presidential race",
         "With just days until the debate, Donald Trump is traveling to battleground North Carolina this afternoon while Vice President Kamala Harris is expected to continue to prepare for the event in Pennsylvania.",
         "Politics",
         "https://edition.cnn.com/politics/live-news/trump-harris-election-09-06-24/index.html",
         "https://www.bing.com/th?id=OVFT.CZzav2isTPHdHcJhBXw-zi&pid=News",
         "CNN",
         "06-09-2024",
         "negative"
        ],
        [
         "September 6 Georgia school shooting news",
         "The teen suspected in the deadly mass shooting at a Georgia high school and his father had initial hearings in court Friday morning. Follow for live news updates.",
         null,
         "https://edition.cnn.com/us/live-news/georgia-shooting-apalachee-high-school-09-06-24",
         "https://www.bing.com/th?id=OVFT.MjvEGDEO5zR9VQAQCFeqCS&pid=News",
         "CNN",
         "06-09-2024",
         "negative"
        ],
        [
         "Opinion: Canada must model Norway's balanced energy sector",
         "Canada needs to recognize itself as the energy giant that it is, and more importantly, realize how much greater of a giant it can be, while also being a leader in the energy transition. Unfortunately, we lack a cohesive, pragmatic culture and a fact-based narrative around energy, especially around fossil fuels, to take us to the next level.",
         "Business",
         "https://nationalpost.com/opinion/opinion-canada-must-model-norways-balanced-energy-sector",
         "https://www.bing.com/th?id=OVFT.y1p7S37SRz3PBssKqc8xqi&pid=News",
         "National Post",
         "06-09-2024",
         "positive"
        ],
        [
         "Stunning News of Trump Sentencing Delay Sends Message: MAGA Rage Works",
         "The politics of this may play out fine for Kamala Harris. But once again, the legal system was cowed by Trump’s bullying and lawlessness.",
         "Politics",
         "https://newrepublic.com/article/185707/trump-sentencing-delay-maga-rage-works",
         "https://www.bing.com/th?id=OVFT.E3WY-EDc1BphX5PFX_uIWS&pid=News",
         "New Republic",
         "07-09-2024",
         "negative"
        ],
        [
         "Afghanistan vs New Zealand One-Off Test: Date, Time, Venue, Live streaming, Tickets & More Details",
         "Afghanistan are set to host New Zealand for a one-off Test match in India. Here's all the crucial details about the one-off Test.",
         "Sports",
         "https://news.abplive.com/sports/cricket/afghanistan-vs-new-zealand-test-greater-noida-date-time-venue-live-streaming-how-to-buy-tickets-1715603",
         "https://www.bing.com/th?id=OVFT.oxtPfWa6dhthZliiqfsSSi&pid=News",
         "abp LIVE",
         "07-09-2024",
         "neutral"
        ],
        [
         "'Life here is much more easy': Migrants tell Sky News why PM's pledge to 'smash the gangs' won't work",
         "Migrants say they don't believe government efforts to tackle smuggling gangs will stop illegal migration, with \"thousands\" of people willing to take the money of those determined to get to the UK.",
         "LifeStyle",
         "https://news.sky.com/story/starmers-pledge-to-smash-the-gangs-wont-stop-small-boat-crossings-migrants-explain-why-13210689",
         "https://www.bing.com/th?id=OVFT.stynnzLBt8KhhA6iVz1ATC&pid=News",
         "Sky",
         "06-09-2024",
         "negative"
        ],
        [
         "Three out of four parents of children with special educational needs and disabilities forced to give up work or cut hours, Sky News learns",
         "In a survey commissioned by Sky News, parents of children with special educational needs and disabilities (SEND) said maintaining a job is difficult due to a lack of local authority help, while others blamed not enough school support and lack of employer flexibility.",
         "LifeStyle",
         "https://news.sky.com/story/three-out-of-four-parents-of-children-with-special-educational-needs-and-disabilities-forced-to-give-up-work-or-cut-hours-sky-news-learns-13210125",
         "https://www.bing.com/th?id=OVFT.HZFLV2EfJyTHB2ZwXuxNli&pid=News",
         "Sky",
         "06-09-2024",
         "negative"
        ],
        [
         "Kate Middleton fans celebrate Princess of Wales’ ‘lovely’ new X post amid cancer battle",
         "The Princess of Wales, 42, delighted fans on Friday with a sweet note on X congratulating TV presenter Dwayne Fields on becoming UK’s new Chief Scout.",
         "Entertainment",
         "https://pagesix.com/2024/09/06/royal-family/kate-middleton-fans-celebrate-princess-of-wales-new-x-post-amid-cancer-battle/",
         null,
         "Page Six",
         "06-09-2024",
         "positive"
        ],
        [
         "Sabrina Carpenter Put Kevin Bacon in Her New Song. His Reaction on FaceTime with His Daughter Is Perfect",
         "Kevin Bacon shared a recent Instagram clip of the hilarious moment in which his daughter Sosie Bacon told him that Sabrina Carpenter's song 'Taste' seemingly references 'Six Degrees of Kevin Bacon.'",
         "Entertainment",
         "https://people.com/sabrina-carpenter-put-kevin-bacon-in-her-new-song-his-reaction-on-facetime-with-his-daughter-is-perfect-8707891",
         null,
         "People",
         "06-09-2024",
         "positive"
        ],
        [
         "Saskatchewan Election 2024 | Sask. Election News and Polls | CTV News Saskatchewan",
         "Speaker cuts ties with Sask. Party, alleges he faced threats, harassment from gov't MLAs. The Speaker of the Saskatchewan Legislature Randy Weekes has severed ties with the Sask.",
         null,
         "https://regina.ctvnews.ca/saskatchewan-election-2024",
         null,
         "CTV News",
         "06-09-2024",
         "negative"
        ],
        [
         "Breaking News Today Live Updates: Brij Bhushan Singh alleges Congress conspiracy after wrestlers join party ahead of Haryana polls",
         "India news live updates: Brij Bhushan Singh alleges Congress conspiracy after wrestlers join party ahead of Haryana polls",
         "LifeStyle",
         "https://timesofindia.indiatimes.com/india/latest-india-world-news-live-updates-today-breaking-news-7th-september-2024/liveblog/113140773.cms",
         "https://www.bing.com/th?id=OVFT.WZ-iCZZ5YwrvGNBhiecnfi&pid=News",
         "Indiatimes",
         "07-09-2024",
         "positive"
        ],
        [
         "Grains Turn Mixed Despite Strong New Crop Exports: Are the Markets Running Out of Gas?",
         "He says the recent rally in the grains follows the seasonal patterns and while demand news and weather have been helpful, most of the push has been fund short covering. Crude oil tries to recover after one of the worst week's in a year, but what does that mean for the ag sector?",
         "Business",
         "https://www.agweb.com/markets/market-analysis/grains-turn-mixed-despite-strong-new-crop-exports-are-markets-running-out",
         null,
         "AgWeb",
         "06-09-2024",
         "negative"
        ],
        [
         "How Linkin Park found its way back with new singer Emily Armstrong",
         "Linkin Park is back. Seven years after the death of frontman Chester Bennington, the band is back together with two new additions.",
         "Entertainment",
         "https://www.aol.com/entertainment/linkin-park-found-way-back-005301825.html",
         "https://www.bing.com/th?id=OVFT.mJFEoC5kw43LgbfXjsANgy&pid=News",
         "AOL",
         "07-09-2024",
         "negative"
        ],
        [
         "Starmer Dublin visit 'marks new era' of friendship",
         "Sir Keir Starmer will become the first British prime minister to visit the Republic of Ireland in five years on Saturday. Downing Street says it marks a \"new era of co-operation and friendship\" between Britain and Ireland.",
         "Politics",
         "https://www.bbc.co.uk/news/articles/cg58l93gz64o",
         "https://www.bing.com/th?id=OVFT.DYeMXZArrUdQh6Wov34GDS&pid=News",
         "BBC",
         "07-09-2024",
         "positive"
        ],
        [
         "Plans for new sports pitches and pavilion approved",
         "Plans for a new sports pavilion along with artificial and grass football pitches have been given the green light. The proposals, for land opposite Blackbird Close in Newdale, Telford, also include access improvements for vehicle and cycle parking, landscaping and other associated works.",
         null,
         "https://www.bbc.co.uk/news/articles/cm23g014807o",
         "https://www.bing.com/th?id=OVFT.hbGw5xXqNn-Q8txb07xPzy&pid=News",
         "BBC",
         "07-09-2024",
         "positive"
        ],
        [
         "Pope Francis urges stewardship of Papua New Guinea’s resources, peace among tribes",
         "In his address to officials in Port Moresby, Pope Francis called for responsible use of natural resources, an end to tribal conflict, and celebrated Papua New Guinea's cultural diversity.",
         "World",
         "https://www.catholicnewsagency.com/news/259165/pope-francis-to-png-protect-nature-end-tribal-violence-embrace-diversity",
         null,
         "Catholic News Agency",
         "07-09-2024",
         "positive"
        ],
        [
         "How to watch every New England Patriots game in the 2024-2025 NFL season",
         "The New England Patriots will play one Thursday Night Football game, 11 1 p.m. games and one NFL Network-exclusive game from London. You can watch the Patriots this season on CBS, NFL Network, Fox, and Prime Video. All times Eastern.",
         "Sports",
         "https://www.cbsnews.com/essentials/how-to-watch-every-new-england-patriots-game-in-the-2024-2025-nfl-season/",
         "https://www.bing.com/th?id=OVFT.gKbs_SVVSJ8CCnhPsNq_My&pid=News",
         "CBS News",
         "06-09-2024",
         "positive"
        ],
        [
         "Judge delays sentencing in Trump's New York criminal case, pushing decision past election",
         "Trump was convicted in May on 34 felony counts of falsifying business records in relation to a \"hush money\" payment to an adult film star before the 2016 election.",
         null,
         "https://www.cbsnews.com/news/trump-sentencing-delay-hush-money-case-new-york/",
         "https://www.bing.com/th?id=OVFT.ztoKdKkhPoQudrkhSrPzNC&pid=News",
         "CBS News",
         "06-09-2024",
         "negative"
        ],
        [
         "Newcastle United transfer news LIVE - Gordon's summer verdict, injury boost",
         "All the latest Newcastle United news with the Magpies stars representing their countries on international duty",
         "Sports",
         "https://www.chroniclelive.co.uk/sport/football/football-news/newcastle-united-transfer-news-live-29881426",
         null,
         "Evening Chronicle",
         "06-09-2024",
         "positive"
        ],
        [
         "Mixed news on US jobs: Unemployment rate falls but hiring is slowing",
         "The US economy is expected to have added 160,000 jobs last month and the unemployment rate likely dropped to 4.2% from 4.3%.",
         "Business",
         "https://www.cnn.com/business/live-news/us-jobs-report-august-2024/index.html",
         "https://www.bing.com/th?id=OVFT._oHNZeSF4zvYz1s9JsMo8y&pid=News",
         "CNN",
         "06-09-2024",
         "negative"
        ],
        [
         "The latest on the Georgia high school shooting",
         "The teen suspected in Wednesday’s deadly mass shooting at a Georgia high school will have an initial hearing in court Friday morning, the Georgia Department of Juvenile Justice tells CNN.",
         null,
         "https://www.cnn.com/us/live-news/georgia-shooting-apalachee-high-school-09-06-24/index.html",
         "https://www.bing.com/th?id=OVFT.MjvEGDEO5zR9VQAQCFeqCS&pid=News",
         "CNN",
         "06-09-2024",
         "positive"
        ],
        [
         "Erling Haaland 'closes on lucrative new Man City contract' - but Real Madrid hopes of signing superstar 'boosted by release clause'",
         "Erling Haaland is reportedly close to committing his future to Manchester City by signing a lucrative contract extension - but the deal is expected to contain a release clause.",
         "Sports",
         "https://www.dailymail.co.uk/sport/football/article-13823961/Erling-Haaland-Man-City-contract-Real-Madrid-release-clause.html",
         null,
         "Daily Mail",
         "07-09-2024",
         "neutral"
        ],
        [
         "iPhone 16 Release Date Latest: What To Expect When And Where",
         "The countdown is on and the next iPhones are almost here. Here’s the latest on what’s happening when, including what the pricing is set to be, so nothing surprises you.",
         "ScienceAndTechnology",
         "https://www.forbes.com/sites/davidphelan/2024/09/06/iphone-16-release-date-latest-what-to-expect-when-and-where/",
         "https://www.bing.com/th?id=OVFT.Mi8TQXahHPIzBa8JfJP_xi&pid=News",
         "Forbes",
         "06-09-2024",
         "negative"
        ],
        [
         "Very Bad News For ‘Rings Of Power’ Season 3, As Season 2 Viewership Plummets",
         "ForbesThere’s Only One Good Thing About ‘The Rings Of Power’ Season 2 So FarBy Erik Kain According to Samba TV data, 1.8 million U.S. households watched the first episode of Season 1 within three days of it landing on Prime Video.",
         "Entertainment",
         "https://www.forbes.com/sites/erikkain/2024/09/05/very-bad-news-for-rings-of-power-season-3-as-season-2-viewership-plummets/",
         "https://www.bing.com/th?id=OVFT.cteNcMfbsFStWkkS5HnJ5S&pid=News",
         "Forbes",
         "07-09-2024",
         "positive"
        ],
        [
         "Reese Witherspoon seen with new mystery man: what to know about wealthy NHL investor",
         "Reese Witherspoon and financier Oliver Haarmann have been photographed together over the past few months. The pair have reportedly moved their relationship to the next level.",
         "Entertainment",
         "https://www.foxnews.com/entertainment/reese-witherspoon-seen-new-mystery-man-what-know-about-wealthy-nhl-investor",
         null,
         "Fox News",
         "07-09-2024",
         "neutral"
        ],
        [
         "Conservative economists pour cold water on Harris' new small-business tax proposal",
         "Conservative economists are pouring cold water on Vice President Kamala Harris' new tax proposal aimed at reducing startup costs for new small businesses as part of her \"Opportunity Economy\" platform.",
         "Business",
         "https://www.foxnews.com/politics/conservative-economists-pour-cold-water-harris-new-small-business-tax-proposal",
         "https://www.bing.com/th?id=OVFT.4fKpvrT0j94QYJmX6N8mBi&pid=News",
         "Fox News",
         "07-09-2024",
         "positive"
        ],
        [
         "Live AFL finals scores 2024, Sydney Swans vs GWS Giants, First Qualifying Final: Updates, stats, blog, start time, teams, latest news",
         "In contrast the Giants (4th, 15-8, 109.1%) won seven straight games to secure a top-four finish, before a Round 24 hiccup. They have won all three previous finals against Sydney, always winning as the lower-ranked side (like they are today).",
         "Sports",
         "https://www.foxsports.com.au/afl/live-afl-finals-scores-2024-sydney-swans-vs-gws-giants-first-qualifying-final-updates-stats-blog-start-time-teams-latest-news/news-story/f4b7fc01c4d81ec9656ed5c8a8140ce6",
         "https://www.bing.com/th?id=OVFT.iuevagAJ_L_im4VNPR3RSy&pid=News",
         "Fox Sports",
         "06-09-2024",
         "positive"
        ],
        [
         "Mumbai News Live Updates Today",
         "Stay tuned for Mumbai real-time updates, top news, breaking stories and headlines from Mumbai. Catch up on the most significant news for September 7, 2024.",
         null,
         "https://www.hindustantimes.com/cities/mumbai-news/latest-mumbai-news-live-updates-september-7-2024-101725672623034.html",
         "https://www.bing.com/th?id=OVFT.gmWkv3gIM3AB9cLHknlB1S&pid=News",
         "Hindustan Times",
         "07-09-2024",
         "positive"
        ],
        [
         "NBC scales back The Tonight Show Starring Jimmy Fallon in latest blow to late night TV",
         "Network also recently announced it was cutting the house band from ‘Late Night with Seth Meyers’ due to budget cuts",
         "Entertainment",
         "https://www.independent.co.uk/arts-entertainment/tv/news/the-tonight-show-starring-jimmy-fallon-fridays-b2608563.html",
         "https://www.bing.com/th?id=OVFT.mUzH2QocYWldE2Fn_8vYmC&pid=News",
         "The Independent",
         "06-09-2024",
         "negative"
        ],
        [
         "Royal family - news: Meghan Markle suffers major setback as Prince William sports surprising back-to-work look",
         "News of the setback comes as Prince William returned to work sporting a stubble on a visit to a homelessness exhibition in his first official engagement since the summer break. William first revealed the rugged look in a surprise video with Kate last month as they congratulated Team GB on their Olympic success.",
         "Politics",
         "https://www.independent.co.uk/news/uk/home-news/william-harry-charles-meghan-markle-royal-family-latest-news-b2608060.html?page=2",
         null,
         "The Independent",
         "06-09-2024",
         "positive"
        ],
        [
         "County Alcohol Board Reviews Violations, Transfers And A New License",
         "On the docket for the Kosciusko County Alcohol and Tobacco Commission on Thursday, Sept. 5, were three license transfers, one new license application, two renewals with violations and 14 renewals without violations.",
         null,
         "https://www.inkfreenews.com/2024/09/06/county-alcohol-board-reviews-violations-transfers-and-a-new-license/",
         null,
         "InkFreeNews",
         "06-09-2024",
         "negative"
        ],
        [
         "US activist killed near Nablus, Hamas add new demands",
         "American-Turkish activist killed by IDF near Nablus • Hamas add new demands for ceasefire • UK lawyers for Israel warn ICC prosecutor of breaching rules",
         "World",
         "https://www.jpost.com/israel-hamas-war/2024-09-07/live-updates-819061",
         null,
         "The Jerusalem Post Blogs",
         "07-09-2024",
         "negative"
        ],
        [
         "Liverpool transfer news LIVE - Bryan Mbeumo wanted, Gleison Bremer interest, Mohamed Salah future",
         "Brentford forward Bryan Mbeumo has emerged as a potential target for Liverpool according to the latest reports. It has been stated that the Reds may face competition from Arsenal and Newcastle for the £50m-rated forward.",
         "Sports",
         "https://www.liverpoolecho.co.uk/sport/football/transfer-news/liverpool-transfer-news-live-bryan-29887075",
         "https://www.bing.com/th?id=OVFT.3MQrIAilICYKRTgBoiIk-S&pid=News",
         "Liverpool Echo",
         "07-09-2024",
         "neutral"
        ],
        [
         "Manchester United transfer news LIVE Yoro injury boost, Casemiro updates and Rabiot latest",
         "Latest Man United transfer news and rumours with updates on the future of Casemiro, Antony and free agent Adrien Rabiot",
         "Sports",
         "https://www.manchestereveningnews.co.uk/sport/football/transfer-news/manchester-united-transfer-news-live-29879741",
         "https://www.bing.com/th?id=OVFT.CcHJhAPmR8qX0TuPyr4bAi&pid=News",
         "Manchester Evening News",
         "06-09-2024",
         "positive"
        ],
        [
         "Liverpool news: Fresh injury blow as Reds star speaks out over game time",
         "Liverpool have won all three of their Premier League games so far under Arne Slot but the Dutchman has already received some worrying injury news during the international break",
         "Sports",
         "https://www.mirror.co.uk/sport/football/news/liverpool-arne-slot-injury-update-33616585",
         "https://www.bing.com/th?id=OVFT.T4oSmtB1wS7kBkBzm1HTqy&pid=News",
         "The Mirror",
         "07-09-2024",
         "negative"
        ],
        [
         "Donald Trump and Kamala Harris race closest since 1960 and one thing could decide it, new forecast reveals",
         "Kennedy narrowly beat Richard Nixon in 1960, according to a new forecast. It comes as Donald Trump and Kamala Harris prepare for their crunch TV debate on Tuesday. Follow all the latest election news with Dailymail.com.",
         null,
         "https://www.msn.com/en-au/news/australia/race-between-trump-and-kamala-could-be-closest-since-1960/ar-AA1q792N",
         "https://www.bing.com/th?id=OVFT.JdZIXZD3BXxt9CAKu0tByy&pid=News",
         "Daily Mail on MSN.com",
         "06-09-2024",
         "neutral"
        ],
        [
         "Mark Wood laments latest England injury setback after 'rubbish news'",
         "Mark Wood laments latest England injury setback after 'rubbish news' - Fast bowler to miss the rest of the year with longstanding elbow problem",
         "Sports",
         "https://www.msn.com/en-gb/health/other/mark-wood-laments-latest-england-injury-setback-after-rubbish-news/ar-AA1q8pwv",
         "https://www.bing.com/th?id=OVFT.OV9LVBzQ3_BsWcBPMDsnNi&pid=News",
         "Evening Standard on MSN.com",
         "06-09-2024",
         "negative"
        ],
        [
         "Latest News, Live Updates Today September 7, 2024: ‘You will die..’: TikToker Ali Abulaban's fate decided after murdering estranged wife and suspected boyfriend",
         "Welcome to the live updates platform for Hindustan Times. Follow all the major news updates, headlines and breaking news stories from India and around the world right here. Track the real-time developments of major events for September 7,",
         "India",
         "https://www.msn.com/en-in/news/India/latest-news-live-updates-today-september-7-2024-you-will-die-tiktoker-ali-abulaban-s-fate-decided-after-murdering-estranged-wife-and-suspected-boyfriend/ar-AA1q8q7R",
         "https://www.bing.com/th?id=OVFT.jzBMRXX4HOSBa1mfPQ5MsC&pid=News",
         "MSN",
         "07-09-2024",
         "positive"
        ],
        [
         "Kings of Leon talk return and new sound on ninth album",
         "Rock group Kings of Leon, who exploded onto the music scene in 2008 with songs like “Use Somebody” and “Sex on Fire,” returned to the studio with a fresh sound for their ninth album. The band sits down with NBC News' Chloe Melas to talk about their return and their latest album \"Can We Please Have Fun.",
         "Entertainment",
         "https://www.nbcnews.com/now/video/kings-of-leon-talk-return-and-new-sound-on-ninth-album-218809925633",
         null,
         "NBC News",
         "07-09-2024",
         "positive"
        ],
        [
         "New Images of Mercury Show Speckled Surface in Sharp Detail",
         "BepiColombo, a joint European-Japanese mission, completed its latest flyby of Mercury, sending back a sneak peek of the cratered planet it will begin to orbit in 2026.",
         "ScienceAndTechnology",
         "https://www.nytimes.com/2024/09/07/science/mercury-images-bepicolombo.html",
         "https://www.bing.com/th?id=OVFT.Yb-GmuGWa0uk1PRWb5TOkS&pid=News",
         "The New York Times",
         "07-09-2024",
         "neutral"
        ],
        [
         "Thailand's king swears in new government after turmoil",
         "Thailand's King Maha Vajiralongkorn swore in Prime Minister Paetongtarn Shinawatra and 35 cabinet ministers in Bangkok on Friday, ushering in a new government in Southeast Asia's second largest economy after a period of political turmoil.",
         "World",
         "https://www.reuters.com/world/asia-pacific/thailands-king-swears-new-government-after-turmoil-2024-09-06/",
         "https://www.bing.com/th?id=OVFT.tykS77xPzz1Kl36MslLAhS&pid=News",
         "Reuters",
         "06-09-2024",
         "negative"
        ],
        [
         "IFA 2024: all the news from the big Berlin tech show",
         "IFA, Europe’s huge consumer tech expo, attracts some of the biggest companies in the world. It’s like a counterpart to CES in the United States, which happens in January, whereas IFA caps off the summer with news on the latest smartphones, fridges, robot vacuums, laptops, and “AI-powered” products from A to Z.",
         "ScienceAndTechnology",
         "https://www.theverge.com/2024/9/3/24231736/ifa-2024-news-products-updates-highlights-berlin/archives/2",
         "https://www.bing.com/th?id=OVFT.YE-wxhboHe4xjAVSPqFjUC&pid=News",
         "The Verge",
         "06-09-2024",
         "positive"
        ],
        [
         "Jonathan and Drew Scott renovate their parents' new LA home — take a tour",
         "\"Property Brothers\" duo Jonathan and Drew Scott have unveiled a project that they hold near and dear to their hearts. The HGTV stars shared in the September/October issue of HGTV Magazine that they recently gave their parents, Joanne and Jim Scott, the ultimate home makeover.",
         "LifeStyle",
         "https://www.today.com/home/property-brothers-parents-home-renovation-rcna169549",
         "https://www.bing.com/th?id=OVFT.lujcvQ_MYzmrknVgnA3ISy&pid=News",
         "Today",
         "06-09-2024",
         "positive"
        ],
        [
         "Uncrewed Starliner undocks from ISS, heads for New Mexico landing at night",
         "The uncrewed Boeing Starliner successfully undocked from the International Space Station on Friday and began heading back to Earth with a landing scheduled in New Mexico within six hours.",
         "ScienceAndTechnology",
         "https://www.upi.com/Science_News/2024/09/06/Uncrewed-Starliner-undock-ISS-Friday-evening-land-6-hours-later/6441725647280/",
         "https://www.bing.com/th?id=OVFT.o3bscDQPWSHoTIkXnWqH-C&pid=News",
         "UPI",
         "06-09-2024",
         "positive"
        ],
        [
         "When can you see the fall foliage in New England? Farmers' Almanac shares predictions",
         "New Englanders get ready to see picturesque sights from the fall foliage. Some states may see beautiful leaves by the end of September.",
         "LifeStyle",
         "https://www.usatoday.com/story/news/graphics/2024/09/07/new-england-fall-foliage-maps-2024/75106801007/",
         "https://www.bing.com/th?id=OVFT.MWH9RPjaTsuAtkkA5WJa2y&pid=News",
         "USA Today",
         "07-09-2024",
         "positive"
        ],
        [
         "Palm Beach County election news: Harris-Walz bus tour takes off, Barron Trump attends NYU",
         "Harris-Walz campaign starts tour for reproductive rights; Donald Trump began to lose voters; Barron Trump attends NYU.",
         "Politics",
         "https://www.usatoday.com/story/news/politics/elections/2024/09/06/palm-beach-county-news-barron-trump-attends-nyu-harris-walz-bus-tour/75078625007/",
         "https://www.bing.com/th?id=OVFT.RnQVd8gUfL-rAt5zEAYxYS&pid=News",
         "USA Today",
         "06-09-2024",
         "negative"
        ],
        [
         "Weekly Recap: Top Car News Making Waves In India Over The Past Week",
         "Here are the past week’s top news highlights featuring the launch of a Tata SUV-coupe and an ultra-luxurious Mercedes SUV and new editions for Skoda Slavia and Kushaq, Hyundai Creta and Kia SUVs along",
         "ScienceAndTechnology",
         "https://www.zigwheels.com/news-features/news/weekly-recap-top-car-news-making-waves-in-india-over-the-past-week/54186/",
         "https://www.bing.com/th?id=OVFT.IJa4mP5axSLY9bpAqKp7gC&pid=News",
         "ZigWheels",
         "07-09-2024",
         "negative"
        ]
       ],
       "datasetInfos": [],
       "dbfsResultPath": null,
       "isJsonSchema": true,
       "metadata": {},
       "overflow": false,
       "plotOptions": {
        "customPlotOptions": {},
        "displayType": "table",
        "pivotAggregation": null,
        "pivotColumns": null,
        "xColumns": null,
        "yColumns": null
       },
       "removedWidgets": [],
       "schema": [
        {
         "metadata": "{}",
         "name": "title",
         "type": "\"string\""
        },
        {
         "metadata": "{}",
         "name": "description",
         "type": "\"string\""
        },
        {
         "metadata": "{}",
         "name": "category",
         "type": "\"string\""
        },
        {
         "metadata": "{}",
         "name": "url",
         "type": "\"string\""
        },
        {
         "metadata": "{}",
         "name": "image",
         "type": "\"string\""
        },
        {
         "metadata": "{}",
         "name": "provider",
         "type": "\"string\""
        },
        {
         "metadata": "{}",
         "name": "datePublished",
         "type": "\"string\""
        },
        {
         "metadata": "{}",
         "name": "sentiment",
         "type": "\"string\""
        }
       ],
       "type": "table"
      }
     },
     "output_type": "display_data"
    }
   ],
   "source": [
    "df_with_sentiment.display()"
   ]
  },
  {
   "cell_type": "code",
   "execution_count": 0,
   "metadata": {
    "application/vnd.databricks.v1+cell": {
     "cellMetadata": {
      "byteLimit": 2048000,
      "rowLimit": 10000
     },
     "inputWidgets": {},
     "nuid": "2a52df4d-6cdb-43f4-9d3f-f2396166185f",
     "showTitle": false,
     "title": ""
    },
    "nteract": {
     "transient": {
      "deleting": false
     }
    }
   },
   "outputs": [],
   "source": [
    "from pyspark.sql.utils import AnalysisException\n",
    "\n",
    "try:\n",
    "    table_name='default.sentiment_bing'\n",
    "    df_with_sentiment.write.format('delta').saveAsTable(table_name)\n",
    "except AnalysisException:\n",
    "    print(\"table is already created\")\n",
    "\n",
    "    df_with_sentiment.createOrReplaceTempView('temp')\n",
    "\n",
    "    spark.sql(f\"\"\"merge into {table_name} target_table\n",
    "                    using temp source_view\n",
    "                    on  source_view.url=target_table.url\n",
    "\n",
    "                    when matched and\n",
    "                    source_view.title<>target_table.title OR\n",
    "                    source_view.description<>target_table.description OR\n",
    "                    source_view.provider<>target_table.provider OR\n",
    "                    source_view.image<>target_table.image OR\n",
    "                    source_view.category<>target_table.category OR\n",
    "                    source_view.datePublished<>target_table.datePublished OR\n",
    "                    source_view.sentiment<>target_table.sentiment\n",
    "                    Then update set *\n",
    "\n",
    "                    when not matched then insert *\n",
    "    \"\"\")"
   ]
  },
  {
   "cell_type": "code",
   "execution_count": 0,
   "metadata": {
    "application/vnd.databricks.v1+cell": {
     "cellMetadata": {},
     "inputWidgets": {},
     "nuid": "87a3fb7e-9284-4747-90c9-5a48e42edfe9",
     "showTitle": false,
     "title": ""
    }
   },
   "outputs": [],
   "source": []
  }
 ],
 "metadata": {
  "application/vnd.databricks.v1+notebook": {
   "dashboards": [],
   "environmentMetadata": {
    "base_environment": "",
    "client": "1"
   },
   "language": "python",
   "notebookMetadata": {
    "mostRecentlyExecutedCommandWithImplicitDF": {
     "commandId": 1471853244673074,
     "dataframes": [
      "_sqldf"
     ]
    },
    "pythonIndentUnit": 4
   },
   "notebookName": "bing-sentiment-analysis",
   "widgets": {}
  },
  "description": null,
  "kernel_info": {
   "name": "synapse_pyspark"
  },
  "kernelspec": {
   "display_name": "Synapse PySpark",
   "language": "Python",
   "name": "synapse_pyspark"
  },
  "language_info": {
   "name": "python"
  },
  "save_output": true,
  "synapse_widget": {
   "state": {},
   "version": "0.1"
  }
 },
 "nbformat": 4,
 "nbformat_minor": 0
}
