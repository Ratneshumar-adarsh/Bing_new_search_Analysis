{
  "cells": [
    {
      "cell_type": "markdown",
      "source": [
        "**In this data ingestion pipeline, I used the Bing API as the source to fetch real-time data. The API was leveraged to gather structured information such as news articles, search results, and metadata. The data retrieved from the Bing API was in a JSON format.**\r\n",
        "\r\n",
        "**To orchestrate and automate the ingestion process, I utilized Azure Data Factory (ADF). Azure Data Factory allowed me to set up a scalable, automated data pipeline that periodically calls the Bing API, extracts the data, and ingests it into a designated storage location within Azure.**"
      ],
      "metadata": {
        "nteract": {
          "transient": {
            "deleting": false
          }
        }
      }
    },
    {
      "cell_type": "markdown",
      "source": [
        "#### Load the raw data from storage account"
      ],
      "metadata": {
        "nteract": {
          "transient": {
            "deleting": false
          }
        }
      }
    },
    {
      "cell_type": "code",
      "source": [
        "%%pyspark\r\n",
        "df = spark.read.option('multiline','true').load('abfss://bing-data@bingdatastorage.dfs.core.windows.net/raw-data/bing-raw.json', format='json')\r\n",
        "# display(df.limit(10))"
      ],
      "outputs": [
        {
          "output_type": "display_data",
          "data": {
            "application/vnd.livy.statement-meta+json": {
              "spark_pool": "bingtest",
              "statement_id": 24,
              "statement_ids": [
                24
              ],
              "state": "finished",
              "livy_statement_state": "available",
              "spark_jobs": null,
              "session_id": "1",
              "normalized_state": "finished",
              "queued_time": "2024-09-07T17:55:10.364964Z",
              "session_start_time": null,
              "execution_start_time": "2024-09-07T17:55:10.5689401Z",
              "execution_finish_time": "2024-09-07T17:55:11.1629913Z",
              "parent_msg_id": "6ab97182-61b9-4e33-ba68-f04900d65059"
            },
            "text/plain": "StatementMeta(bingtest, 1, 24, Finished, Available, Finished)"
          },
          "metadata": {}
        }
      ],
      "execution_count": 23,
      "metadata": {
        "microsoft": {
          "language": "python"
        },
        "jupyter": {
          "source_hidden": false,
          "outputs_hidden": false
        },
        "nteract": {
          "transient": {
            "deleting": false
          }
        },
        "collapsed": false
      }
    },
    {
      "cell_type": "markdown",
      "source": [
        "#### get the value column where all the data resides"
      ],
      "metadata": {
        "nteract": {
          "transient": {
            "deleting": false
          }
        }
      }
    },
    {
      "cell_type": "code",
      "source": [
        "df=df.select('value')\r\n",
        "# display(df)"
      ],
      "outputs": [
        {
          "output_type": "display_data",
          "data": {
            "application/vnd.livy.statement-meta+json": {
              "spark_pool": "bingtest",
              "statement_id": 25,
              "statement_ids": [
                25
              ],
              "state": "finished",
              "livy_statement_state": "available",
              "spark_jobs": null,
              "session_id": "1",
              "normalized_state": "finished",
              "queued_time": "2024-09-07T17:55:10.4074397Z",
              "session_start_time": null,
              "execution_start_time": "2024-09-07T17:55:11.3216354Z",
              "execution_finish_time": "2024-09-07T17:55:11.507574Z",
              "parent_msg_id": "bcc0ddd3-e795-41c4-8d82-f0c6486b4a39"
            },
            "text/plain": "StatementMeta(bingtest, 1, 25, Finished, Available, Finished)"
          },
          "metadata": {}
        }
      ],
      "execution_count": 24,
      "metadata": {
        "jupyter": {
          "source_hidden": false,
          "outputs_hidden": false
        },
        "nteract": {
          "transient": {
            "deleting": false
          }
        },
        "collapsed": false
      }
    },
    {
      "cell_type": "markdown",
      "source": [
        "#### explode the value column"
      ],
      "metadata": {
        "nteract": {
          "transient": {
            "deleting": false
          }
        }
      }
    },
    {
      "cell_type": "code",
      "source": [
        "from pyspark.sql.functions import explode\r\n",
        "\r\n",
        "df_exploded=df.select(explode(df['value']).alias('row1'))\r\n",
        "# display(df_exploded)"
      ],
      "outputs": [
        {
          "output_type": "display_data",
          "data": {
            "application/vnd.livy.statement-meta+json": {
              "spark_pool": "bingtest",
              "statement_id": 26,
              "statement_ids": [
                26
              ],
              "state": "finished",
              "livy_statement_state": "available",
              "spark_jobs": null,
              "session_id": "1",
              "normalized_state": "finished",
              "queued_time": "2024-09-07T17:55:10.4690764Z",
              "session_start_time": null,
              "execution_start_time": "2024-09-07T17:55:11.6806682Z",
              "execution_finish_time": "2024-09-07T17:55:11.8703327Z",
              "parent_msg_id": "62809c58-c45f-4e51-9925-d2f7521b868c"
            },
            "text/plain": "StatementMeta(bingtest, 1, 26, Finished, Available, Finished)"
          },
          "metadata": {}
        }
      ],
      "execution_count": 25,
      "metadata": {
        "jupyter": {
          "source_hidden": false,
          "outputs_hidden": false
        },
        "nteract": {
          "transient": {
            "deleting": false
          }
        },
        "collapsed": false
      }
    },
    {
      "cell_type": "markdown",
      "source": [
        "#### load all the data in a List"
      ],
      "metadata": {
        "nteract": {
          "transient": {
            "deleting": false
          }
        }
      }
    },
    {
      "cell_type": "code",
      "source": [
        "import json\r\n",
        "json_list=df_exploded.toJSON().collect()"
      ],
      "outputs": [
        {
          "output_type": "display_data",
          "data": {
            "application/vnd.livy.statement-meta+json": {
              "spark_pool": "bingtest",
              "statement_id": 27,
              "statement_ids": [
                27
              ],
              "state": "finished",
              "livy_statement_state": "available",
              "spark_jobs": null,
              "session_id": "1",
              "normalized_state": "finished",
              "queued_time": "2024-09-07T17:55:10.5094068Z",
              "session_start_time": null,
              "execution_start_time": "2024-09-07T17:55:12.0443668Z",
              "execution_finish_time": "2024-09-07T17:55:12.6290565Z",
              "parent_msg_id": "70468d31-6117-406b-8be1-f7ee9b401041"
            },
            "text/plain": "StatementMeta(bingtest, 1, 27, Finished, Available, Finished)"
          },
          "metadata": {}
        }
      ],
      "execution_count": 26,
      "metadata": {
        "jupyter": {
          "source_hidden": false,
          "outputs_hidden": false
        },
        "nteract": {
          "transient": {
            "deleting": false
          }
        }
      }
    },
    {
      "cell_type": "markdown",
      "source": [
        "#### Create list for each required columns"
      ],
      "metadata": {
        "nteract": {
          "transient": {
            "deleting": false
          }
        }
      }
    },
    {
      "cell_type": "code",
      "source": [
        "title=[]\r\n",
        "description=[]\r\n",
        "datePublished=[]\r\n",
        "category=[]\r\n",
        "url=[]\r\n",
        "image=[]\r\n",
        "provider=[]\r\n",
        "\r\n",
        "for js in json_list:\r\n",
        "\r\n",
        "    try:\r\n",
        "        new_json=json.loads(js)\r\n",
        "        row = new_json.get('row1', {})\r\n",
        "\r\n",
        "        title.append(row.get('name', None))\r\n",
        "        description.append(row.get('description', None))\r\n",
        "        category.append(row.get('category', None))\r\n",
        "        url.append(row.get('url', None))\r\n",
        "\r\n",
        "        # For nested structures, use get() safely at each level\r\n",
        "        image.append(row.get('image', {}).get('thumbnail', {}).get('contentUrl', None))\r\n",
        "        provider.append(row.get('provider', [{}])[0].get('name', None))  # Handle missing provider array\r\n",
        "        datePublished.append(row.get('datePublished', None))\r\n",
        "\r\n",
        "    except Exception as e:\r\n",
        "        print(f\"Error  proceesing  json object: {e}\")"
      ],
      "outputs": [
        {
          "output_type": "display_data",
          "data": {
            "application/vnd.livy.statement-meta+json": {
              "spark_pool": "bingtest",
              "statement_id": 28,
              "statement_ids": [
                28
              ],
              "state": "finished",
              "livy_statement_state": "available",
              "spark_jobs": null,
              "session_id": "1",
              "normalized_state": "finished",
              "queued_time": "2024-09-07T17:55:10.6258753Z",
              "session_start_time": null,
              "execution_start_time": "2024-09-07T17:55:12.8096265Z",
              "execution_finish_time": "2024-09-07T17:55:12.9870016Z",
              "parent_msg_id": "67d06170-7ac9-432d-9807-a34f1bac15e4"
            },
            "text/plain": "StatementMeta(bingtest, 1, 28, Finished, Available, Finished)"
          },
          "metadata": {}
        }
      ],
      "execution_count": 27,
      "metadata": {
        "jupyter": {
          "source_hidden": false,
          "outputs_hidden": false
        },
        "nteract": {
          "transient": {
            "deleting": false
          }
        }
      }
    },
    {
      "cell_type": "markdown",
      "source": [
        "#### Create a Dataframe using data ans schema"
      ],
      "metadata": {
        "nteract": {
          "transient": {
            "deleting": false
          }
        }
      }
    },
    {
      "cell_type": "code",
      "source": [
        "from pyspark.sql.types import StringType,StructType,StructField\r\n",
        "data=list(zip(title,description,category,url,image,provider,datePublished))\r\n",
        "\r\n",
        "schema=StructType([\r\n",
        "    StructField(\"title\",StringType(),True),\r\n",
        "    StructField(\"description\",StringType(),True),\r\n",
        "    StructField(\"category\",StringType(),True),\r\n",
        "    StructField(\"url\",StringType(),True),\r\n",
        "    StructField(\"image\",StringType(),True),\r\n",
        "    StructField(\"provider\",StringType(),True),\r\n",
        "    StructField(\"datePublished\",StringType(),True)\r\n",
        "    \r\n",
        "    ])\r\n",
        "\r\n",
        "df_cleaned=spark.createDataFrame(data,schema)\r\n",
        "display(df_cleaned)"
      ],
      "outputs": [
        {
          "output_type": "display_data",
          "data": {
            "application/vnd.livy.statement-meta+json": {
              "spark_pool": "bingtest",
              "statement_id": 29,
              "statement_ids": [
                29
              ],
              "state": "finished",
              "livy_statement_state": "available",
              "spark_jobs": null,
              "session_id": "1",
              "normalized_state": "finished",
              "queued_time": "2024-09-07T17:55:10.6975706Z",
              "session_start_time": null,
              "execution_start_time": "2024-09-07T17:55:13.1563015Z",
              "execution_finish_time": "2024-09-07T17:55:15.1322193Z",
              "parent_msg_id": "2889c485-c88c-4a63-9726-ea9a0d600c33"
            },
            "text/plain": "StatementMeta(bingtest, 1, 29, Finished, Available, Finished)"
          },
          "metadata": {}
        },
        {
          "output_type": "display_data",
          "data": {
            "application/vnd.synapse.widget-view+json": {
              "widget_id": "63f0bbf0-81fc-4304-b917-f052697e2c40",
              "widget_type": "Synapse.DataFrame"
            },
            "text/plain": "SynapseWidget(Synapse.DataFrame, 63f0bbf0-81fc-4304-b917-f052697e2c40)"
          },
          "metadata": {}
        }
      ],
      "execution_count": 28,
      "metadata": {
        "jupyter": {
          "source_hidden": false,
          "outputs_hidden": true
        },
        "nteract": {
          "transient": {
            "deleting": false
          }
        },
        "collapsed": false
      }
    },
    {
      "cell_type": "code",
      "source": [
        "from pyspark.sql.functions import date_format,to_date\r\n",
        "\r\n",
        "df_cleaned_final=df_cleaned.withColumn(\"datePublished\",date_format(to_date('datePublished'),\"dd-MM-yyyy\"))\r\n",
        "display(df_cleaned_final)"
      ],
      "outputs": [
        {
          "output_type": "display_data",
          "data": {
            "application/vnd.livy.statement-meta+json": {
              "spark_pool": "bingtest",
              "statement_id": 30,
              "statement_ids": [
                30
              ],
              "state": "finished",
              "livy_statement_state": "available",
              "spark_jobs": null,
              "session_id": "1",
              "normalized_state": "finished",
              "queued_time": "2024-09-07T17:55:10.7417858Z",
              "session_start_time": null,
              "execution_start_time": "2024-09-07T17:55:15.3161175Z",
              "execution_finish_time": "2024-09-07T17:55:17.3054074Z",
              "parent_msg_id": "241131e9-04c0-493e-b3bb-2c751a1e328f"
            },
            "text/plain": "StatementMeta(bingtest, 1, 30, Finished, Available, Finished)"
          },
          "metadata": {}
        },
        {
          "output_type": "display_data",
          "data": {
            "application/vnd.synapse.widget-view+json": {
              "widget_id": "0b628fe3-8170-4bd0-b7c5-6716302c926a",
              "widget_type": "Synapse.DataFrame"
            },
            "text/plain": "SynapseWidget(Synapse.DataFrame, 0b628fe3-8170-4bd0-b7c5-6716302c926a)"
          },
          "metadata": {}
        }
      ],
      "execution_count": 29,
      "metadata": {
        "jupyter": {
          "source_hidden": false,
          "outputs_hidden": true
        },
        "nteract": {
          "transient": {
            "deleting": false
          }
        },
        "collapsed": false
      }
    },
    {
      "cell_type": "markdown",
      "source": [
        "#### Incremental Load of the data in a table"
      ],
      "metadata": {
        "nteract": {
          "transient": {
            "deleting": false
          }
        }
      }
    },
    {
      "cell_type": "code",
      "source": [
        "from pyspark.sql.utils import AnalysisException\r\n",
        "\r\n",
        "try:\r\n",
        "    table_name='default.bing_cleaned'\r\n",
        "    df_cleaned_final.write.format('delta').saveAsTable(table_name)\r\n",
        "except AnalysisException:\r\n",
        "    print(\"table is already created\")\r\n",
        "\r\n",
        "    df_cleaned_final.createOrReplaceTempView('temp')\r\n",
        "\r\n",
        "    spark.sql(f\"\"\"merge into {table_name} target_table\r\n",
        "                    using temp source_view\r\n",
        "                    on  source_view.url=target_table.url\r\n",
        "\r\n",
        "                    when matched and\r\n",
        "                    source_view.title<>target_table.title OR\r\n",
        "                    source_view.description<>target_table.description OR\r\n",
        "                    source_view.provider<>target_table.provider OR\r\n",
        "                    source_view.image<>target_table.image OR\r\n",
        "                    source_view.category<>target_table.category OR\r\n",
        "                    source_view.datePublished<>target_table.datePublished\r\n",
        "                    Then update set *\r\n",
        "\r\n",
        "                    when not matched then insert *\r\n",
        "    \"\"\")"
      ],
      "outputs": [
        {
          "output_type": "display_data",
          "data": {
            "application/vnd.livy.statement-meta+json": {
              "spark_pool": "bingtest",
              "statement_id": 36,
              "statement_ids": [
                36
              ],
              "state": "finished",
              "livy_statement_state": "available",
              "spark_jobs": null,
              "session_id": "1",
              "normalized_state": "finished",
              "queued_time": "2024-09-07T18:24:49.7142074Z",
              "session_start_time": null,
              "execution_start_time": "2024-09-07T18:24:49.8581887Z",
              "execution_finish_time": "2024-09-07T18:25:02.7674365Z",
              "parent_msg_id": "0dc634ad-fd61-466d-8236-382852e4cb9b"
            },
            "text/plain": "StatementMeta(bingtest, 1, 36, Finished, Available, Finished)"
          },
          "metadata": {}
        },
        {
          "output_type": "stream",
          "name": "stdout",
          "text": [
            "table is already created\n"
          ]
        }
      ],
      "execution_count": 35,
      "metadata": {
        "jupyter": {
          "source_hidden": false,
          "outputs_hidden": false
        },
        "nteract": {
          "transient": {
            "deleting": false
          }
        }
      }
    },
    {
      "cell_type": "code",
      "source": [
        "%%sql\r\n",
        "select count(*) from default.bing_cleaned"
      ],
      "outputs": [
        {
          "output_type": "display_data",
          "data": {
            "application/vnd.livy.statement-meta+json": {
              "spark_pool": "bingtest",
              "statement_id": 37,
              "statement_ids": [
                37
              ],
              "state": "finished",
              "livy_statement_state": "available",
              "spark_jobs": null,
              "session_id": "1",
              "normalized_state": "finished",
              "queued_time": "2024-09-07T18:25:14.9437879Z",
              "session_start_time": null,
              "execution_start_time": "2024-09-07T18:25:15.0936752Z",
              "execution_finish_time": "2024-09-07T18:25:19.1843434Z",
              "parent_msg_id": "38529ab9-b479-4ac3-a821-211a478578be"
            },
            "text/plain": "StatementMeta(bingtest, 1, 37, Finished, Available, Finished)"
          },
          "metadata": {}
        },
        {
          "output_type": "execute_result",
          "execution_count": 36,
          "data": {
            "application/vnd.synapse.sparksql-result+json": {
              "schema": {
                "type": "struct",
                "fields": [
                  {
                    "name": "count(1)",
                    "type": "long",
                    "nullable": false,
                    "metadata": {
                      "__autoGeneratedAlias": "true"
                    }
                  }
                ]
              },
              "data": [
                [
                  "49"
                ]
              ]
            },
            "text/plain": "<Spark SQL result set with 1 rows and 1 fields>"
          },
          "metadata": {}
        }
      ],
      "execution_count": 36,
      "metadata": {
        "microsoft": {
          "language": "sparksql"
        },
        "jupyter": {
          "source_hidden": false,
          "outputs_hidden": false
        },
        "nteract": {
          "transient": {
            "deleting": false
          }
        },
        "collapsed": false
      }
    },
    {
      "cell_type": "code",
      "source": [],
      "outputs": [],
      "execution_count": null,
      "metadata": {
        "jupyter": {
          "source_hidden": false,
          "outputs_hidden": false
        },
        "nteract": {
          "transient": {
            "deleting": false
          }
        }
      }
    }
  ],
  "metadata": {
    "language_info": {
      "name": "python"
    },
    "kernelspec": {
      "name": "synapse_pyspark",
      "display_name": "python"
    },
    "description": null,
    "save_output": true,
    "synapse_widget": {
      "version": "0.1",
      "state": {
        "63f0bbf0-81fc-4304-b917-f052697e2c40": {
          "type": "Synapse.DataFrame",
          "sync_state": {
            "table": {
              "rows": [
                {
                  "0": "Liverpool transfer news LIVE - Bryan Mbeumo wanted, Gleison Bremer interest, Mohamed Salah future",
                  "1": "Brentford forward Bryan Mbeumo has emerged as a potential target for Liverpool according to the latest reports. It has been stated that the Reds may face competition from Arsenal and Newcastle for the £50m-rated forward.",
                  "2": "Sports",
                  "3": "https://www.liverpoolecho.co.uk/sport/football/transfer-news/liverpool-transfer-news-live-bryan-29887075",
                  "4": "https://www.bing.com/th?id=OVFT.3MQrIAilICYKRTgBoiIk-S&pid=News",
                  "5": "Liverpool Echo",
                  "6": "2024-09-07T07:50:00Z"
                },
                {
                  "0": "Latest News, Live Updates Today September 7, 2024: ‘You will die..’: TikToker Ali Abulaban's fate decided after murdering estranged wife and suspected boyfriend",
                  "1": "Welcome to the live updates platform for Hindustan Times. Follow all the major news updates, headlines and breaking news stories from India and around the world right here. Track the real-time developments of major events for September 7,",
                  "2": "India",
                  "3": "https://www.msn.com/en-in/news/India/latest-news-live-updates-today-september-7-2024-you-will-die-tiktoker-ali-abulaban-s-fate-decided-after-murdering-estranged-wife-and-suspected-boyfriend/ar-AA1q8q7R",
                  "4": "https://www.bing.com/th?id=OVFT.jzBMRXX4HOSBa1mfPQ5MsC&pid=News",
                  "5": "MSN",
                  "6": "2024-09-07T02:31:00Z"
                },
                {
                  "0": "Breaking News Today Live Updates: Brij Bhushan Singh alleges Congress conspiracy after wrestlers join party ahead of Haryana polls",
                  "1": "India news live updates: Brij Bhushan Singh alleges Congress conspiracy after wrestlers join party ahead of Haryana polls",
                  "2": "LifeStyle",
                  "3": "https://timesofindia.indiatimes.com/india/latest-india-world-news-live-updates-today-breaking-news-7th-september-2024/liveblog/113140773.cms",
                  "4": "https://www.bing.com/th?id=OVFT.WZ-iCZZ5YwrvGNBhiecnfi&pid=News",
                  "5": "Indiatimes",
                  "6": "2024-09-07T04:54:00Z"
                },
                {
                  "0": "Stunning News of Trump Sentencing Delay Sends Message: MAGA Rage Works",
                  "1": "The politics of this may play out fine for Kamala Harris. But once again, the legal system was cowed by Trump’s bullying and lawlessness.",
                  "2": "Politics",
                  "3": "https://newrepublic.com/article/185707/trump-sentencing-delay-maga-rage-works",
                  "4": "https://www.bing.com/th?id=OVFT.E3WY-EDc1BphX5PFX_uIWS&pid=News",
                  "5": "New Republic",
                  "6": "2024-09-07T10:06:00Z"
                },
                {
                  "0": "Mumbai News Live Updates Today",
                  "1": "Stay tuned for Mumbai real-time updates, top news, breaking stories and headlines from Mumbai. Catch up on the most significant news for September 7, 2024.",
                  "3": "https://www.hindustantimes.com/cities/mumbai-news/latest-mumbai-news-live-updates-september-7-2024-101725672623034.html",
                  "4": "https://www.bing.com/th?id=OVFT.gmWkv3gIM3AB9cLHknlB1S&pid=News",
                  "5": "Hindustan Times",
                  "6": "2024-09-07T01:30:00Z"
                },
                {
                  "0": "Weekly Recap: Top Car News Making Waves In India Over The Past Week",
                  "1": "Here are the past week’s top news highlights featuring the launch of a Tata SUV-coupe and an ultra-luxurious Mercedes SUV and new editions for Skoda Slavia and Kushaq, Hyundai Creta and Kia SUVs along",
                  "2": "ScienceAndTechnology",
                  "3": "https://www.zigwheels.com/news-features/news/weekly-recap-top-car-news-making-waves-in-india-over-the-past-week/54186/",
                  "4": "https://www.bing.com/th?id=OVFT.IJa4mP5axSLY9bpAqKp7gC&pid=News",
                  "5": "ZigWheels",
                  "6": "2024-09-07T04:30:00Z"
                },
                {
                  "0": "Conservative economists pour cold water on Harris' new small-business tax proposal",
                  "1": "Conservative economists are pouring cold water on Vice President Kamala Harris' new tax proposal aimed at reducing startup costs for new small businesses as part of her \"Opportunity Economy\" platform.",
                  "2": "Business",
                  "3": "https://www.foxnews.com/politics/conservative-economists-pour-cold-water-harris-new-small-business-tax-proposal",
                  "4": "https://www.bing.com/th?id=OVFT.4fKpvrT0j94QYJmX6N8mBi&pid=News",
                  "5": "Fox News",
                  "6": "2024-09-07T07:59:00Z"
                },
                {
                  "0": "How to watch every New England Patriots game in the 2024-2025 NFL season",
                  "1": "The New England Patriots will play one Thursday Night Football game, 11 1 p.m. games and one NFL Network-exclusive game from London. You can watch the Patriots this season on CBS, NFL Network, Fox, and Prime Video. All times Eastern.",
                  "2": "Sports",
                  "3": "https://www.cbsnews.com/essentials/how-to-watch-every-new-england-patriots-game-in-the-2024-2025-nfl-season/",
                  "4": "https://www.bing.com/th?id=OVFT.gKbs_SVVSJ8CCnhPsNq_My&pid=News",
                  "5": "CBS News",
                  "6": "2024-09-06T17:16:00Z"
                },
                {
                  "0": "Manchester United transfer news LIVE Yoro injury boost, Casemiro updates and Rabiot latest",
                  "1": "Latest Man United transfer news and rumours with updates on the future of Casemiro, Antony and free agent Adrien Rabiot",
                  "2": "Sports",
                  "3": "https://www.manchestereveningnews.co.uk/sport/football/transfer-news/manchester-united-transfer-news-live-29879741",
                  "4": "https://www.bing.com/th?id=OVFT.CcHJhAPmR8qX0TuPyr4bAi&pid=News",
                  "5": "Manchester Evening News",
                  "6": "2024-09-06T16:24:00Z"
                },
                {
                  "0": "Liverpool news: Fresh injury blow as Reds star speaks out over game time",
                  "1": "Liverpool have won all three of their Premier League games so far under Arne Slot but the Dutchman has already received some worrying injury news during the international break",
                  "2": "Sports",
                  "3": "https://www.mirror.co.uk/sport/football/news/liverpool-arne-slot-injury-update-33616585",
                  "4": "https://www.bing.com/th?id=OVFT.T4oSmtB1wS7kBkBzm1HTqy&pid=News",
                  "5": "The Mirror",
                  "6": "2024-09-07T04:00:00Z"
                },
                {
                  "0": "Live AFL finals scores 2024, Sydney Swans vs GWS Giants, First Qualifying Final: Updates, stats, blog, start time, teams, latest news",
                  "1": "In contrast the Giants (4th, 15-8, 109.1%) won seven straight games to secure a top-four finish, before a Round 24 hiccup. They have won all three previous finals against Sydney, always winning as the lower-ranked side (like they are today).",
                  "2": "Sports",
                  "3": "https://www.foxsports.com.au/afl/live-afl-finals-scores-2024-sydney-swans-vs-gws-giants-first-qualifying-final-updates-stats-blog-start-time-teams-latest-news/news-story/f4b7fc01c4d81ec9656ed5c8a8140ce6",
                  "4": "https://www.bing.com/th?id=OVFT.iuevagAJ_L_im4VNPR3RSy&pid=News",
                  "5": "Fox Sports",
                  "6": "2024-09-06T13:27:00Z"
                },
                {
                  "0": "Judge delays sentencing in Trump's New York criminal case, pushing decision past election",
                  "1": "Trump was convicted in May on 34 felony counts of falsifying business records in relation to a \"hush money\" payment to an adult film star before the 2016 election.",
                  "3": "https://www.cbsnews.com/news/trump-sentencing-delay-hush-money-case-new-york/",
                  "4": "https://www.bing.com/th?id=OVFT.ztoKdKkhPoQudrkhSrPzNC&pid=News",
                  "5": "CBS News",
                  "6": "2024-09-06T20:07:00Z"
                },
                {
                  "0": "'Life here is much more easy': Migrants tell Sky News why PM's pledge to 'smash the gangs' won't work",
                  "1": "Migrants say they don't believe government efforts to tackle smuggling gangs will stop illegal migration, with \"thousands\" of people willing to take the money of those determined to get to the UK.",
                  "2": "LifeStyle",
                  "3": "https://news.sky.com/story/starmers-pledge-to-smash-the-gangs-wont-stop-small-boat-crossings-migrants-explain-why-13210689",
                  "4": "https://www.bing.com/th?id=OVFT.stynnzLBt8KhhA6iVz1ATC&pid=News",
                  "5": "Sky",
                  "6": "2024-09-06T20:47:00Z"
                },
                {
                  "0": "Mark Wood laments latest England injury setback after 'rubbish news'",
                  "1": "Mark Wood laments latest England injury setback after 'rubbish news' - Fast bowler to miss the rest of the year with longstanding elbow problem",
                  "2": "Sports",
                  "3": "https://www.msn.com/en-gb/health/other/mark-wood-laments-latest-england-injury-setback-after-rubbish-news/ar-AA1q8pwv",
                  "4": "https://www.bing.com/th?id=OVFT.OV9LVBzQ3_BsWcBPMDsnNi&pid=News",
                  "5": "Evening Standard on MSN.com",
                  "6": "2024-09-06T19:47:49Z"
                },
                {
                  "0": "When can you see the fall foliage in New England? Farmers' Almanac shares predictions",
                  "1": "New Englanders get ready to see picturesque sights from the fall foliage. Some states may see beautiful leaves by the end of September.",
                  "2": "LifeStyle",
                  "3": "https://www.usatoday.com/story/news/graphics/2024/09/07/new-england-fall-foliage-maps-2024/75106801007/",
                  "4": "https://www.bing.com/th?id=OVFT.MWH9RPjaTsuAtkkA5WJa2y&pid=News",
                  "5": "USA Today",
                  "6": "2024-09-07T10:05:00Z"
                },
                {
                  "0": "Afghanistan vs New Zealand One-Off Test: Date, Time, Venue, Live streaming, Tickets & More Details",
                  "1": "Afghanistan are set to host New Zealand for a one-off Test match in India. Here's all the crucial details about the one-off Test.",
                  "2": "Sports",
                  "3": "https://news.abplive.com/sports/cricket/afghanistan-vs-new-zealand-test-greater-noida-date-time-venue-live-streaming-how-to-buy-tickets-1715603",
                  "4": "https://www.bing.com/th?id=OVFT.oxtPfWa6dhthZliiqfsSSi&pid=News",
                  "5": "abp LIVE",
                  "6": "2024-09-07T06:25:00Z"
                },
                {
                  "0": "NBC scales back The Tonight Show Starring Jimmy Fallon in latest blow to late night TV",
                  "1": "Network also recently announced it was cutting the house band from ‘Late Night with Seth Meyers’ due to budget cuts",
                  "2": "Entertainment",
                  "3": "https://www.independent.co.uk/arts-entertainment/tv/news/the-tonight-show-starring-jimmy-fallon-fridays-b2608563.html",
                  "4": "https://www.bing.com/th?id=OVFT.mUzH2QocYWldE2Fn_8vYmC&pid=News",
                  "5": "The Independent",
                  "6": "2024-09-06T19:51:00Z"
                },
                {
                  "0": "Mixed news on US jobs: Unemployment rate falls but hiring is slowing",
                  "1": "The US economy is expected to have added 160,000 jobs last month and the unemployment rate likely dropped to 4.2% from 4.3%.",
                  "2": "Business",
                  "3": "https://www.cnn.com/business/live-news/us-jobs-report-august-2024/index.html",
                  "4": "https://www.bing.com/th?id=OVFT._oHNZeSF4zvYz1s9JsMo8y&pid=News",
                  "5": "CNN",
                  "6": "2024-09-06T14:13:00Z"
                },
                {
                  "0": "Uncrewed Starliner undocks from ISS, heads for New Mexico landing at night",
                  "1": "The uncrewed Boeing Starliner successfully undocked from the International Space Station on Friday and began heading back to Earth with a landing scheduled in New Mexico within six hours.",
                  "2": "ScienceAndTechnology",
                  "3": "https://www.upi.com/Science_News/2024/09/06/Uncrewed-Starliner-undock-ISS-Friday-evening-land-6-hours-later/6441725647280/",
                  "4": "https://www.bing.com/th?id=OVFT.o3bscDQPWSHoTIkXnWqH-C&pid=News",
                  "5": "UPI",
                  "6": "2024-09-06T20:07:00Z"
                },
                {
                  "0": "Donald Trump and Kamala Harris race closest since 1960 and one thing could decide it, new forecast reveals",
                  "1": "Kennedy narrowly beat Richard Nixon in 1960, according to a new forecast. It comes as Donald Trump and Kamala Harris prepare for their crunch TV debate on Tuesday. Follow all the latest election news with Dailymail.com.",
                  "3": "https://www.msn.com/en-au/news/australia/race-between-trump-and-kamala-could-be-closest-since-1960/ar-AA1q792N",
                  "4": "https://www.bing.com/th?id=OVFT.JdZIXZD3BXxt9CAKu0tByy&pid=News",
                  "5": "Daily Mail on MSN.com",
                  "6": "2024-09-06T11:54:00Z"
                },
                {
                  "0": "Newcastle United transfer news LIVE - Gordon's summer verdict, injury boost",
                  "1": "All the latest Newcastle United news with the Magpies stars representing their countries on international duty",
                  "2": "Sports",
                  "3": "https://www.chroniclelive.co.uk/sport/football/football-news/newcastle-united-transfer-news-live-29881426",
                  "5": "Evening Chronicle",
                  "6": "2024-09-06T11:16:00Z"
                },
                {
                  "0": "Pope Francis urges stewardship of Papua New Guinea’s resources, peace among tribes",
                  "1": "In his address to officials in Port Moresby, Pope Francis called for responsible use of natural resources, an end to tribal conflict, and celebrated Papua New Guinea's cultural diversity.",
                  "2": "World",
                  "3": "https://www.catholicnewsagency.com/news/259165/pope-francis-to-png-protect-nature-end-tribal-violence-embrace-diversity",
                  "5": "Catholic News Agency",
                  "6": "2024-09-07T03:57:00Z"
                },
                {
                  "0": "Kings of Leon talk return and new sound on ninth album",
                  "1": "Rock group Kings of Leon, who exploded onto the music scene in 2008 with songs like “Use Somebody” and “Sex on Fire,” returned to the studio with a fresh sound for their ninth album. The band sits down with NBC News' Chloe Melas to talk about their return and their latest album \"Can We Please Have Fun.",
                  "2": "Entertainment",
                  "3": "https://www.nbcnews.com/now/video/kings-of-leon-talk-return-and-new-sound-on-ninth-album-218809925633",
                  "5": "NBC News",
                  "6": "2024-09-07T02:05:00Z"
                },
                {
                  "0": "Starmer Dublin visit 'marks new era' of friendship",
                  "1": "Sir Keir Starmer will become the first British prime minister to visit the Republic of Ireland in five years on Saturday. Downing Street says it marks a \"new era of co-operation and friendship\" between Britain and Ireland.",
                  "2": "Politics",
                  "3": "https://www.bbc.co.uk/news/articles/cg58l93gz64o",
                  "4": "https://www.bing.com/th?id=OVFT.DYeMXZArrUdQh6Wov34GDS&pid=News",
                  "5": "BBC",
                  "6": "2024-09-07T05:45:00Z"
                },
                {
                  "0": "Plans for new sports pitches and pavilion approved",
                  "1": "Plans for a new sports pavilion along with artificial and grass football pitches have been given the green light. The proposals, for land opposite Blackbird Close in Newdale, Telford, also include access improvements for vehicle and cycle parking, landscaping and other associated works.",
                  "3": "https://www.bbc.co.uk/news/articles/cm23g014807o",
                  "4": "https://www.bing.com/th?id=OVFT.hbGw5xXqNn-Q8txb07xPzy&pid=News",
                  "5": "BBC",
                  "6": "2024-09-07T06:12:00Z"
                },
                {
                  "0": "New Images of Mercury Show Speckled Surface in Sharp Detail",
                  "1": "BepiColombo, a joint European-Japanese mission, completed its latest flyby of Mercury, sending back a sneak peek of the cratered planet it will begin to orbit in 2026.",
                  "2": "ScienceAndTechnology",
                  "3": "https://www.nytimes.com/2024/09/07/science/mercury-images-bepicolombo.html",
                  "4": "https://www.bing.com/th?id=OVFT.Yb-GmuGWa0uk1PRWb5TOkS&pid=News",
                  "5": "The New York Times",
                  "6": "2024-09-07T09:03:00Z"
                },
                {
                  "0": "Palm Beach County election news: Harris-Walz bus tour takes off, Barron Trump attends NYU",
                  "1": "Harris-Walz campaign starts tour for reproductive rights; Donald Trump began to lose voters; Barron Trump attends NYU.",
                  "2": "Politics",
                  "3": "https://www.usatoday.com/story/news/politics/elections/2024/09/06/palm-beach-county-news-barron-trump-attends-nyu-harris-walz-bus-tour/75078625007/",
                  "4": "https://www.bing.com/th?id=OVFT.RnQVd8gUfL-rAt5zEAYxYS&pid=News",
                  "5": "USA Today",
                  "6": "2024-09-06T15:58:00Z"
                },
                {
                  "0": "Very Bad News For ‘Rings Of Power’ Season 3, As Season 2 Viewership Plummets",
                  "1": "ForbesThere’s Only One Good Thing About ‘The Rings Of Power’ Season 2 So FarBy Erik Kain According to Samba TV data, 1.8 million U.S. households watched the first episode of Season 1 within three days of it landing on Prime Video.",
                  "2": "Entertainment",
                  "3": "https://www.forbes.com/sites/erikkain/2024/09/05/very-bad-news-for-rings-of-power-season-3-as-season-2-viewership-plummets/",
                  "4": "https://www.bing.com/th?id=OVFT.cteNcMfbsFStWkkS5HnJ5S&pid=News",
                  "5": "Forbes",
                  "6": "2024-09-07T03:41:00Z"
                },
                {
                  "0": "The latest on the Georgia high school shooting",
                  "1": "The teen suspected in Wednesday’s deadly mass shooting at a Georgia high school will have an initial hearing in court Friday morning, the Georgia Department of Juvenile Justice tells CNN.",
                  "3": "https://www.cnn.com/us/live-news/georgia-shooting-apalachee-high-school-09-06-24/index.html",
                  "4": "https://www.bing.com/th?id=OVFT.MjvEGDEO5zR9VQAQCFeqCS&pid=News",
                  "5": "CNN",
                  "6": "2024-09-06T19:32:00Z"
                },
                {
                  "0": "How Linkin Park found its way back with new singer Emily Armstrong",
                  "1": "Linkin Park is back. Seven years after the death of frontman Chester Bennington, the band is back together with two new additions.",
                  "2": "Entertainment",
                  "3": "https://www.aol.com/entertainment/linkin-park-found-way-back-005301825.html",
                  "4": "https://www.bing.com/th?id=OVFT.mJFEoC5kw43LgbfXjsANgy&pid=News",
                  "5": "AOL",
                  "6": "2024-09-07T07:53:00Z"
                },
                {
                  "0": "September 6 Georgia school shooting news",
                  "1": "The teen suspected in the deadly mass shooting at a Georgia high school and his father had initial hearings in court Friday morning. Follow for live news updates.",
                  "3": "https://edition.cnn.com/us/live-news/georgia-shooting-apalachee-high-school-09-06-24",
                  "4": "https://www.bing.com/th?id=OVFT.MjvEGDEO5zR9VQAQCFeqCS&pid=News",
                  "5": "CNN",
                  "6": "2024-09-06T22:51:00Z"
                },
                {
                  "0": "Thailand's king swears in new government after turmoil",
                  "1": "Thailand's King Maha Vajiralongkorn swore in Prime Minister Paetongtarn Shinawatra and 35 cabinet ministers in Bangkok on Friday, ushering in a new government in Southeast Asia's second largest economy after a period of political turmoil.",
                  "2": "World",
                  "3": "https://www.reuters.com/world/asia-pacific/thailands-king-swears-new-government-after-turmoil-2024-09-06/",
                  "4": "https://www.bing.com/th?id=OVFT.tykS77xPzz1Kl36MslLAhS&pid=News",
                  "5": "Reuters",
                  "6": "2024-09-06T14:53:00Z"
                },
                {
                  "0": "iPhone 16 Release Date Latest: What To Expect When And Where",
                  "1": "The countdown is on and the next iPhones are almost here. Here’s the latest on what’s happening when, including what the pricing is set to be, so nothing surprises you.",
                  "2": "ScienceAndTechnology",
                  "3": "https://www.forbes.com/sites/davidphelan/2024/09/06/iphone-16-release-date-latest-what-to-expect-when-and-where/",
                  "4": "https://www.bing.com/th?id=OVFT.Mi8TQXahHPIzBa8JfJP_xi&pid=News",
                  "5": "Forbes",
                  "6": "2024-09-06T10:15:00Z"
                },
                {
                  "0": "Reese Witherspoon seen with new mystery man: what to know about wealthy NHL investor",
                  "1": "Reese Witherspoon and financier Oliver Haarmann have been photographed together over the past few months. The pair have reportedly moved their relationship to the next level.",
                  "2": "Entertainment",
                  "3": "https://www.foxnews.com/entertainment/reese-witherspoon-seen-new-mystery-man-what-know-about-wealthy-nhl-investor",
                  "5": "Fox News",
                  "6": "2024-09-07T08:30:00Z"
                },
                {
                  "0": "Sabrina Carpenter Put Kevin Bacon in Her New Song. His Reaction on FaceTime with His Daughter Is Perfect",
                  "1": "Kevin Bacon shared a recent Instagram clip of the hilarious moment in which his daughter Sosie Bacon told him that Sabrina Carpenter's song 'Taste' seemingly references 'Six Degrees of Kevin Bacon.'",
                  "2": "Entertainment",
                  "3": "https://people.com/sabrina-carpenter-put-kevin-bacon-in-her-new-song-his-reaction-on-facetime-with-his-daughter-is-perfect-8707891",
                  "5": "People",
                  "6": "2024-09-06T21:34:00Z"
                },
                {
                  "0": "IFA 2024: all the news from the big Berlin tech show",
                  "1": "IFA, Europe’s huge consumer tech expo, attracts some of the biggest companies in the world. It’s like a counterpart to CES in the United States, which happens in January, whereas IFA caps off the summer with news on the latest smartphones, fridges, robot vacuums, laptops, and “AI-powered” products from A to Z.",
                  "2": "ScienceAndTechnology",
                  "3": "https://www.theverge.com/2024/9/3/24231736/ifa-2024-news-products-updates-highlights-berlin/archives/2",
                  "4": "https://www.bing.com/th?id=OVFT.YE-wxhboHe4xjAVSPqFjUC&pid=News",
                  "5": "The Verge",
                  "6": "2024-09-06T11:00:00Z"
                },
                {
                  "0": "Saskatchewan Election 2024 | Sask. Election News and Polls | CTV News Saskatchewan",
                  "1": "Speaker cuts ties with Sask. Party, alleges he faced threats, harassment from gov't MLAs. The Speaker of the Saskatchewan Legislature Randy Weekes has severed ties with the Sask.",
                  "3": "https://regina.ctvnews.ca/saskatchewan-election-2024",
                  "5": "CTV News",
                  "6": "2024-09-06T13:03:00Z"
                },
                {
                  "0": "The latest in the 2024 presidential race",
                  "1": "With just days until the debate, Donald Trump is traveling to battleground North Carolina this afternoon while Vice President Kamala Harris is expected to continue to prepare for the event in Pennsylvania.",
                  "2": "Politics",
                  "3": "https://edition.cnn.com/politics/live-news/trump-harris-election-09-06-24/index.html",
                  "4": "https://www.bing.com/th?id=OVFT.CZzav2isTPHdHcJhBXw-zi&pid=News",
                  "5": "CNN",
                  "6": "2024-09-06T23:50:00Z"
                },
                {
                  "0": "Three out of four parents of children with special educational needs and disabilities forced to give up work or cut hours, Sky News learns",
                  "1": "In a survey commissioned by Sky News, parents of children with special educational needs and disabilities (SEND) said maintaining a job is difficult due to a lack of local authority help, while others blamed not enough school support and lack of employer flexibility.",
                  "2": "LifeStyle",
                  "3": "https://news.sky.com/story/three-out-of-four-parents-of-children-with-special-educational-needs-and-disabilities-forced-to-give-up-work-or-cut-hours-sky-news-learns-13210125",
                  "4": "https://www.bing.com/th?id=OVFT.HZFLV2EfJyTHB2ZwXuxNli&pid=News",
                  "5": "Sky",
                  "6": "2024-09-06T23:30:00Z"
                },
                {
                  "0": "Royal family - news: Meghan Markle suffers major setback as Prince William sports surprising back-to-work look",
                  "1": "News of the setback comes as Prince William returned to work sporting a stubble on a visit to a homelessness exhibition in his first official engagement since the summer break. William first revealed the rugged look in a surprise video with Kate last month as they congratulated Team GB on their Olympic success.",
                  "2": "Politics",
                  "3": "https://www.independent.co.uk/news/uk/home-news/william-harry-charles-meghan-markle-royal-family-latest-news-b2608060.html?page=2",
                  "5": "The Independent",
                  "6": "2024-09-06T14:00:00Z"
                },
                {
                  "0": "Grains Turn Mixed Despite Strong New Crop Exports: Are the Markets Running Out of Gas?",
                  "1": "He says the recent rally in the grains follows the seasonal patterns and while demand news and weather have been helpful, most of the push has been fund short covering. Crude oil tries to recover after one of the worst week's in a year, but what does that mean for the ag sector?",
                  "2": "Business",
                  "3": "https://www.agweb.com/markets/market-analysis/grains-turn-mixed-despite-strong-new-crop-exports-are-markets-running-out",
                  "5": "AgWeb",
                  "6": "2024-09-06T14:52:00Z"
                },
                {
                  "0": "Erling Haaland 'closes on lucrative new Man City contract' - but Real Madrid hopes of signing superstar 'boosted by release clause'",
                  "1": "Erling Haaland is reportedly close to committing his future to Manchester City by signing a lucrative contract extension - but the deal is expected to contain a release clause.",
                  "2": "Sports",
                  "3": "https://www.dailymail.co.uk/sport/football/article-13823961/Erling-Haaland-Man-City-contract-Real-Madrid-release-clause.html",
                  "5": "Daily Mail",
                  "6": "2024-09-07T08:40:00Z"
                },
                {
                  "0": "Opinion: Canada must model Norway's balanced energy sector",
                  "1": "Canada needs to recognize itself as the energy giant that it is, and more importantly, realize how much greater of a giant it can be, while also being a leader in the energy transition. Unfortunately, we lack a cohesive, pragmatic culture and a fact-based narrative around energy, especially around fossil fuels, to take us to the next level.",
                  "2": "Business",
                  "3": "https://nationalpost.com/opinion/opinion-canada-must-model-norways-balanced-energy-sector",
                  "4": "https://www.bing.com/th?id=OVFT.y1p7S37SRz3PBssKqc8xqi&pid=News",
                  "5": "National Post",
                  "6": "2024-09-06T17:58:00Z"
                },
                {
                  "0": "Kate Middleton fans celebrate Princess of Wales’ ‘lovely’ new X post amid cancer battle",
                  "1": "The Princess of Wales, 42, delighted fans on Friday with a sweet note on X congratulating TV presenter Dwayne Fields on becoming UK’s new Chief Scout.",
                  "2": "Entertainment",
                  "3": "https://pagesix.com/2024/09/06/royal-family/kate-middleton-fans-celebrate-princess-of-wales-new-x-post-amid-cancer-battle/",
                  "5": "Page Six",
                  "6": "2024-09-06T16:28:00Z"
                },
                {
                  "0": "Georgia school shooting latest: 14-year-old suspect set to appear in court",
                  "1": "The 14-year-old boy accused of fatally shooting four people at a Georgia high school was expected to make his first court appearance Friday.",
                  "3": "https://6abc.com/post/georgia-high-school-shooting-colt-gray-teen-suspect-accused-apalachee-hs-due-court/15273486/",
                  "5": "6abc News",
                  "6": "2024-09-06T10:19:00Z"
                },
                {
                  "0": "Georgia school shooting latest: 14-year-old suspect charged with murder, father also charged",
                  "1": "The 14-year-old suspect behind Wednesday's deadly school shooting in Georgia has been charged with four counts of felony murder.",
                  "3": "https://abc13.com/post/georgia-high-school-shooting-questions-surround-weapon-motive-deadly-incident-apalachee/15270304/",
                  "5": "abc13",
                  "6": "2024-09-06T10:32:00Z"
                },
                {
                  "0": "US activist killed near Nablus, Hamas add new demands",
                  "1": "American-Turkish activist killed by IDF near Nablus • Hamas add new demands for ceasefire • UK lawyers for Israel warn ICC prosecutor of breaching rules",
                  "2": "World",
                  "3": "https://www.jpost.com/israel-hamas-war/2024-09-07/live-updates-819061",
                  "5": "The Jerusalem Post Blogs",
                  "6": "2024-09-07T02:29:00Z"
                },
                {
                  "0": "Jonathan and Drew Scott renovate their parents' new LA home — take a tour",
                  "1": "\"Property Brothers\" duo Jonathan and Drew Scott have unveiled a project that they hold near and dear to their hearts. The HGTV stars shared in the September/October issue of HGTV Magazine that they recently gave their parents, Joanne and Jim Scott, the ultimate home makeover.",
                  "2": "LifeStyle",
                  "3": "https://www.today.com/home/property-brothers-parents-home-renovation-rcna169549",
                  "4": "https://www.bing.com/th?id=OVFT.lujcvQ_MYzmrknVgnA3ISy&pid=News",
                  "5": "Today",
                  "6": "2024-09-06T18:34:00Z"
                },
                {
                  "0": "County Alcohol Board Reviews Violations, Transfers And A New License",
                  "1": "On the docket for the Kosciusko County Alcohol and Tobacco Commission on Thursday, Sept. 5, were three license transfers, one new license application, two renewals with violations and 14 renewals without violations.",
                  "3": "https://www.inkfreenews.com/2024/09/06/county-alcohol-board-reviews-violations-transfers-and-a-new-license/",
                  "5": "InkFreeNews",
                  "6": "2024-09-06T12:00:00Z"
                }
              ],
              "schema": [
                {
                  "key": "0",
                  "name": "title",
                  "type": "string"
                },
                {
                  "key": "1",
                  "name": "description",
                  "type": "string"
                },
                {
                  "key": "2",
                  "name": "category",
                  "type": "string"
                },
                {
                  "key": "3",
                  "name": "url",
                  "type": "string"
                },
                {
                  "key": "4",
                  "name": "image",
                  "type": "string"
                },
                {
                  "key": "5",
                  "name": "provider",
                  "type": "string"
                },
                {
                  "key": "6",
                  "name": "datePublished",
                  "type": "string"
                }
              ],
              "truncated": false
            },
            "isSummary": false,
            "language": "scala"
          },
          "persist_state": {
            "view": {
              "type": "details",
              "tableOptions": {},
              "chartOptions": {
                "chartType": "bar",
                "aggregationType": "count",
                "categoryFieldKeys": [
                  "0"
                ],
                "seriesFieldKeys": [
                  "0"
                ],
                "isStacked": false
              }
            }
          }
        },
        "0b628fe3-8170-4bd0-b7c5-6716302c926a": {
          "type": "Synapse.DataFrame",
          "sync_state": {
            "table": {
              "rows": [
                {
                  "0": "Liverpool transfer news LIVE - Bryan Mbeumo wanted, Gleison Bremer interest, Mohamed Salah future",
                  "1": "Brentford forward Bryan Mbeumo has emerged as a potential target for Liverpool according to the latest reports. It has been stated that the Reds may face competition from Arsenal and Newcastle for the £50m-rated forward.",
                  "2": "Sports",
                  "3": "https://www.liverpoolecho.co.uk/sport/football/transfer-news/liverpool-transfer-news-live-bryan-29887075",
                  "4": "https://www.bing.com/th?id=OVFT.3MQrIAilICYKRTgBoiIk-S&pid=News",
                  "5": "Liverpool Echo",
                  "6": "07-09-2024"
                },
                {
                  "0": "Latest News, Live Updates Today September 7, 2024: ‘You will die..’: TikToker Ali Abulaban's fate decided after murdering estranged wife and suspected boyfriend",
                  "1": "Welcome to the live updates platform for Hindustan Times. Follow all the major news updates, headlines and breaking news stories from India and around the world right here. Track the real-time developments of major events for September 7,",
                  "2": "India",
                  "3": "https://www.msn.com/en-in/news/India/latest-news-live-updates-today-september-7-2024-you-will-die-tiktoker-ali-abulaban-s-fate-decided-after-murdering-estranged-wife-and-suspected-boyfriend/ar-AA1q8q7R",
                  "4": "https://www.bing.com/th?id=OVFT.jzBMRXX4HOSBa1mfPQ5MsC&pid=News",
                  "5": "MSN",
                  "6": "07-09-2024"
                },
                {
                  "0": "Breaking News Today Live Updates: Brij Bhushan Singh alleges Congress conspiracy after wrestlers join party ahead of Haryana polls",
                  "1": "India news live updates: Brij Bhushan Singh alleges Congress conspiracy after wrestlers join party ahead of Haryana polls",
                  "2": "LifeStyle",
                  "3": "https://timesofindia.indiatimes.com/india/latest-india-world-news-live-updates-today-breaking-news-7th-september-2024/liveblog/113140773.cms",
                  "4": "https://www.bing.com/th?id=OVFT.WZ-iCZZ5YwrvGNBhiecnfi&pid=News",
                  "5": "Indiatimes",
                  "6": "07-09-2024"
                },
                {
                  "0": "Stunning News of Trump Sentencing Delay Sends Message: MAGA Rage Works",
                  "1": "The politics of this may play out fine for Kamala Harris. But once again, the legal system was cowed by Trump’s bullying and lawlessness.",
                  "2": "Politics",
                  "3": "https://newrepublic.com/article/185707/trump-sentencing-delay-maga-rage-works",
                  "4": "https://www.bing.com/th?id=OVFT.E3WY-EDc1BphX5PFX_uIWS&pid=News",
                  "5": "New Republic",
                  "6": "07-09-2024"
                },
                {
                  "0": "Mumbai News Live Updates Today",
                  "1": "Stay tuned for Mumbai real-time updates, top news, breaking stories and headlines from Mumbai. Catch up on the most significant news for September 7, 2024.",
                  "3": "https://www.hindustantimes.com/cities/mumbai-news/latest-mumbai-news-live-updates-september-7-2024-101725672623034.html",
                  "4": "https://www.bing.com/th?id=OVFT.gmWkv3gIM3AB9cLHknlB1S&pid=News",
                  "5": "Hindustan Times",
                  "6": "07-09-2024"
                },
                {
                  "0": "Weekly Recap: Top Car News Making Waves In India Over The Past Week",
                  "1": "Here are the past week’s top news highlights featuring the launch of a Tata SUV-coupe and an ultra-luxurious Mercedes SUV and new editions for Skoda Slavia and Kushaq, Hyundai Creta and Kia SUVs along",
                  "2": "ScienceAndTechnology",
                  "3": "https://www.zigwheels.com/news-features/news/weekly-recap-top-car-news-making-waves-in-india-over-the-past-week/54186/",
                  "4": "https://www.bing.com/th?id=OVFT.IJa4mP5axSLY9bpAqKp7gC&pid=News",
                  "5": "ZigWheels",
                  "6": "07-09-2024"
                },
                {
                  "0": "Conservative economists pour cold water on Harris' new small-business tax proposal",
                  "1": "Conservative economists are pouring cold water on Vice President Kamala Harris' new tax proposal aimed at reducing startup costs for new small businesses as part of her \"Opportunity Economy\" platform.",
                  "2": "Business",
                  "3": "https://www.foxnews.com/politics/conservative-economists-pour-cold-water-harris-new-small-business-tax-proposal",
                  "4": "https://www.bing.com/th?id=OVFT.4fKpvrT0j94QYJmX6N8mBi&pid=News",
                  "5": "Fox News",
                  "6": "07-09-2024"
                },
                {
                  "0": "How to watch every New England Patriots game in the 2024-2025 NFL season",
                  "1": "The New England Patriots will play one Thursday Night Football game, 11 1 p.m. games and one NFL Network-exclusive game from London. You can watch the Patriots this season on CBS, NFL Network, Fox, and Prime Video. All times Eastern.",
                  "2": "Sports",
                  "3": "https://www.cbsnews.com/essentials/how-to-watch-every-new-england-patriots-game-in-the-2024-2025-nfl-season/",
                  "4": "https://www.bing.com/th?id=OVFT.gKbs_SVVSJ8CCnhPsNq_My&pid=News",
                  "5": "CBS News",
                  "6": "06-09-2024"
                },
                {
                  "0": "Manchester United transfer news LIVE Yoro injury boost, Casemiro updates and Rabiot latest",
                  "1": "Latest Man United transfer news and rumours with updates on the future of Casemiro, Antony and free agent Adrien Rabiot",
                  "2": "Sports",
                  "3": "https://www.manchestereveningnews.co.uk/sport/football/transfer-news/manchester-united-transfer-news-live-29879741",
                  "4": "https://www.bing.com/th?id=OVFT.CcHJhAPmR8qX0TuPyr4bAi&pid=News",
                  "5": "Manchester Evening News",
                  "6": "06-09-2024"
                },
                {
                  "0": "Liverpool news: Fresh injury blow as Reds star speaks out over game time",
                  "1": "Liverpool have won all three of their Premier League games so far under Arne Slot but the Dutchman has already received some worrying injury news during the international break",
                  "2": "Sports",
                  "3": "https://www.mirror.co.uk/sport/football/news/liverpool-arne-slot-injury-update-33616585",
                  "4": "https://www.bing.com/th?id=OVFT.T4oSmtB1wS7kBkBzm1HTqy&pid=News",
                  "5": "The Mirror",
                  "6": "07-09-2024"
                },
                {
                  "0": "Live AFL finals scores 2024, Sydney Swans vs GWS Giants, First Qualifying Final: Updates, stats, blog, start time, teams, latest news",
                  "1": "In contrast the Giants (4th, 15-8, 109.1%) won seven straight games to secure a top-four finish, before a Round 24 hiccup. They have won all three previous finals against Sydney, always winning as the lower-ranked side (like they are today).",
                  "2": "Sports",
                  "3": "https://www.foxsports.com.au/afl/live-afl-finals-scores-2024-sydney-swans-vs-gws-giants-first-qualifying-final-updates-stats-blog-start-time-teams-latest-news/news-story/f4b7fc01c4d81ec9656ed5c8a8140ce6",
                  "4": "https://www.bing.com/th?id=OVFT.iuevagAJ_L_im4VNPR3RSy&pid=News",
                  "5": "Fox Sports",
                  "6": "06-09-2024"
                },
                {
                  "0": "Judge delays sentencing in Trump's New York criminal case, pushing decision past election",
                  "1": "Trump was convicted in May on 34 felony counts of falsifying business records in relation to a \"hush money\" payment to an adult film star before the 2016 election.",
                  "3": "https://www.cbsnews.com/news/trump-sentencing-delay-hush-money-case-new-york/",
                  "4": "https://www.bing.com/th?id=OVFT.ztoKdKkhPoQudrkhSrPzNC&pid=News",
                  "5": "CBS News",
                  "6": "06-09-2024"
                },
                {
                  "0": "'Life here is much more easy': Migrants tell Sky News why PM's pledge to 'smash the gangs' won't work",
                  "1": "Migrants say they don't believe government efforts to tackle smuggling gangs will stop illegal migration, with \"thousands\" of people willing to take the money of those determined to get to the UK.",
                  "2": "LifeStyle",
                  "3": "https://news.sky.com/story/starmers-pledge-to-smash-the-gangs-wont-stop-small-boat-crossings-migrants-explain-why-13210689",
                  "4": "https://www.bing.com/th?id=OVFT.stynnzLBt8KhhA6iVz1ATC&pid=News",
                  "5": "Sky",
                  "6": "06-09-2024"
                },
                {
                  "0": "Mark Wood laments latest England injury setback after 'rubbish news'",
                  "1": "Mark Wood laments latest England injury setback after 'rubbish news' - Fast bowler to miss the rest of the year with longstanding elbow problem",
                  "2": "Sports",
                  "3": "https://www.msn.com/en-gb/health/other/mark-wood-laments-latest-england-injury-setback-after-rubbish-news/ar-AA1q8pwv",
                  "4": "https://www.bing.com/th?id=OVFT.OV9LVBzQ3_BsWcBPMDsnNi&pid=News",
                  "5": "Evening Standard on MSN.com",
                  "6": "06-09-2024"
                },
                {
                  "0": "When can you see the fall foliage in New England? Farmers' Almanac shares predictions",
                  "1": "New Englanders get ready to see picturesque sights from the fall foliage. Some states may see beautiful leaves by the end of September.",
                  "2": "LifeStyle",
                  "3": "https://www.usatoday.com/story/news/graphics/2024/09/07/new-england-fall-foliage-maps-2024/75106801007/",
                  "4": "https://www.bing.com/th?id=OVFT.MWH9RPjaTsuAtkkA5WJa2y&pid=News",
                  "5": "USA Today",
                  "6": "07-09-2024"
                },
                {
                  "0": "Afghanistan vs New Zealand One-Off Test: Date, Time, Venue, Live streaming, Tickets & More Details",
                  "1": "Afghanistan are set to host New Zealand for a one-off Test match in India. Here's all the crucial details about the one-off Test.",
                  "2": "Sports",
                  "3": "https://news.abplive.com/sports/cricket/afghanistan-vs-new-zealand-test-greater-noida-date-time-venue-live-streaming-how-to-buy-tickets-1715603",
                  "4": "https://www.bing.com/th?id=OVFT.oxtPfWa6dhthZliiqfsSSi&pid=News",
                  "5": "abp LIVE",
                  "6": "07-09-2024"
                },
                {
                  "0": "NBC scales back The Tonight Show Starring Jimmy Fallon in latest blow to late night TV",
                  "1": "Network also recently announced it was cutting the house band from ‘Late Night with Seth Meyers’ due to budget cuts",
                  "2": "Entertainment",
                  "3": "https://www.independent.co.uk/arts-entertainment/tv/news/the-tonight-show-starring-jimmy-fallon-fridays-b2608563.html",
                  "4": "https://www.bing.com/th?id=OVFT.mUzH2QocYWldE2Fn_8vYmC&pid=News",
                  "5": "The Independent",
                  "6": "06-09-2024"
                },
                {
                  "0": "Mixed news on US jobs: Unemployment rate falls but hiring is slowing",
                  "1": "The US economy is expected to have added 160,000 jobs last month and the unemployment rate likely dropped to 4.2% from 4.3%.",
                  "2": "Business",
                  "3": "https://www.cnn.com/business/live-news/us-jobs-report-august-2024/index.html",
                  "4": "https://www.bing.com/th?id=OVFT._oHNZeSF4zvYz1s9JsMo8y&pid=News",
                  "5": "CNN",
                  "6": "06-09-2024"
                },
                {
                  "0": "Uncrewed Starliner undocks from ISS, heads for New Mexico landing at night",
                  "1": "The uncrewed Boeing Starliner successfully undocked from the International Space Station on Friday and began heading back to Earth with a landing scheduled in New Mexico within six hours.",
                  "2": "ScienceAndTechnology",
                  "3": "https://www.upi.com/Science_News/2024/09/06/Uncrewed-Starliner-undock-ISS-Friday-evening-land-6-hours-later/6441725647280/",
                  "4": "https://www.bing.com/th?id=OVFT.o3bscDQPWSHoTIkXnWqH-C&pid=News",
                  "5": "UPI",
                  "6": "06-09-2024"
                },
                {
                  "0": "Donald Trump and Kamala Harris race closest since 1960 and one thing could decide it, new forecast reveals",
                  "1": "Kennedy narrowly beat Richard Nixon in 1960, according to a new forecast. It comes as Donald Trump and Kamala Harris prepare for their crunch TV debate on Tuesday. Follow all the latest election news with Dailymail.com.",
                  "3": "https://www.msn.com/en-au/news/australia/race-between-trump-and-kamala-could-be-closest-since-1960/ar-AA1q792N",
                  "4": "https://www.bing.com/th?id=OVFT.JdZIXZD3BXxt9CAKu0tByy&pid=News",
                  "5": "Daily Mail on MSN.com",
                  "6": "06-09-2024"
                },
                {
                  "0": "Newcastle United transfer news LIVE - Gordon's summer verdict, injury boost",
                  "1": "All the latest Newcastle United news with the Magpies stars representing their countries on international duty",
                  "2": "Sports",
                  "3": "https://www.chroniclelive.co.uk/sport/football/football-news/newcastle-united-transfer-news-live-29881426",
                  "5": "Evening Chronicle",
                  "6": "06-09-2024"
                },
                {
                  "0": "Pope Francis urges stewardship of Papua New Guinea’s resources, peace among tribes",
                  "1": "In his address to officials in Port Moresby, Pope Francis called for responsible use of natural resources, an end to tribal conflict, and celebrated Papua New Guinea's cultural diversity.",
                  "2": "World",
                  "3": "https://www.catholicnewsagency.com/news/259165/pope-francis-to-png-protect-nature-end-tribal-violence-embrace-diversity",
                  "5": "Catholic News Agency",
                  "6": "07-09-2024"
                },
                {
                  "0": "Kings of Leon talk return and new sound on ninth album",
                  "1": "Rock group Kings of Leon, who exploded onto the music scene in 2008 with songs like “Use Somebody” and “Sex on Fire,” returned to the studio with a fresh sound for their ninth album. The band sits down with NBC News' Chloe Melas to talk about their return and their latest album \"Can We Please Have Fun.",
                  "2": "Entertainment",
                  "3": "https://www.nbcnews.com/now/video/kings-of-leon-talk-return-and-new-sound-on-ninth-album-218809925633",
                  "5": "NBC News",
                  "6": "07-09-2024"
                },
                {
                  "0": "Starmer Dublin visit 'marks new era' of friendship",
                  "1": "Sir Keir Starmer will become the first British prime minister to visit the Republic of Ireland in five years on Saturday. Downing Street says it marks a \"new era of co-operation and friendship\" between Britain and Ireland.",
                  "2": "Politics",
                  "3": "https://www.bbc.co.uk/news/articles/cg58l93gz64o",
                  "4": "https://www.bing.com/th?id=OVFT.DYeMXZArrUdQh6Wov34GDS&pid=News",
                  "5": "BBC",
                  "6": "07-09-2024"
                },
                {
                  "0": "Plans for new sports pitches and pavilion approved",
                  "1": "Plans for a new sports pavilion along with artificial and grass football pitches have been given the green light. The proposals, for land opposite Blackbird Close in Newdale, Telford, also include access improvements for vehicle and cycle parking, landscaping and other associated works.",
                  "3": "https://www.bbc.co.uk/news/articles/cm23g014807o",
                  "4": "https://www.bing.com/th?id=OVFT.hbGw5xXqNn-Q8txb07xPzy&pid=News",
                  "5": "BBC",
                  "6": "07-09-2024"
                },
                {
                  "0": "New Images of Mercury Show Speckled Surface in Sharp Detail",
                  "1": "BepiColombo, a joint European-Japanese mission, completed its latest flyby of Mercury, sending back a sneak peek of the cratered planet it will begin to orbit in 2026.",
                  "2": "ScienceAndTechnology",
                  "3": "https://www.nytimes.com/2024/09/07/science/mercury-images-bepicolombo.html",
                  "4": "https://www.bing.com/th?id=OVFT.Yb-GmuGWa0uk1PRWb5TOkS&pid=News",
                  "5": "The New York Times",
                  "6": "07-09-2024"
                },
                {
                  "0": "Palm Beach County election news: Harris-Walz bus tour takes off, Barron Trump attends NYU",
                  "1": "Harris-Walz campaign starts tour for reproductive rights; Donald Trump began to lose voters; Barron Trump attends NYU.",
                  "2": "Politics",
                  "3": "https://www.usatoday.com/story/news/politics/elections/2024/09/06/palm-beach-county-news-barron-trump-attends-nyu-harris-walz-bus-tour/75078625007/",
                  "4": "https://www.bing.com/th?id=OVFT.RnQVd8gUfL-rAt5zEAYxYS&pid=News",
                  "5": "USA Today",
                  "6": "06-09-2024"
                },
                {
                  "0": "Very Bad News For ‘Rings Of Power’ Season 3, As Season 2 Viewership Plummets",
                  "1": "ForbesThere’s Only One Good Thing About ‘The Rings Of Power’ Season 2 So FarBy Erik Kain According to Samba TV data, 1.8 million U.S. households watched the first episode of Season 1 within three days of it landing on Prime Video.",
                  "2": "Entertainment",
                  "3": "https://www.forbes.com/sites/erikkain/2024/09/05/very-bad-news-for-rings-of-power-season-3-as-season-2-viewership-plummets/",
                  "4": "https://www.bing.com/th?id=OVFT.cteNcMfbsFStWkkS5HnJ5S&pid=News",
                  "5": "Forbes",
                  "6": "07-09-2024"
                },
                {
                  "0": "The latest on the Georgia high school shooting",
                  "1": "The teen suspected in Wednesday’s deadly mass shooting at a Georgia high school will have an initial hearing in court Friday morning, the Georgia Department of Juvenile Justice tells CNN.",
                  "3": "https://www.cnn.com/us/live-news/georgia-shooting-apalachee-high-school-09-06-24/index.html",
                  "4": "https://www.bing.com/th?id=OVFT.MjvEGDEO5zR9VQAQCFeqCS&pid=News",
                  "5": "CNN",
                  "6": "06-09-2024"
                },
                {
                  "0": "How Linkin Park found its way back with new singer Emily Armstrong",
                  "1": "Linkin Park is back. Seven years after the death of frontman Chester Bennington, the band is back together with two new additions.",
                  "2": "Entertainment",
                  "3": "https://www.aol.com/entertainment/linkin-park-found-way-back-005301825.html",
                  "4": "https://www.bing.com/th?id=OVFT.mJFEoC5kw43LgbfXjsANgy&pid=News",
                  "5": "AOL",
                  "6": "07-09-2024"
                },
                {
                  "0": "September 6 Georgia school shooting news",
                  "1": "The teen suspected in the deadly mass shooting at a Georgia high school and his father had initial hearings in court Friday morning. Follow for live news updates.",
                  "3": "https://edition.cnn.com/us/live-news/georgia-shooting-apalachee-high-school-09-06-24",
                  "4": "https://www.bing.com/th?id=OVFT.MjvEGDEO5zR9VQAQCFeqCS&pid=News",
                  "5": "CNN",
                  "6": "06-09-2024"
                },
                {
                  "0": "Thailand's king swears in new government after turmoil",
                  "1": "Thailand's King Maha Vajiralongkorn swore in Prime Minister Paetongtarn Shinawatra and 35 cabinet ministers in Bangkok on Friday, ushering in a new government in Southeast Asia's second largest economy after a period of political turmoil.",
                  "2": "World",
                  "3": "https://www.reuters.com/world/asia-pacific/thailands-king-swears-new-government-after-turmoil-2024-09-06/",
                  "4": "https://www.bing.com/th?id=OVFT.tykS77xPzz1Kl36MslLAhS&pid=News",
                  "5": "Reuters",
                  "6": "06-09-2024"
                },
                {
                  "0": "iPhone 16 Release Date Latest: What To Expect When And Where",
                  "1": "The countdown is on and the next iPhones are almost here. Here’s the latest on what’s happening when, including what the pricing is set to be, so nothing surprises you.",
                  "2": "ScienceAndTechnology",
                  "3": "https://www.forbes.com/sites/davidphelan/2024/09/06/iphone-16-release-date-latest-what-to-expect-when-and-where/",
                  "4": "https://www.bing.com/th?id=OVFT.Mi8TQXahHPIzBa8JfJP_xi&pid=News",
                  "5": "Forbes",
                  "6": "06-09-2024"
                },
                {
                  "0": "Reese Witherspoon seen with new mystery man: what to know about wealthy NHL investor",
                  "1": "Reese Witherspoon and financier Oliver Haarmann have been photographed together over the past few months. The pair have reportedly moved their relationship to the next level.",
                  "2": "Entertainment",
                  "3": "https://www.foxnews.com/entertainment/reese-witherspoon-seen-new-mystery-man-what-know-about-wealthy-nhl-investor",
                  "5": "Fox News",
                  "6": "07-09-2024"
                },
                {
                  "0": "Sabrina Carpenter Put Kevin Bacon in Her New Song. His Reaction on FaceTime with His Daughter Is Perfect",
                  "1": "Kevin Bacon shared a recent Instagram clip of the hilarious moment in which his daughter Sosie Bacon told him that Sabrina Carpenter's song 'Taste' seemingly references 'Six Degrees of Kevin Bacon.'",
                  "2": "Entertainment",
                  "3": "https://people.com/sabrina-carpenter-put-kevin-bacon-in-her-new-song-his-reaction-on-facetime-with-his-daughter-is-perfect-8707891",
                  "5": "People",
                  "6": "06-09-2024"
                },
                {
                  "0": "IFA 2024: all the news from the big Berlin tech show",
                  "1": "IFA, Europe’s huge consumer tech expo, attracts some of the biggest companies in the world. It’s like a counterpart to CES in the United States, which happens in January, whereas IFA caps off the summer with news on the latest smartphones, fridges, robot vacuums, laptops, and “AI-powered” products from A to Z.",
                  "2": "ScienceAndTechnology",
                  "3": "https://www.theverge.com/2024/9/3/24231736/ifa-2024-news-products-updates-highlights-berlin/archives/2",
                  "4": "https://www.bing.com/th?id=OVFT.YE-wxhboHe4xjAVSPqFjUC&pid=News",
                  "5": "The Verge",
                  "6": "06-09-2024"
                },
                {
                  "0": "Saskatchewan Election 2024 | Sask. Election News and Polls | CTV News Saskatchewan",
                  "1": "Speaker cuts ties with Sask. Party, alleges he faced threats, harassment from gov't MLAs. The Speaker of the Saskatchewan Legislature Randy Weekes has severed ties with the Sask.",
                  "3": "https://regina.ctvnews.ca/saskatchewan-election-2024",
                  "5": "CTV News",
                  "6": "06-09-2024"
                },
                {
                  "0": "The latest in the 2024 presidential race",
                  "1": "With just days until the debate, Donald Trump is traveling to battleground North Carolina this afternoon while Vice President Kamala Harris is expected to continue to prepare for the event in Pennsylvania.",
                  "2": "Politics",
                  "3": "https://edition.cnn.com/politics/live-news/trump-harris-election-09-06-24/index.html",
                  "4": "https://www.bing.com/th?id=OVFT.CZzav2isTPHdHcJhBXw-zi&pid=News",
                  "5": "CNN",
                  "6": "06-09-2024"
                },
                {
                  "0": "Three out of four parents of children with special educational needs and disabilities forced to give up work or cut hours, Sky News learns",
                  "1": "In a survey commissioned by Sky News, parents of children with special educational needs and disabilities (SEND) said maintaining a job is difficult due to a lack of local authority help, while others blamed not enough school support and lack of employer flexibility.",
                  "2": "LifeStyle",
                  "3": "https://news.sky.com/story/three-out-of-four-parents-of-children-with-special-educational-needs-and-disabilities-forced-to-give-up-work-or-cut-hours-sky-news-learns-13210125",
                  "4": "https://www.bing.com/th?id=OVFT.HZFLV2EfJyTHB2ZwXuxNli&pid=News",
                  "5": "Sky",
                  "6": "06-09-2024"
                },
                {
                  "0": "Royal family - news: Meghan Markle suffers major setback as Prince William sports surprising back-to-work look",
                  "1": "News of the setback comes as Prince William returned to work sporting a stubble on a visit to a homelessness exhibition in his first official engagement since the summer break. William first revealed the rugged look in a surprise video with Kate last month as they congratulated Team GB on their Olympic success.",
                  "2": "Politics",
                  "3": "https://www.independent.co.uk/news/uk/home-news/william-harry-charles-meghan-markle-royal-family-latest-news-b2608060.html?page=2",
                  "5": "The Independent",
                  "6": "06-09-2024"
                },
                {
                  "0": "Grains Turn Mixed Despite Strong New Crop Exports: Are the Markets Running Out of Gas?",
                  "1": "He says the recent rally in the grains follows the seasonal patterns and while demand news and weather have been helpful, most of the push has been fund short covering. Crude oil tries to recover after one of the worst week's in a year, but what does that mean for the ag sector?",
                  "2": "Business",
                  "3": "https://www.agweb.com/markets/market-analysis/grains-turn-mixed-despite-strong-new-crop-exports-are-markets-running-out",
                  "5": "AgWeb",
                  "6": "06-09-2024"
                },
                {
                  "0": "Erling Haaland 'closes on lucrative new Man City contract' - but Real Madrid hopes of signing superstar 'boosted by release clause'",
                  "1": "Erling Haaland is reportedly close to committing his future to Manchester City by signing a lucrative contract extension - but the deal is expected to contain a release clause.",
                  "2": "Sports",
                  "3": "https://www.dailymail.co.uk/sport/football/article-13823961/Erling-Haaland-Man-City-contract-Real-Madrid-release-clause.html",
                  "5": "Daily Mail",
                  "6": "07-09-2024"
                },
                {
                  "0": "Opinion: Canada must model Norway's balanced energy sector",
                  "1": "Canada needs to recognize itself as the energy giant that it is, and more importantly, realize how much greater of a giant it can be, while also being a leader in the energy transition. Unfortunately, we lack a cohesive, pragmatic culture and a fact-based narrative around energy, especially around fossil fuels, to take us to the next level.",
                  "2": "Business",
                  "3": "https://nationalpost.com/opinion/opinion-canada-must-model-norways-balanced-energy-sector",
                  "4": "https://www.bing.com/th?id=OVFT.y1p7S37SRz3PBssKqc8xqi&pid=News",
                  "5": "National Post",
                  "6": "06-09-2024"
                },
                {
                  "0": "Kate Middleton fans celebrate Princess of Wales’ ‘lovely’ new X post amid cancer battle",
                  "1": "The Princess of Wales, 42, delighted fans on Friday with a sweet note on X congratulating TV presenter Dwayne Fields on becoming UK’s new Chief Scout.",
                  "2": "Entertainment",
                  "3": "https://pagesix.com/2024/09/06/royal-family/kate-middleton-fans-celebrate-princess-of-wales-new-x-post-amid-cancer-battle/",
                  "5": "Page Six",
                  "6": "06-09-2024"
                },
                {
                  "0": "Georgia school shooting latest: 14-year-old suspect set to appear in court",
                  "1": "The 14-year-old boy accused of fatally shooting four people at a Georgia high school was expected to make his first court appearance Friday.",
                  "3": "https://6abc.com/post/georgia-high-school-shooting-colt-gray-teen-suspect-accused-apalachee-hs-due-court/15273486/",
                  "5": "6abc News",
                  "6": "06-09-2024"
                },
                {
                  "0": "Georgia school shooting latest: 14-year-old suspect charged with murder, father also charged",
                  "1": "The 14-year-old suspect behind Wednesday's deadly school shooting in Georgia has been charged with four counts of felony murder.",
                  "3": "https://abc13.com/post/georgia-high-school-shooting-questions-surround-weapon-motive-deadly-incident-apalachee/15270304/",
                  "5": "abc13",
                  "6": "06-09-2024"
                },
                {
                  "0": "US activist killed near Nablus, Hamas add new demands",
                  "1": "American-Turkish activist killed by IDF near Nablus • Hamas add new demands for ceasefire • UK lawyers for Israel warn ICC prosecutor of breaching rules",
                  "2": "World",
                  "3": "https://www.jpost.com/israel-hamas-war/2024-09-07/live-updates-819061",
                  "5": "The Jerusalem Post Blogs",
                  "6": "07-09-2024"
                },
                {
                  "0": "Jonathan and Drew Scott renovate their parents' new LA home — take a tour",
                  "1": "\"Property Brothers\" duo Jonathan and Drew Scott have unveiled a project that they hold near and dear to their hearts. The HGTV stars shared in the September/October issue of HGTV Magazine that they recently gave their parents, Joanne and Jim Scott, the ultimate home makeover.",
                  "2": "LifeStyle",
                  "3": "https://www.today.com/home/property-brothers-parents-home-renovation-rcna169549",
                  "4": "https://www.bing.com/th?id=OVFT.lujcvQ_MYzmrknVgnA3ISy&pid=News",
                  "5": "Today",
                  "6": "06-09-2024"
                },
                {
                  "0": "County Alcohol Board Reviews Violations, Transfers And A New License",
                  "1": "On the docket for the Kosciusko County Alcohol and Tobacco Commission on Thursday, Sept. 5, were three license transfers, one new license application, two renewals with violations and 14 renewals without violations.",
                  "3": "https://www.inkfreenews.com/2024/09/06/county-alcohol-board-reviews-violations-transfers-and-a-new-license/",
                  "5": "InkFreeNews",
                  "6": "06-09-2024"
                }
              ],
              "schema": [
                {
                  "key": "0",
                  "name": "title",
                  "type": "string"
                },
                {
                  "key": "1",
                  "name": "description",
                  "type": "string"
                },
                {
                  "key": "2",
                  "name": "category",
                  "type": "string"
                },
                {
                  "key": "3",
                  "name": "url",
                  "type": "string"
                },
                {
                  "key": "4",
                  "name": "image",
                  "type": "string"
                },
                {
                  "key": "5",
                  "name": "provider",
                  "type": "string"
                },
                {
                  "key": "6",
                  "name": "datePublished",
                  "type": "string"
                }
              ],
              "truncated": false
            },
            "isSummary": false,
            "language": "scala"
          },
          "persist_state": {
            "view": {
              "type": "details",
              "tableOptions": {},
              "chartOptions": {
                "chartType": "bar",
                "aggregationType": "count",
                "categoryFieldKeys": [
                  "0"
                ],
                "seriesFieldKeys": [
                  "0"
                ],
                "isStacked": false
              }
            }
          }
        }
      }
    }
  },
  "nbformat": 4,
  "nbformat_minor": 2
}